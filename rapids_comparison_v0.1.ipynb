{
  "nbformat": 4,
  "nbformat_minor": 0,
  "metadata": {
    "colab": {
      "provenance": [],
      "collapsed_sections": [],
      "include_colab_link": true
    },
    "kernelspec": {
      "name": "python3",
      "display_name": "Python 3"
    },
    "accelerator": "GPU"
  },
  "cells": [
    {
      "cell_type": "markdown",
      "metadata": {
        "id": "view-in-github",
        "colab_type": "text"
      },
      "source": [
        "<a href=\"https://colab.research.google.com/github/MoronSlayer/Deep-Learning-Projects/blob/learner/rapids_comparison_v0.1.ipynb\" target=\"_parent\"><img src=\"https://colab.research.google.com/assets/colab-badge.svg\" alt=\"Open In Colab\"/></a>"
      ]
    },
    {
      "cell_type": "markdown",
      "metadata": {
        "id": "scfLT2i0MLyD"
      },
      "source": [
        "# Environment Sanity Check #\n",
        "\n",
        "Click the _Runtime_ dropdown at the top of the page, then _Change Runtime Type_ and confirm the instance type is _GPU_.\n",
        "\n",
        "Check the output of `!nvidia-smi` to make sure you've been allocated a Tesla T4, P4, or P100."
      ]
    },
    {
      "cell_type": "code",
      "metadata": {
        "id": "67T0090Jk2KL",
        "outputId": "bc24c073-a315-4167-fdc6-2b1a43c5575e",
        "colab": {
          "base_uri": "https://localhost:8080/"
        }
      },
      "source": [
        "!nvidia-smi"
      ],
      "execution_count": 1,
      "outputs": [
        {
          "output_type": "stream",
          "name": "stdout",
          "text": [
            "Fri Sep 30 00:38:05 2022       \n",
            "+-----------------------------------------------------------------------------+\n",
            "| NVIDIA-SMI 460.32.03    Driver Version: 460.32.03    CUDA Version: 11.2     |\n",
            "|-------------------------------+----------------------+----------------------+\n",
            "| GPU  Name        Persistence-M| Bus-Id        Disp.A | Volatile Uncorr. ECC |\n",
            "| Fan  Temp  Perf  Pwr:Usage/Cap|         Memory-Usage | GPU-Util  Compute M. |\n",
            "|                               |                      |               MIG M. |\n",
            "|===============================+======================+======================|\n",
            "|   0  Tesla T4            Off  | 00000000:00:04.0 Off |                    0 |\n",
            "| N/A   52C    P8     9W /  70W |      0MiB / 15109MiB |      0%      Default |\n",
            "|                               |                      |                  N/A |\n",
            "+-------------------------------+----------------------+----------------------+\n",
            "                                                                               \n",
            "+-----------------------------------------------------------------------------+\n",
            "| Processes:                                                                  |\n",
            "|  GPU   GI   CI        PID   Type   Process name                  GPU Memory |\n",
            "|        ID   ID                                                   Usage      |\n",
            "|=============================================================================|\n",
            "|  No running processes found                                                 |\n",
            "+-----------------------------------------------------------------------------+\n"
          ]
        }
      ]
    },
    {
      "cell_type": "markdown",
      "metadata": {
        "id": "CtNdk7PSafKP"
      },
      "source": [
        "#Setup:\n",
        "Set up script installs\n",
        "1. Updates gcc in Colab\n",
        "1. Installs Conda\n",
        "1. Install RAPIDS' current stable version of its libraries, as well as some external libraries including:\n",
        "  1. cuDF\n",
        "  1. cuML\n",
        "  1. cuGraph\n",
        "  1. cuSpatial\n",
        "  1. cuSignal\n",
        "  1. BlazingSQL\n",
        "  1. xgboost\n",
        "1. Copy RAPIDS .so files into current working directory, a neccessary workaround for RAPIDS+Colab integration.\n"
      ]
    },
    {
      "cell_type": "code",
      "source": [
        "!pip install pynvml"
      ],
      "metadata": {
        "colab": {
          "base_uri": "https://localhost:8080/"
        },
        "id": "8ZFKMwVpbYms",
        "outputId": "b9f6cee1-3e38-4ee0-939d-0b5cebf82bb1"
      },
      "execution_count": 3,
      "outputs": [
        {
          "output_type": "stream",
          "name": "stdout",
          "text": [
            "Looking in indexes: https://pypi.org/simple, https://us-python.pkg.dev/colab-wheels/public/simple/\n",
            "Collecting pynvml\n",
            "  Downloading pynvml-11.4.1-py3-none-any.whl (46 kB)\n",
            "\u001b[K     |████████████████████████████████| 46 kB 3.8 MB/s \n",
            "\u001b[?25hInstalling collected packages: pynvml\n",
            "Successfully installed pynvml-11.4.1\n"
          ]
        }
      ]
    },
    {
      "cell_type": "code",
      "metadata": {
        "id": "B0C8IV5TQnjN",
        "outputId": "36fed14b-fea5-4c37-88b8-89f2bf1af95c",
        "colab": {
          "base_uri": "https://localhost:8080/"
        }
      },
      "source": [
        "# This get the RAPIDS-Colab install files and test check your GPU.  Run this and the next cell only.\n",
        "# Please read the output of this cell.  If your Colab Instance is not RAPIDS compatible, it will warn you and give you remediation steps.\n",
        "!git clone https://github.com/rapidsai/rapidsai-csp-utils.git\n",
        "!python rapidsai-csp-utils/colab/env-check.py"
      ],
      "execution_count": 2,
      "outputs": [
        {
          "output_type": "stream",
          "name": "stdout",
          "text": [
            "Cloning into 'rapidsai-csp-utils'...\n",
            "remote: Enumerating objects: 300, done.\u001b[K\n",
            "remote: Counting objects: 100% (129/129), done.\u001b[K\n",
            "remote: Compressing objects: 100% (74/74), done.\u001b[K\n",
            "remote: Total 300 (delta 74), reused 99 (delta 55), pack-reused 171\u001b[K\n",
            "Receiving objects: 100% (300/300), 87.58 KiB | 12.51 MiB/s, done.\n",
            "Resolving deltas: 100% (136/136), done.\n",
            "Traceback (most recent call last):\n",
            "  File \"rapidsai-csp-utils/colab/env-check.py\", line 1, in <module>\n",
            "    import pynvml\n",
            "ModuleNotFoundError: No module named 'pynvml'\n"
          ]
        }
      ]
    },
    {
      "cell_type": "code",
      "metadata": {
        "id": "4sKA_9Dbg4s2",
        "colab": {
          "base_uri": "https://localhost:8080/"
        },
        "outputId": "c7889695-1d39-439f-9e71-336131708b64"
      },
      "source": [
        "# This will update the Colab environment and restart the kernel.  Don't run the next cell until you see the session crash.\n",
        "!bash rapidsai-csp-utils/colab/update_gcc.sh\n",
        "import os\n",
        "os._exit(00)"
      ],
      "execution_count": null,
      "outputs": [
        {
          "output_type": "stream",
          "name": "stdout",
          "text": [
            "Updating your Colab environment.  This will restart your kernel.  Don't Panic!\n",
            "Get:1 https://cloud.r-project.org/bin/linux/ubuntu bionic-cran40/ InRelease [3,626 B]\n",
            "Hit:2 http://ppa.launchpad.net/c2d4u.team/c2d4u4.0+/ubuntu bionic InRelease\n",
            "Get:3 http://security.ubuntu.com/ubuntu bionic-security InRelease [88.7 kB]\n",
            "Ign:4 https://developer.download.nvidia.com/compute/machine-learning/repos/ubuntu1804/x86_64  InRelease\n",
            "Get:5 https://developer.download.nvidia.com/compute/cuda/repos/ubuntu1804/x86_64  InRelease [1,581 B]\n",
            "Hit:6 https://developer.download.nvidia.com/compute/machine-learning/repos/ubuntu1804/x86_64  Release\n",
            "Get:7 https://developer.download.nvidia.com/compute/cuda/repos/ubuntu1804/x86_64  Packages [913 kB]\n",
            "Hit:9 http://archive.ubuntu.com/ubuntu bionic InRelease\n",
            "Hit:10 http://ppa.launchpad.net/cran/libgit2/ubuntu bionic InRelease\n",
            "Get:11 http://archive.ubuntu.com/ubuntu bionic-updates InRelease [88.7 kB]\n",
            "Hit:12 http://ppa.launchpad.net/deadsnakes/ppa/ubuntu bionic InRelease\n",
            "Get:13 http://security.ubuntu.com/ubuntu bionic-security/main amd64 Packages [2,990 kB]\n",
            "Get:14 http://ppa.launchpad.net/graphics-drivers/ppa/ubuntu bionic InRelease [21.3 kB]\n",
            "Get:15 http://archive.ubuntu.com/ubuntu bionic-backports InRelease [83.3 kB]\n",
            "Get:16 http://ppa.launchpad.net/ubuntu-toolchain-r/test/ubuntu bionic InRelease [20.8 kB]\n",
            "Get:17 http://archive.ubuntu.com/ubuntu bionic-updates/main amd64 Packages [3,422 kB]\n",
            "Get:18 http://security.ubuntu.com/ubuntu bionic-security/universe amd64 Packages [1,546 kB]\n",
            "Get:19 http://ppa.launchpad.net/graphics-drivers/ppa/ubuntu bionic/main amd64 Packages [48.3 kB]\n",
            "Get:20 http://ppa.launchpad.net/ubuntu-toolchain-r/test/ubuntu bionic/main amd64 Packages [50.4 kB]\n",
            "Get:21 http://archive.ubuntu.com/ubuntu bionic-updates/universe amd64 Packages [2,323 kB]\n",
            "Fetched 11.6 MB in 4s (3,015 kB/s)\n",
            "Reading package lists... Done\n",
            "Added repo\n",
            "Hit:1 https://cloud.r-project.org/bin/linux/ubuntu bionic-cran40/ InRelease\n",
            "Hit:2 http://ppa.launchpad.net/c2d4u.team/c2d4u4.0+/ubuntu bionic InRelease\n",
            "Ign:3 https://developer.download.nvidia.com/compute/machine-learning/repos/ubuntu1804/x86_64  InRelease\n",
            "Hit:4 https://developer.download.nvidia.com/compute/cuda/repos/ubuntu1804/x86_64  InRelease\n",
            "Hit:5 https://developer.download.nvidia.com/compute/machine-learning/repos/ubuntu1804/x86_64  Release\n",
            "Hit:6 http://archive.ubuntu.com/ubuntu bionic InRelease\n",
            "Hit:7 http://security.ubuntu.com/ubuntu bionic-security InRelease\n",
            "Hit:9 http://archive.ubuntu.com/ubuntu bionic-updates InRelease\n",
            "Hit:10 http://ppa.launchpad.net/cran/libgit2/ubuntu bionic InRelease\n",
            "Hit:11 http://archive.ubuntu.com/ubuntu bionic-backports InRelease\n",
            "Hit:12 http://ppa.launchpad.net/deadsnakes/ppa/ubuntu bionic InRelease\n",
            "Hit:13 http://ppa.launchpad.net/graphics-drivers/ppa/ubuntu bionic InRelease\n",
            "Hit:14 http://ppa.launchpad.net/ubuntu-toolchain-r/test/ubuntu bionic InRelease\n",
            "Reading package lists... Done\n",
            "Installing libstdc++\n",
            "Reading package lists... Done\n",
            "Building dependency tree       \n",
            "Reading state information... Done\n",
            "Selected version '11.1.0-1ubuntu1~18.04.1' (Toolchain test builds:18.04/bionic [amd64]) for 'libstdc++6'\n",
            "The following package was automatically installed and is no longer required:\n",
            "  libnvidia-common-460\n",
            "Use 'sudo apt autoremove' to remove it.\n",
            "The following additional packages will be installed:\n",
            "  gcc-11-base libgcc-s1\n",
            "The following NEW packages will be installed:\n",
            "  gcc-11-base libgcc-s1\n",
            "The following packages will be upgraded:\n",
            "  libstdc++6\n",
            "1 upgraded, 2 newly installed, 0 to remove and 31 not upgraded.\n",
            "Need to get 641 kB of archives.\n",
            "After this operation, 981 kB of additional disk space will be used.\n",
            "Get:1 http://ppa.launchpad.net/ubuntu-toolchain-r/test/ubuntu bionic/main amd64 gcc-11-base amd64 11.1.0-1ubuntu1~18.04.1 [19.0 kB]\n",
            "Get:2 http://ppa.launchpad.net/ubuntu-toolchain-r/test/ubuntu bionic/main amd64 libgcc-s1 amd64 11.1.0-1ubuntu1~18.04.1 [41.8 kB]\n",
            "Get:3 http://ppa.launchpad.net/ubuntu-toolchain-r/test/ubuntu bionic/main amd64 libstdc++6 amd64 11.1.0-1ubuntu1~18.04.1 [580 kB]\n",
            "Fetched 641 kB in 3s (251 kB/s)\n",
            "debconf: unable to initialize frontend: Dialog\n",
            "debconf: (No usable dialog-like program is installed, so the dialog based frontend cannot be used. at /usr/share/perl5/Debconf/FrontEnd/Dialog.pm line 76, <> line 3.)\n",
            "debconf: falling back to frontend: Readline\n",
            "debconf: unable to initialize frontend: Readline\n",
            "debconf: (This frontend requires a controlling tty.)\n",
            "debconf: falling back to frontend: Teletype\n",
            "dpkg-preconfigure: unable to re-open stdin: \n",
            "Selecting previously unselected package gcc-11-base:amd64.\n",
            "(Reading database ... 159447 files and directories currently installed.)\n",
            "Preparing to unpack .../gcc-11-base_11.1.0-1ubuntu1~18.04.1_amd64.deb ...\n",
            "Unpacking gcc-11-base:amd64 (11.1.0-1ubuntu1~18.04.1) ...\n",
            "Setting up gcc-11-base:amd64 (11.1.0-1ubuntu1~18.04.1) ...\n",
            "Selecting previously unselected package libgcc-s1:amd64.\n",
            "(Reading database ... 159452 files and directories currently installed.)\n",
            "Preparing to unpack .../libgcc-s1_11.1.0-1ubuntu1~18.04.1_amd64.deb ...\n",
            "Unpacking libgcc-s1:amd64 (11.1.0-1ubuntu1~18.04.1) ...\n",
            "Replacing files in old package libgcc1:amd64 (1:8.4.0-1ubuntu1~18.04) ...\n",
            "Setting up libgcc-s1:amd64 (11.1.0-1ubuntu1~18.04.1) ...\n",
            "(Reading database ... 159454 files and directories currently installed.)\n",
            "Preparing to unpack .../libstdc++6_11.1.0-1ubuntu1~18.04.1_amd64.deb ...\n",
            "Unpacking libstdc++6:amd64 (11.1.0-1ubuntu1~18.04.1) over (8.4.0-1ubuntu1~18.04) ...\n",
            "Setting up libstdc++6:amd64 (11.1.0-1ubuntu1~18.04.1) ...\n",
            "Processing triggers for libc-bin (2.27-3ubuntu1.5) ...\n"
          ]
        }
      ]
    },
    {
      "cell_type": "code",
      "metadata": {
        "id": "d1C4pNiBhYHX",
        "colab": {
          "base_uri": "https://localhost:8080/"
        },
        "outputId": "080d437c-f49f-4826-9ed0-f31ffaf8636e"
      },
      "source": [
        "# This will install CondaColab.  This will restart your kernel one last time.  Run this cell by itself and only run the next cell once you see the session crash.\n",
        "import condacolab\n",
        "condacolab.install()"
      ],
      "execution_count": 1,
      "outputs": [
        {
          "output_type": "stream",
          "name": "stdout",
          "text": [
            "⏬ Downloading https://github.com/jaimergp/miniforge/releases/latest/download/Mambaforge-colab-Linux-x86_64.sh...\n",
            "📦 Installing...\n",
            "📌 Adjusting configuration...\n",
            "🩹 Patching environment...\n",
            "⏲ Done in 0:00:55\n",
            "🔁 Restarting kernel...\n"
          ]
        }
      ]
    },
    {
      "cell_type": "code",
      "metadata": {
        "id": "-Ko_pJZbhZrM",
        "colab": {
          "base_uri": "https://localhost:8080/"
        },
        "outputId": "650a3337-a18d-4aab-fc67-9e46a7b572c0"
      },
      "source": [
        "# you can now run the rest of the cells as normal\n",
        "import condacolab\n",
        "condacolab.check()"
      ],
      "execution_count": 1,
      "outputs": [
        {
          "output_type": "stream",
          "name": "stdout",
          "text": [
            "✨🍰✨ Everything looks OK!\n"
          ]
        }
      ]
    },
    {
      "cell_type": "code",
      "metadata": {
        "id": "G_2dancFhf70"
      },
      "source": [
        "# Installing RAPIDS is now 'python rapidsai-csp-utils/colab/install_rapids.py <release> <packages>'\n",
        "# The <release> options are 'stable' and 'nightly'.  Leaving it blank or adding any other words will default to stable.\n",
        "!python rapidsai-csp-utils/colab/install_rapids.py stable\n",
        "import os\n",
        "os.environ['NUMBAPRO_NVVM'] = '/usr/local/cuda/nvvm/lib64/libnvvm.so'\n",
        "os.environ['NUMBAPRO_LIBDEVICE'] = '/usr/local/cuda/nvvm/libdevice/'\n",
        "os.environ['CONDA_PREFIX'] = '/usr/local'"
      ],
      "execution_count": null,
      "outputs": []
    },
    {
      "cell_type": "markdown",
      "metadata": {
        "id": "pZJMJ6BulmMn"
      },
      "source": [
        "# RAPIDS is now installed on Colab.  You can copy your code into the cells below.  Enjoy!"
      ]
    },
    {
      "cell_type": "code",
      "source": [
        "import sklearn\n"
      ],
      "metadata": {
        "id": "_-8kwyLz8IZv"
      },
      "execution_count": 5,
      "outputs": []
    },
    {
      "cell_type": "markdown",
      "source": [
        "# KNN using RAPIDS \n",
        "> Link to git: https://github.com/rapidsai/cuml/blob/branch-0.15/notebooks/nearest_neighbors_demo.ipynb"
      ],
      "metadata": {
        "id": "FIQuA5IniutB"
      }
    },
    {
      "cell_type": "code",
      "metadata": {
        "id": "4nLrk46BllED"
      },
      "source": [
        "import cudf\n",
        "import numpy as np\n",
        "from cuml.datasets import make_blobs\n",
        "from cuml.neighbors import NearestNeighbors as cuNearestNeighbors\n",
        "from sklearn.neighbors import NearestNeighbors as skNearestNeighbors"
      ],
      "execution_count": 10,
      "outputs": []
    },
    {
      "cell_type": "markdown",
      "source": [
        "### Defining parameters"
      ],
      "metadata": {
        "id": "2lL9MfXAiqn1"
      }
    },
    {
      "cell_type": "code",
      "source": [
        "x = np.random.rand(40000, 20)\n",
        "y = np.random.randint(2, size=x.shape[0])"
      ],
      "metadata": {
        "id": "VHcD9yU89QJo"
      },
      "execution_count": 53,
      "outputs": []
    },
    {
      "cell_type": "markdown",
      "source": [
        "### Genrating data"
      ],
      "metadata": {
        "id": "EOwwbpZXjANJ"
      }
    },
    {
      "cell_type": "code",
      "source": [
        "%%time\n",
        "# device_data, _ = make_blobs(n_samples=n_samples,\n",
        "#                             n_features=n_features,\n",
        "#                             centers=5,\n",
        "#                             random_state=random_state)\n",
        "\n",
        "device_data = cudf.DataFrame(x)"
      ],
      "metadata": {
        "colab": {
          "base_uri": "https://localhost:8080/"
        },
        "id": "2HQSOQfgi_s3",
        "outputId": "10eb0b07-7424-4f09-b100-4f419e74d7a2"
      },
      "execution_count": 54,
      "outputs": [
        {
          "output_type": "stream",
          "name": "stdout",
          "text": [
            "CPU times: user 7.55 ms, sys: 34 µs, total: 7.58 ms\n",
            "Wall time: 7.61 ms\n"
          ]
        }
      ]
    },
    {
      "cell_type": "code",
      "source": [
        "device_data"
      ],
      "metadata": {
        "colab": {
          "base_uri": "https://localhost:8080/",
          "height": 443
        },
        "id": "8ZqgvRM7D4Uh",
        "outputId": "87c8e4e9-7ab9-4e56-bd00-2f0bd2632b2f"
      },
      "execution_count": 55,
      "outputs": [
        {
          "output_type": "execute_result",
          "data": {
            "text/plain": [
              "             0         1         2         3         4         5         6   \\\n",
              "0      0.118814  0.555621  0.388898  0.914401  0.391137  0.384834  0.914585   \n",
              "1      0.629875  0.167532  0.829353  0.824272  0.767944  0.367768  0.899638   \n",
              "2      0.988803  0.242781  0.713947  0.653577  0.607836  0.053113  0.418582   \n",
              "3      0.053816  0.728705  0.285982  0.368237  0.179927  0.434823  0.563886   \n",
              "4      0.890731  0.111660  0.026922  0.612394  0.145427  0.145583  0.445187   \n",
              "...         ...       ...       ...       ...       ...       ...       ...   \n",
              "39995  0.420470  0.208267  0.861503  0.495732  0.459839  0.071873  0.487319   \n",
              "39996  0.087604  0.821644  0.662202  0.132014  0.980025  0.894555  0.973740   \n",
              "39997  0.306018  0.505627  0.108801  0.195087  0.421064  0.591568  0.654503   \n",
              "39998  0.985133  0.692225  0.016554  0.510649  0.305933  0.794617  0.978207   \n",
              "39999  0.427852  0.306902  0.141134  0.798490  0.593093  0.660169  0.221341   \n",
              "\n",
              "             7         8         9         10        11        12        13  \\\n",
              "0      0.110585  0.161303  0.768701  0.816192  0.008138  0.441253  0.862925   \n",
              "1      0.260475  0.198558  0.485597  0.552055  0.602750  0.575620  0.670358   \n",
              "2      0.183786  0.728343  0.096052  0.131121  0.207549  0.114246  0.238527   \n",
              "3      0.392326  0.038457  0.432901  0.222240  0.593476  0.986208  0.841993   \n",
              "4      0.539904  0.760262  0.027796  0.619639  0.447905  0.945907  0.416186   \n",
              "...         ...       ...       ...       ...       ...       ...       ...   \n",
              "39995  0.805199  0.667725  0.269683  0.629181  0.283420  0.034452  0.766648   \n",
              "39996  0.613325  0.630793  0.270247  0.539228  0.949874  0.339162  0.850452   \n",
              "39997  0.606096  0.546817  0.529873  0.745903  0.792820  0.422975  0.054922   \n",
              "39998  0.905461  0.383053  0.683139  0.598369  0.187960  0.504513  0.060362   \n",
              "39999  0.915741  0.319023  0.569963  0.911787  0.386101  0.200315  0.347886   \n",
              "\n",
              "             14        15        16        17        18        19  \n",
              "0      0.153104  0.437370  0.092414  0.726171  0.396303  0.298044  \n",
              "1      0.641737  0.190898  0.157720  0.141883  0.191742  0.512345  \n",
              "2      0.214719  0.077386  0.356040  0.640675  0.364558  0.387095  \n",
              "3      0.526098  0.499233  0.267351  0.820124  0.900129  0.149745  \n",
              "4      0.671774  0.320414  0.992598  0.297584  0.319220  0.614795  \n",
              "...         ...       ...       ...       ...       ...       ...  \n",
              "39995  0.348151  0.958922  0.078305  0.589331  0.564164  0.349936  \n",
              "39996  0.354018  0.553911  0.680401  0.634413  0.197455  0.781293  \n",
              "39997  0.043847  0.056648  0.882650  0.887953  0.337695  0.438711  \n",
              "39998  0.607331  0.290345  0.490356  0.511055  0.799381  0.618362  \n",
              "39999  0.963385  0.862311  0.755353  0.886015  0.521360  0.287989  \n",
              "\n",
              "[40000 rows x 20 columns]"
            ],
            "text/html": [
              "<div>\n",
              "<style scoped>\n",
              "    .dataframe tbody tr th:only-of-type {\n",
              "        vertical-align: middle;\n",
              "    }\n",
              "\n",
              "    .dataframe tbody tr th {\n",
              "        vertical-align: top;\n",
              "    }\n",
              "\n",
              "    .dataframe thead th {\n",
              "        text-align: right;\n",
              "    }\n",
              "</style>\n",
              "<table border=\"1\" class=\"dataframe\">\n",
              "  <thead>\n",
              "    <tr style=\"text-align: right;\">\n",
              "      <th></th>\n",
              "      <th>0</th>\n",
              "      <th>1</th>\n",
              "      <th>2</th>\n",
              "      <th>3</th>\n",
              "      <th>4</th>\n",
              "      <th>5</th>\n",
              "      <th>6</th>\n",
              "      <th>7</th>\n",
              "      <th>8</th>\n",
              "      <th>9</th>\n",
              "      <th>10</th>\n",
              "      <th>11</th>\n",
              "      <th>12</th>\n",
              "      <th>13</th>\n",
              "      <th>14</th>\n",
              "      <th>15</th>\n",
              "      <th>16</th>\n",
              "      <th>17</th>\n",
              "      <th>18</th>\n",
              "      <th>19</th>\n",
              "    </tr>\n",
              "  </thead>\n",
              "  <tbody>\n",
              "    <tr>\n",
              "      <th>0</th>\n",
              "      <td>0.118814</td>\n",
              "      <td>0.555621</td>\n",
              "      <td>0.388898</td>\n",
              "      <td>0.914401</td>\n",
              "      <td>0.391137</td>\n",
              "      <td>0.384834</td>\n",
              "      <td>0.914585</td>\n",
              "      <td>0.110585</td>\n",
              "      <td>0.161303</td>\n",
              "      <td>0.768701</td>\n",
              "      <td>0.816192</td>\n",
              "      <td>0.008138</td>\n",
              "      <td>0.441253</td>\n",
              "      <td>0.862925</td>\n",
              "      <td>0.153104</td>\n",
              "      <td>0.437370</td>\n",
              "      <td>0.092414</td>\n",
              "      <td>0.726171</td>\n",
              "      <td>0.396303</td>\n",
              "      <td>0.298044</td>\n",
              "    </tr>\n",
              "    <tr>\n",
              "      <th>1</th>\n",
              "      <td>0.629875</td>\n",
              "      <td>0.167532</td>\n",
              "      <td>0.829353</td>\n",
              "      <td>0.824272</td>\n",
              "      <td>0.767944</td>\n",
              "      <td>0.367768</td>\n",
              "      <td>0.899638</td>\n",
              "      <td>0.260475</td>\n",
              "      <td>0.198558</td>\n",
              "      <td>0.485597</td>\n",
              "      <td>0.552055</td>\n",
              "      <td>0.602750</td>\n",
              "      <td>0.575620</td>\n",
              "      <td>0.670358</td>\n",
              "      <td>0.641737</td>\n",
              "      <td>0.190898</td>\n",
              "      <td>0.157720</td>\n",
              "      <td>0.141883</td>\n",
              "      <td>0.191742</td>\n",
              "      <td>0.512345</td>\n",
              "    </tr>\n",
              "    <tr>\n",
              "      <th>2</th>\n",
              "      <td>0.988803</td>\n",
              "      <td>0.242781</td>\n",
              "      <td>0.713947</td>\n",
              "      <td>0.653577</td>\n",
              "      <td>0.607836</td>\n",
              "      <td>0.053113</td>\n",
              "      <td>0.418582</td>\n",
              "      <td>0.183786</td>\n",
              "      <td>0.728343</td>\n",
              "      <td>0.096052</td>\n",
              "      <td>0.131121</td>\n",
              "      <td>0.207549</td>\n",
              "      <td>0.114246</td>\n",
              "      <td>0.238527</td>\n",
              "      <td>0.214719</td>\n",
              "      <td>0.077386</td>\n",
              "      <td>0.356040</td>\n",
              "      <td>0.640675</td>\n",
              "      <td>0.364558</td>\n",
              "      <td>0.387095</td>\n",
              "    </tr>\n",
              "    <tr>\n",
              "      <th>3</th>\n",
              "      <td>0.053816</td>\n",
              "      <td>0.728705</td>\n",
              "      <td>0.285982</td>\n",
              "      <td>0.368237</td>\n",
              "      <td>0.179927</td>\n",
              "      <td>0.434823</td>\n",
              "      <td>0.563886</td>\n",
              "      <td>0.392326</td>\n",
              "      <td>0.038457</td>\n",
              "      <td>0.432901</td>\n",
              "      <td>0.222240</td>\n",
              "      <td>0.593476</td>\n",
              "      <td>0.986208</td>\n",
              "      <td>0.841993</td>\n",
              "      <td>0.526098</td>\n",
              "      <td>0.499233</td>\n",
              "      <td>0.267351</td>\n",
              "      <td>0.820124</td>\n",
              "      <td>0.900129</td>\n",
              "      <td>0.149745</td>\n",
              "    </tr>\n",
              "    <tr>\n",
              "      <th>4</th>\n",
              "      <td>0.890731</td>\n",
              "      <td>0.111660</td>\n",
              "      <td>0.026922</td>\n",
              "      <td>0.612394</td>\n",
              "      <td>0.145427</td>\n",
              "      <td>0.145583</td>\n",
              "      <td>0.445187</td>\n",
              "      <td>0.539904</td>\n",
              "      <td>0.760262</td>\n",
              "      <td>0.027796</td>\n",
              "      <td>0.619639</td>\n",
              "      <td>0.447905</td>\n",
              "      <td>0.945907</td>\n",
              "      <td>0.416186</td>\n",
              "      <td>0.671774</td>\n",
              "      <td>0.320414</td>\n",
              "      <td>0.992598</td>\n",
              "      <td>0.297584</td>\n",
              "      <td>0.319220</td>\n",
              "      <td>0.614795</td>\n",
              "    </tr>\n",
              "    <tr>\n",
              "      <th>...</th>\n",
              "      <td>...</td>\n",
              "      <td>...</td>\n",
              "      <td>...</td>\n",
              "      <td>...</td>\n",
              "      <td>...</td>\n",
              "      <td>...</td>\n",
              "      <td>...</td>\n",
              "      <td>...</td>\n",
              "      <td>...</td>\n",
              "      <td>...</td>\n",
              "      <td>...</td>\n",
              "      <td>...</td>\n",
              "      <td>...</td>\n",
              "      <td>...</td>\n",
              "      <td>...</td>\n",
              "      <td>...</td>\n",
              "      <td>...</td>\n",
              "      <td>...</td>\n",
              "      <td>...</td>\n",
              "      <td>...</td>\n",
              "    </tr>\n",
              "    <tr>\n",
              "      <th>39995</th>\n",
              "      <td>0.420470</td>\n",
              "      <td>0.208267</td>\n",
              "      <td>0.861503</td>\n",
              "      <td>0.495732</td>\n",
              "      <td>0.459839</td>\n",
              "      <td>0.071873</td>\n",
              "      <td>0.487319</td>\n",
              "      <td>0.805199</td>\n",
              "      <td>0.667725</td>\n",
              "      <td>0.269683</td>\n",
              "      <td>0.629181</td>\n",
              "      <td>0.283420</td>\n",
              "      <td>0.034452</td>\n",
              "      <td>0.766648</td>\n",
              "      <td>0.348151</td>\n",
              "      <td>0.958922</td>\n",
              "      <td>0.078305</td>\n",
              "      <td>0.589331</td>\n",
              "      <td>0.564164</td>\n",
              "      <td>0.349936</td>\n",
              "    </tr>\n",
              "    <tr>\n",
              "      <th>39996</th>\n",
              "      <td>0.087604</td>\n",
              "      <td>0.821644</td>\n",
              "      <td>0.662202</td>\n",
              "      <td>0.132014</td>\n",
              "      <td>0.980025</td>\n",
              "      <td>0.894555</td>\n",
              "      <td>0.973740</td>\n",
              "      <td>0.613325</td>\n",
              "      <td>0.630793</td>\n",
              "      <td>0.270247</td>\n",
              "      <td>0.539228</td>\n",
              "      <td>0.949874</td>\n",
              "      <td>0.339162</td>\n",
              "      <td>0.850452</td>\n",
              "      <td>0.354018</td>\n",
              "      <td>0.553911</td>\n",
              "      <td>0.680401</td>\n",
              "      <td>0.634413</td>\n",
              "      <td>0.197455</td>\n",
              "      <td>0.781293</td>\n",
              "    </tr>\n",
              "    <tr>\n",
              "      <th>39997</th>\n",
              "      <td>0.306018</td>\n",
              "      <td>0.505627</td>\n",
              "      <td>0.108801</td>\n",
              "      <td>0.195087</td>\n",
              "      <td>0.421064</td>\n",
              "      <td>0.591568</td>\n",
              "      <td>0.654503</td>\n",
              "      <td>0.606096</td>\n",
              "      <td>0.546817</td>\n",
              "      <td>0.529873</td>\n",
              "      <td>0.745903</td>\n",
              "      <td>0.792820</td>\n",
              "      <td>0.422975</td>\n",
              "      <td>0.054922</td>\n",
              "      <td>0.043847</td>\n",
              "      <td>0.056648</td>\n",
              "      <td>0.882650</td>\n",
              "      <td>0.887953</td>\n",
              "      <td>0.337695</td>\n",
              "      <td>0.438711</td>\n",
              "    </tr>\n",
              "    <tr>\n",
              "      <th>39998</th>\n",
              "      <td>0.985133</td>\n",
              "      <td>0.692225</td>\n",
              "      <td>0.016554</td>\n",
              "      <td>0.510649</td>\n",
              "      <td>0.305933</td>\n",
              "      <td>0.794617</td>\n",
              "      <td>0.978207</td>\n",
              "      <td>0.905461</td>\n",
              "      <td>0.383053</td>\n",
              "      <td>0.683139</td>\n",
              "      <td>0.598369</td>\n",
              "      <td>0.187960</td>\n",
              "      <td>0.504513</td>\n",
              "      <td>0.060362</td>\n",
              "      <td>0.607331</td>\n",
              "      <td>0.290345</td>\n",
              "      <td>0.490356</td>\n",
              "      <td>0.511055</td>\n",
              "      <td>0.799381</td>\n",
              "      <td>0.618362</td>\n",
              "    </tr>\n",
              "    <tr>\n",
              "      <th>39999</th>\n",
              "      <td>0.427852</td>\n",
              "      <td>0.306902</td>\n",
              "      <td>0.141134</td>\n",
              "      <td>0.798490</td>\n",
              "      <td>0.593093</td>\n",
              "      <td>0.660169</td>\n",
              "      <td>0.221341</td>\n",
              "      <td>0.915741</td>\n",
              "      <td>0.319023</td>\n",
              "      <td>0.569963</td>\n",
              "      <td>0.911787</td>\n",
              "      <td>0.386101</td>\n",
              "      <td>0.200315</td>\n",
              "      <td>0.347886</td>\n",
              "      <td>0.963385</td>\n",
              "      <td>0.862311</td>\n",
              "      <td>0.755353</td>\n",
              "      <td>0.886015</td>\n",
              "      <td>0.521360</td>\n",
              "      <td>0.287989</td>\n",
              "    </tr>\n",
              "  </tbody>\n",
              "</table>\n",
              "<p>40000 rows × 20 columns</p>\n",
              "</div>"
            ]
          },
          "metadata": {},
          "execution_count": 55
        }
      ]
    },
    {
      "cell_type": "markdown",
      "source": [
        "cuML model"
      ],
      "metadata": {
        "id": "gPPUikNujSQv"
      }
    },
    {
      "cell_type": "code",
      "source": [
        "%%time\n",
        "knn_cuml = cuNearestNeighbors()\n",
        "knn_cuml.fit(x)"
      ],
      "metadata": {
        "colab": {
          "base_uri": "https://localhost:8080/"
        },
        "id": "Wy2tkvgsjPKs",
        "outputId": "35312b59-81c6-410f-b9ee-51b7b5f8f0cd"
      },
      "execution_count": 51,
      "outputs": [
        {
          "output_type": "stream",
          "name": "stdout",
          "text": [
            "CPU times: user 1.13 s, sys: 21 ms, total: 1.15 s\n",
            "Wall time: 1.18 s\n"
          ]
        },
        {
          "output_type": "execute_result",
          "data": {
            "text/plain": [
              "NearestNeighbors()"
            ]
          },
          "metadata": {},
          "execution_count": 51
        }
      ]
    },
    {
      "cell_type": "code",
      "source": [
        "%%time\n",
        "D_cuml, I_cuml = knn_cuml.kneighbors(x, n_neighbors=5)"
      ],
      "metadata": {
        "colab": {
          "base_uri": "https://localhost:8080/"
        },
        "id": "rFX6AIZEjQ1I",
        "outputId": "8508320a-b3a6-4efe-8c16-30aea5a5c911"
      },
      "execution_count": 52,
      "outputs": [
        {
          "output_type": "stream",
          "name": "stdout",
          "text": [
            "CPU times: user 568 ms, sys: 179 ms, total: 748 ms\n",
            "Wall time: 748 ms\n"
          ]
        }
      ]
    },
    {
      "cell_type": "code",
      "source": [
        "I_cuml.shape"
      ],
      "metadata": {
        "colab": {
          "base_uri": "https://localhost:8080/"
        },
        "id": "Zgzv_u_8-lrF",
        "outputId": "679b370e-f60c-42fe-b2cc-18acff253526"
      },
      "execution_count": 29,
      "outputs": [
        {
          "output_type": "execute_result",
          "data": {
            "text/plain": [
              "(100000, 5)"
            ]
          },
          "metadata": {},
          "execution_count": 29
        }
      ]
    },
    {
      "cell_type": "code",
      "source": [
        "# Copy dataset from GPU memory to host memory.\n",
        "# This is done to later compare CPU and GPU results.\n",
        "host_data = device_data.to_pandas()"
      ],
      "metadata": {
        "id": "yu6-eTOqjFud"
      },
      "execution_count": 9,
      "outputs": []
    },
    {
      "cell_type": "markdown",
      "source": [
        "### Scikit-learn model"
      ],
      "metadata": {
        "id": "HZWZHAI_jH70"
      }
    },
    {
      "cell_type": "code",
      "source": [
        "%%time\n",
        "knn_sk = skNearestNeighbors(n_neighbors=5, algorithm=\"auto\",\n",
        "                            n_jobs=-1)\n",
        "knn_sk.fit(x)\n",
        "pred = knn_sk.kneighbors(x)"
      ],
      "metadata": {
        "colab": {
          "base_uri": "https://localhost:8080/"
        },
        "id": "fKW6T0jKjGOr",
        "outputId": "09c99acf-e3f1-435e-cc5d-6705abb0437c"
      },
      "execution_count": 43,
      "outputs": [
        {
          "output_type": "stream",
          "name": "stdout",
          "text": [
            "CPU times: user 1min 52s, sys: 2.69 s, total: 1min 55s\n",
            "Wall time: 1min 24s\n"
          ]
        }
      ]
    },
    {
      "cell_type": "code",
      "source": [
        "pred[0:5]"
      ],
      "metadata": {
        "colab": {
          "base_uri": "https://localhost:8080/"
        },
        "id": "lzyfLs8XBVp3",
        "outputId": "affe611b-566d-49f3-fa4d-9cbb2b94b04d"
      },
      "execution_count": 45,
      "outputs": [
        {
          "output_type": "execute_result",
          "data": {
            "text/plain": [
              "(array([[0.        , 0.74423908, 0.85513171, 0.94504838, 0.98477357],\n",
              "        [0.        , 0.80424923, 0.84263274, 0.94143823, 0.94244218],\n",
              "        [0.        , 0.85789897, 0.88378544, 0.89175769, 0.95642566],\n",
              "        ...,\n",
              "        [0.        , 0.93607085, 0.95921981, 0.97759025, 0.97839259],\n",
              "        [0.        , 0.77815515, 0.83239857, 0.88536085, 0.88648052],\n",
              "        [0.        , 0.67035888, 0.75633615, 0.88575261, 0.9032486 ]]),\n",
              " array([[    0, 20577, 27526,  5554, 18407],\n",
              "        [    1, 28767,  2579, 39661, 28893],\n",
              "        [    2, 27900, 36422,   959, 35347],\n",
              "        ...,\n",
              "        [39997, 15192, 12107, 12421, 19403],\n",
              "        [39998, 17223, 17505, 24006, 36736],\n",
              "        [39999, 19326, 24181, 17896,  3351]]))"
            ]
          },
          "metadata": {},
          "execution_count": 45
        }
      ]
    },
    {
      "cell_type": "code",
      "source": [
        "I_cuml[0:5]"
      ],
      "metadata": {
        "colab": {
          "base_uri": "https://localhost:8080/"
        },
        "id": "rX62QGMYBj-1",
        "outputId": "96ccee00-f52d-46f0-9770-67d73a2c0339"
      },
      "execution_count": 49,
      "outputs": [
        {
          "output_type": "execute_result",
          "data": {
            "text/plain": [
              "array([[    0, 20577, 27526,  5554, 18407],\n",
              "       [    1, 28767,  2579, 39661, 28893],\n",
              "       [    2, 27900, 36422,   959, 35347],\n",
              "       [    3, 33189, 13232, 34266, 34164],\n",
              "       [    4, 15766, 14364, 33310, 34866]])"
            ]
          },
          "metadata": {},
          "execution_count": 49
        }
      ]
    },
    {
      "cell_type": "code",
      "source": [
        "%%time\n",
        "D_sk, I_sk = knn_sk.kneighbors(host_data[:n_query], n_neighbors)"
      ],
      "metadata": {
        "colab": {
          "base_uri": "https://localhost:8080/"
        },
        "id": "1AtJEJywjgB0",
        "outputId": "9c5dcff4-8357-4960-f17f-c68e9d10deeb"
      },
      "execution_count": 11,
      "outputs": [
        {
          "output_type": "stream",
          "name": "stdout",
          "text": [
            "CPU times: user 56.8 s, sys: 8.26 s, total: 1min 5s\n",
            "Wall time: 47.2 s\n"
          ]
        }
      ]
    },
    {
      "cell_type": "markdown",
      "source": [
        "\n",
        "\n",
        "---\n",
        "\n",
        "\n",
        "\n",
        "---\n",
        "\n",
        "\n",
        "\n",
        "---\n",
        "\n"
      ],
      "metadata": {
        "id": "V-NV3c5Cj3e4"
      }
    },
    {
      "cell_type": "code",
      "source": [
        "from sklearn import datasets\n",
        "X, y  = datasets.make_classification(n_samples=40000)"
      ],
      "metadata": {
        "id": "nG1gm95xj0ou"
      },
      "execution_count": 12,
      "outputs": []
    },
    {
      "cell_type": "code",
      "source": [
        "X = X.astype(np.float32)\n",
        "y = y.astype(np.float32)"
      ],
      "metadata": {
        "id": "a5kxiwKgj8Og"
      },
      "execution_count": 13,
      "outputs": []
    },
    {
      "cell_type": "code",
      "source": [
        "def train_data(model, X=X, y=y):\n",
        "    clf = model\n",
        "    clf.fit(X, y)"
      ],
      "metadata": {
        "id": "1LacNSvVj-Wk"
      },
      "execution_count": 14,
      "outputs": []
    },
    {
      "cell_type": "code",
      "source": [
        "from sklearn.svm import SVC \n",
        "from cuml.svm import SVC as SVC_gpu\n",
        "\n",
        "clf_svc = SVC(kernel='poly', degree=2, gamma='auto', C=1)\n",
        "sklearn_time_svc = %timeit -o train_data(clf_svc)\n",
        "\n",
        "clf_svc = SVC_gpu(kernel='poly', degree=2, gamma='auto', C=1)\n",
        "cuml_time_svc = %timeit -o train_data(clf_svc)\n",
        "\n",
        "print(f\"\"\"Average time of sklearn's {clf_svc.__class__.__name__}\"\"\", sklearn_time_svc.average, 's')\n",
        "print(f\"\"\"Average time of cuml's {clf_svc.__class__.__name__}\"\"\", cuml_time_svc.average, 's')\n",
        "\n",
        "print('Ratio between sklearn and cuml is', sklearn_time_svc.average/cuml_time_svc.average)"
      ],
      "metadata": {
        "colab": {
          "base_uri": "https://localhost:8080/"
        },
        "id": "2ex67iyykA_l",
        "outputId": "574574ac-b749-41af-a2f2-d0b1e12f2498"
      },
      "execution_count": 15,
      "outputs": [
        {
          "output_type": "stream",
          "name": "stdout",
          "text": [
            "1min 18s ± 3.58 s per loop (mean ± std. dev. of 7 runs, 1 loop each)\n",
            "2.48 s ± 12.4 ms per loop (mean ± std. dev. of 7 runs, 1 loop each)\n",
            "Average time of sklearn's SVC 78.65281007214298 s\n",
            "Average time of cuml's SVC 2.4763528024286643 s\n",
            "Ratio between sklearn and cuml is 31.761552713734826\n"
          ]
        }
      ]
    },
    {
      "cell_type": "code",
      "source": [
        "!pip install cutecharts\n",
        "\n",
        "import cutecharts.charts as ctc \n",
        "\n",
        "def plot(sklearn_time, cuml_time):\n",
        "\n",
        "    chart = ctc.Bar('Sklearn vs cuml')\n",
        "    chart.set_options(\n",
        "        labels=['sklearn', 'cuml'],\n",
        "        x_label='library',\n",
        "        y_label='time (s)',\n",
        "        )\n",
        "\n",
        "    chart.add_series('time', data=[round(sklearn_time.average,2), round(cuml_time.average,2)])\n",
        "    return chart"
      ],
      "metadata": {
        "colab": {
          "base_uri": "https://localhost:8080/"
        },
        "id": "vC5FKAApkDO0",
        "outputId": "e02386d4-1ce1-47bd-923a-5a2ce0f1b950"
      },
      "execution_count": 16,
      "outputs": [
        {
          "output_type": "stream",
          "name": "stdout",
          "text": [
            "Looking in indexes: https://pypi.org/simple, https://us-python.pkg.dev/colab-wheels/public/simple/\n",
            "Collecting cutecharts\n",
            "  Downloading cutecharts-1.2.0-py3-none-any.whl (17 kB)\n",
            "Requirement already satisfied: jinja2 in /usr/local/lib/python3.7/site-packages (from cutecharts) (3.1.2)\n",
            "Requirement already satisfied: MarkupSafe>=2.0 in /usr/local/lib/python3.7/site-packages (from jinja2->cutecharts) (2.1.1)\n",
            "Installing collected packages: cutecharts\n",
            "Successfully installed cutecharts-1.2.0\n",
            "\u001b[33mWARNING: Running pip as the 'root' user can result in broken permissions and conflicting behaviour with the system package manager. It is recommended to use a virtual environment instead: https://pip.pypa.io/warnings/venv\u001b[0m\u001b[33m\n",
            "\u001b[0m"
          ]
        }
      ]
    },
    {
      "cell_type": "code",
      "source": [
        "plot(sklearn_time_svc, cuml_time_svc).render_notebook()"
      ],
      "metadata": {
        "colab": {
          "base_uri": "https://localhost:8080/",
          "height": 171
        },
        "id": "enuaKk5YkF2J",
        "outputId": "dc42203d-c70a-41c7-da70-74c6f338332e"
      },
      "execution_count": 20,
      "outputs": [
        {
          "output_type": "execute_result",
          "data": {
            "text/plain": [
              "<cutecharts.render.engine.HTML at 0x7f4960f0ff50>"
            ],
            "text/html": [
              "\n",
              "<script>\n",
              "    require.config({\n",
              "        paths: {\n",
              "            'chartXkcd':'https://cdn.jsdelivr.net/npm/chart.xkcd@1.1/dist/chart.xkcd.min'\n",
              "        }\n",
              "    });\n",
              "</script>\n",
              "\n",
              "<div id=\"96f7cf8c93e44a79909be2c474c7df48\" class=\"chart-container\" style=\"width: 800px\">\n",
              "        <svg id=\"chart_96f7cf8c93e44a79909be2c474c7df48\"></svg>\n",
              "    </div>\n",
              "    <script>\n",
              "        require(['chartXkcd'], function(chartXkcd) {\n",
              "            const svg_96f7cf8c93e44a79909be2c474c7df48 = document.querySelector('#chart_96f7cf8c93e44a79909be2c474c7df48')\n",
              "            const chart_96f7cf8c93e44a79909be2c474c7df48 = new chartXkcd.Bar(svg_96f7cf8c93e44a79909be2c474c7df48, {\"title\": \"Sklearn vs cuml\", \"data\": {\"datasets\": [{\"label\": \"time\", \"data\": [78.65, 2.48]}], \"labels\": [\"sklearn\", \"cuml\"]}, \"xLabel\": \"library\", \"yLabel\": \"time (s)\", \"options\": {\"yTickCount\": 3}});\n",
              "        })\n",
              "    </script>\n"
            ]
          },
          "metadata": {},
          "execution_count": 20
        }
      ]
    },
    {
      "cell_type": "code",
      "source": [
        "from cuml.neighbors import (KNeighborsClassifier as KNeighborsClassifier_gpu,\n",
        "                            KNeighborsRegressor as KNeighborsRegressor_gpu)\n",
        "from sklearn.neighbors import KNeighborsClassifier, KNeighborsRegressor\n"
      ],
      "metadata": {
        "id": "-O2hsYVqoOYt"
      },
      "execution_count": 21,
      "outputs": []
    },
    {
      "cell_type": "code",
      "source": [
        "clf_nn = KNeighborsClassifier(n_neighbors=10)\n",
        "sklearn_time_nn = %timeit -o train_data(clf_nn)\n"
      ],
      "metadata": {
        "colab": {
          "base_uri": "https://localhost:8080/"
        },
        "id": "o3Ov7-2yol3X",
        "outputId": "e2c5732b-365f-46f1-aa71-934a24749fea"
      },
      "execution_count": 25,
      "outputs": [
        {
          "output_type": "stream",
          "name": "stdout",
          "text": [
            "3.22 ms ± 31.7 µs per loop (mean ± std. dev. of 7 runs, 100 loops each)\n"
          ]
        }
      ]
    },
    {
      "cell_type": "code",
      "source": [
        "clf_nn = KNeighborsClassifier_gpu(n_neighbors=10)\n",
        "cuml_time_nn = %timeit -o train_data(clf_nn)"
      ],
      "metadata": {
        "colab": {
          "base_uri": "https://localhost:8080/"
        },
        "id": "WeGhKf6XooRf",
        "outputId": "59fe101d-60af-4976-9d3b-1472d58a0432"
      },
      "execution_count": 26,
      "outputs": [
        {
          "output_type": "stream",
          "name": "stdout",
          "text": [
            "2.47 ms ± 25.7 µs per loop (mean ± std. dev. of 7 runs, 100 loops each)\n"
          ]
        }
      ]
    },
    {
      "cell_type": "code",
      "source": [
        "print(f\"\"\"Average time of sklearn's {clf_nn.__class__.__name__}\"\"\", sklearn_time_nn.average, 's')\n",
        "print(f\"\"\"Average time of cuml's {clf_nn.__class__.__name__}\"\"\", cuml_time_nn.average, 's')\n",
        "\n",
        "print('Ratio between sklearn and cuml is', sklearn_time_nn.average/cuml_time_nn.average)"
      ],
      "metadata": {
        "colab": {
          "base_uri": "https://localhost:8080/"
        },
        "id": "nyRInmEooqVo",
        "outputId": "82342742-c60e-4f35-c26d-6c552a3747ce"
      },
      "execution_count": 27,
      "outputs": [
        {
          "output_type": "stream",
          "name": "stdout",
          "text": [
            "Average time of sklearn's KNeighborsClassifier 0.003222532555714679 s\n",
            "Average time of cuml's KNeighborsClassifier 0.002467951844285251 s\n",
            "Ratio between sklearn and cuml is 1.3057517970525732\n"
          ]
        }
      ]
    },
    {
      "cell_type": "code",
      "source": [
        "plot(sklearn_time_nn, cuml_time_nn).render_notebook()"
      ],
      "metadata": {
        "colab": {
          "base_uri": "https://localhost:8080/",
          "height": 171
        },
        "id": "bp7B-5pho2Ud",
        "outputId": "ccacc974-db52-406d-e573-b032b7c88980"
      },
      "execution_count": 28,
      "outputs": [
        {
          "output_type": "execute_result",
          "data": {
            "text/plain": [
              "<cutecharts.render.engine.HTML at 0x7f4968118210>"
            ],
            "text/html": [
              "\n",
              "<script>\n",
              "    require.config({\n",
              "        paths: {\n",
              "            'chartXkcd':'https://cdn.jsdelivr.net/npm/chart.xkcd@1.1/dist/chart.xkcd.min'\n",
              "        }\n",
              "    });\n",
              "</script>\n",
              "\n",
              "<div id=\"136f7876ad2c4b59a06d061744c42948\" class=\"chart-container\" style=\"width: 800px\">\n",
              "        <svg id=\"chart_136f7876ad2c4b59a06d061744c42948\"></svg>\n",
              "    </div>\n",
              "    <script>\n",
              "        require(['chartXkcd'], function(chartXkcd) {\n",
              "            const svg_136f7876ad2c4b59a06d061744c42948 = document.querySelector('#chart_136f7876ad2c4b59a06d061744c42948')\n",
              "            const chart_136f7876ad2c4b59a06d061744c42948 = new chartXkcd.Bar(svg_136f7876ad2c4b59a06d061744c42948, {\"title\": \"Sklearn vs cuml\", \"data\": {\"datasets\": [{\"label\": \"time\", \"data\": [0.0, 0.0]}], \"labels\": [\"sklearn\", \"cuml\"]}, \"xLabel\": \"library\", \"yLabel\": \"time (s)\", \"options\": {\"yTickCount\": 3}});\n",
              "        })\n",
              "    </script>\n"
            ]
          },
          "metadata": {},
          "execution_count": 28
        }
      ]
    },
    {
      "cell_type": "markdown",
      "metadata": {
        "id": "Dlsyk9m9NN2K"
      },
      "source": [
        "# Next Steps #\n",
        "\n",
        "For an overview of how you can access and work with your own datasets in Colab, check out [this guide](https://towardsdatascience.com/3-ways-to-load-csv-files-into-colab-7c14fcbdcb92).\n",
        "\n",
        "For more RAPIDS examples, check out our RAPIDS notebooks repos:\n",
        "1. https://github.com/rapidsai/notebooks\n",
        "2. https://github.com/rapidsai/notebooks-contrib"
      ]
    }
  ]
}