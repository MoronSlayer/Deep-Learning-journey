{
  "nbformat": 4,
  "nbformat_minor": 0,
  "metadata": {
    "colab": {
      "provenance": [],
      "authorship_tag": "ABX9TyO647O0yF63EhgUKfJpIY9e",
      "include_colab_link": true
    },
    "kernelspec": {
      "name": "python3",
      "display_name": "Python 3"
    },
    "language_info": {
      "name": "python"
    }
  },
  "cells": [
    {
      "cell_type": "markdown",
      "metadata": {
        "id": "view-in-github",
        "colab_type": "text"
      },
      "source": [
        "<a href=\"https://colab.research.google.com/github/MoronSlayer/Deep-Learning-Projects/blob/learner/New_loss.ipynb\" target=\"_parent\"><img src=\"https://colab.research.google.com/assets/colab-badge.svg\" alt=\"Open In Colab\"/></a>"
      ]
    },
    {
      "cell_type": "code",
      "source": [
        "import numpy as math\n",
        "import math as m"
      ],
      "metadata": {
        "id": "XyLuU9AVzNhH"
      },
      "execution_count": 68,
      "outputs": []
    },
    {
      "cell_type": "code",
      "execution_count": 69,
      "metadata": {
        "id": "pKAkigyezCtv"
      },
      "outputs": [],
      "source": [
        "f = lambda y,n,p: (y * m.log((1-n)/p)) + (m.log(n/(1-p))) - 1"
      ]
    },
    {
      "cell_type": "code",
      "source": [
        "f(0,0.1,0.9)"
      ],
      "metadata": {
        "colab": {
          "base_uri": "https://localhost:8080/"
        },
        "id": "-fsMyykFzf9o",
        "outputId": "7a04dcf3-4cb6-4a52-8432-380b96477f3b"
      },
      "execution_count": 19,
      "outputs": [
        {
          "output_type": "execute_result",
          "data": {
            "text/plain": [
              "-0.9999999999999998"
            ]
          },
          "metadata": {},
          "execution_count": 19
        }
      ]
    },
    {
      "cell_type": "code",
      "source": [
        "f2 = lambda y,n,p: (-y * m.log(p)) - ((1-y) * m.log((1-p))) - 1 + ((1-y)*m.log(n)) + (y*m.log((1-n)))"
      ],
      "metadata": {
        "id": "8R640cfOzlpO"
      },
      "execution_count": 21,
      "outputs": []
    },
    {
      "cell_type": "code",
      "source": [
        "def f3(y,n,p):\n",
        "  A = -y* math.log(p) - (1-y)* math.log((1-p))\n",
        "  B = -1 + (1-y) * math.log(n) + y* math.log((1-n))\n",
        "\n",
        "  return A+B"
      ],
      "metadata": {
        "id": "LHlND50L1OFW"
      },
      "execution_count": 56,
      "outputs": []
    },
    {
      "cell_type": "code",
      "source": [
        "f3(1,0.09, 0, 0.9)"
      ],
      "metadata": {
        "colab": {
          "base_uri": "https://localhost:8080/"
        },
        "id": "saw_rMgH09r5",
        "outputId": "9cd36e20-695d-4b42-bf35-c154c8a0bd61"
      },
      "execution_count": 59,
      "outputs": [
        {
          "output_type": "stream",
          "name": "stdout",
          "text": [
            "2.4079456086518722 2.302585092994046\n"
          ]
        },
        {
          "output_type": "execute_result",
          "data": {
            "text/plain": [
              "4.710530701645919"
            ]
          },
          "metadata": {},
          "execution_count": 59
        }
      ]
    },
    {
      "cell_type": "code",
      "source": [
        "-1* math.log(0.2) - (1-0.9)* math.log((1-0.3))"
      ],
      "metadata": {
        "colab": {
          "base_uri": "https://localhost:8080/"
        },
        "id": "KeI7fxrJ1CuH",
        "outputId": "ff3f1bb3-c533-4a6c-a700-9dc3aa0bb3a4"
      },
      "execution_count": 35,
      "outputs": [
        {
          "output_type": "execute_result",
          "data": {
            "text/plain": [
              "1.6451054068279736"
            ]
          },
          "metadata": {},
          "execution_count": 35
        }
      ]
    },
    {
      "cell_type": "code",
      "source": [
        "def f5(y,n,p):\n",
        "  A = (y * m.log((1-n)/p))\n",
        "  B = (m.log(n/(1-p))) - 1\n",
        "  print(A,B)\n",
        "  \n",
        "  return A+B"
      ],
      "metadata": {
        "id": "ZpR4evP86sqR"
      },
      "execution_count": 76,
      "outputs": []
    },
    {
      "cell_type": "code",
      "source": [
        "def f4(y,n,p):\n",
        "  A = (-y* math.log(p)) - ((1-y)* math.log((1-p)))\n",
        "  B = -1 + ((1-y) * math.log(n)) + (y* math.log((1-n)))\n",
        "  print(A, B)\n",
        "\n",
        "  return A+B"
      ],
      "metadata": {
        "id": "RQAf4dzH15pB"
      },
      "execution_count": 65,
      "outputs": []
    },
    {
      "cell_type": "code",
      "source": [
        "f(1,0.9,0.9)"
      ],
      "metadata": {
        "colab": {
          "base_uri": "https://localhost:8080/"
        },
        "id": "vDUnboRF6WMJ",
        "outputId": "51bdc1e0-fdbe-4420-bcfe-52d32b6b7526"
      },
      "execution_count": 73,
      "outputs": [
        {
          "output_type": "execute_result",
          "data": {
            "text/plain": [
              "-1.0"
            ]
          },
          "metadata": {},
          "execution_count": 73
        }
      ]
    },
    {
      "cell_type": "code",
      "source": [
        "f4(1,0.9,0.9)"
      ],
      "metadata": {
        "colab": {
          "base_uri": "https://localhost:8080/"
        },
        "id": "EQqiz4kU5qC8",
        "outputId": "5d621c04-7c68-482d-9068-7278c2c10e9c"
      },
      "execution_count": 66,
      "outputs": [
        {
          "output_type": "stream",
          "name": "stdout",
          "text": [
            "0.10536051565782628 -3.302585092994046\n"
          ]
        },
        {
          "output_type": "execute_result",
          "data": {
            "text/plain": [
              "-3.1972245773362196"
            ]
          },
          "metadata": {},
          "execution_count": 66
        }
      ]
    },
    {
      "cell_type": "code",
      "source": [
        "f5(1,0.9,0.9)"
      ],
      "metadata": {
        "colab": {
          "base_uri": "https://localhost:8080/"
        },
        "id": "JZZfqndZ5xa3",
        "outputId": "f43bcf45-07a4-4c55-c6d4-e1f335ee159d"
      },
      "execution_count": 77,
      "outputs": [
        {
          "output_type": "stream",
          "name": "stdout",
          "text": [
            "-2.1972245773362196 1.1972245773362196\n"
          ]
        },
        {
          "output_type": "execute_result",
          "data": {
            "text/plain": [
              "-1.0"
            ]
          },
          "metadata": {},
          "execution_count": 77
        }
      ]
    },
    {
      "cell_type": "code",
      "source": [
        "def func(y,p, n):\n",
        "  A = y* math.log(((p*(1-n))/((1-p)*n)))\n",
        "  B = math.log((1-p)*n)\n",
        "  return -1*(A + B)"
      ],
      "metadata": {
        "id": "CYmYfD0x68rG"
      },
      "execution_count": 87,
      "outputs": []
    },
    {
      "cell_type": "code",
      "source": [
        "func(1,0.09,0.91)"
      ],
      "metadata": {
        "colab": {
          "base_uri": "https://localhost:8080/"
        },
        "id": "pRybuURL7szV",
        "outputId": "38940856-7a53-4c56-eb5c-13bf432de547"
      },
      "execution_count": 90,
      "outputs": [
        {
          "output_type": "execute_result",
          "data": {
            "text/plain": [
              "4.8158912173037445"
            ]
          },
          "metadata": {},
          "execution_count": 90
        }
      ]
    },
    {
      "cell_type": "code",
      "source": [
        "y = [1,1,1,1,1,0,0,0,0,0,0]\n",
        "p = [0.9, 0.7, 0.2, 0.9, 0.7, 0.2, 0.2, 0.5, 0.7, 0.7, 0.1]\n",
        "n = [0.1, 0.4, 0.9, 0.9, 0.8, 0.9, 0.7, 0.5, 0.8, 0.2, 0.9]"
      ],
      "metadata": {
        "id": "CCVxnFOS7vUD"
      },
      "execution_count": 91,
      "outputs": []
    },
    {
      "cell_type": "code",
      "source": [
        "for i in range(len(y)):\n",
        "\n",
        "  print(y[i], p[i], n[i], func(y[i], p[i], n[i]))"
      ],
      "metadata": {
        "colab": {
          "base_uri": "https://localhost:8080/"
        },
        "id": "24hUQgwr8vDp",
        "outputId": "f5eba18a-8285-4a92-cd8c-0e9e60d80588"
      },
      "execution_count": 92,
      "outputs": [
        {
          "output_type": "stream",
          "name": "stdout",
          "text": [
            "1 0.9 0.1 0.21072103131565267\n",
            "1 0.7 0.4 0.8675005677047232\n",
            "1 0.2 0.9 3.9120230054281464\n",
            "1 0.9 0.9 2.4079456086518722\n",
            "1 0.7 0.8 1.9661128563728332\n",
            "0 0.2 0.9 0.32850406697203594\n",
            "0 0.2 0.7 0.5798184952529423\n",
            "0 0.5 0.5 1.3862943611198906\n",
            "0 0.7 0.8 1.4271163556401456\n",
            "0 0.7 0.2 2.813410716760036\n",
            "0 0.1 0.9 0.21072103131565253\n"
          ]
        }
      ]
    },
    {
      "cell_type": "code",
      "source": [],
      "metadata": {
        "id": "XlGnw8CO9o5u"
      },
      "execution_count": null,
      "outputs": []
    }
  ]
}