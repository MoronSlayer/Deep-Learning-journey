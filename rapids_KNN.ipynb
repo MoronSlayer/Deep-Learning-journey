{
  "nbformat": 4,
  "nbformat_minor": 0,
  "metadata": {
    "colab": {
      "provenance": [],
      "collapsed_sections": [],
      "include_colab_link": true
    },
    "kernelspec": {
      "name": "python3",
      "display_name": "Python 3"
    },
    "accelerator": "GPU"
  },
  "cells": [
    {
      "cell_type": "markdown",
      "metadata": {
        "id": "view-in-github",
        "colab_type": "text"
      },
      "source": [
        "<a href=\"https://colab.research.google.com/github/MoronSlayer/Deep-Learning-Projects/blob/learner/rapids_colab_template.ipynb\" target=\"_parent\"><img src=\"https://colab.research.google.com/assets/colab-badge.svg\" alt=\"Open In Colab\"/></a>"
      ]
    },
    {
      "cell_type": "markdown",
      "metadata": {
        "id": "scfLT2i0MLyD"
      },
      "source": [
        "# Environment Sanity Check #\n",
        "\n",
        "Click the _Runtime_ dropdown at the top of the page, then _Change Runtime Type_ and confirm the instance type is _GPU_.\n",
        "\n",
        "Check the output of `!nvidia-smi` to make sure you've been allocated a Tesla T4, P4, or P100."
      ]
    },
    {
      "cell_type": "code",
      "metadata": {
        "id": "67T0090Jk2KL",
        "outputId": "256a0022-b60c-4069-de4f-dc7bad511f35",
        "colab": {
          "base_uri": "https://localhost:8080/"
        }
      },
      "source": [
        "!nvidia-smi"
      ],
      "execution_count": 1,
      "outputs": [
        {
          "output_type": "stream",
          "name": "stdout",
          "text": [
            "Thu Sep 29 22:45:10 2022       \n",
            "+-----------------------------------------------------------------------------+\n",
            "| NVIDIA-SMI 460.32.03    Driver Version: 460.32.03    CUDA Version: 11.2     |\n",
            "|-------------------------------+----------------------+----------------------+\n",
            "| GPU  Name        Persistence-M| Bus-Id        Disp.A | Volatile Uncorr. ECC |\n",
            "| Fan  Temp  Perf  Pwr:Usage/Cap|         Memory-Usage | GPU-Util  Compute M. |\n",
            "|                               |                      |               MIG M. |\n",
            "|===============================+======================+======================|\n",
            "|   0  Tesla T4            Off  | 00000000:00:04.0 Off |                    0 |\n",
            "| N/A   50C    P8    10W /  70W |      0MiB / 15109MiB |      0%      Default |\n",
            "|                               |                      |                  N/A |\n",
            "+-------------------------------+----------------------+----------------------+\n",
            "                                                                               \n",
            "+-----------------------------------------------------------------------------+\n",
            "| Processes:                                                                  |\n",
            "|  GPU   GI   CI        PID   Type   Process name                  GPU Memory |\n",
            "|        ID   ID                                                   Usage      |\n",
            "|=============================================================================|\n",
            "|  No running processes found                                                 |\n",
            "+-----------------------------------------------------------------------------+\n"
          ]
        }
      ]
    },
    {
      "cell_type": "markdown",
      "metadata": {
        "id": "CtNdk7PSafKP"
      },
      "source": [
        "#Setup:\n",
        "Set up script installs\n",
        "1. Updates gcc in Colab\n",
        "1. Installs Conda\n",
        "1. Install RAPIDS' current stable version of its libraries, as well as some external libraries including:\n",
        "  1. cuDF\n",
        "  1. cuML\n",
        "  1. cuGraph\n",
        "  1. cuSpatial\n",
        "  1. cuSignal\n",
        "  1. BlazingSQL\n",
        "  1. xgboost\n",
        "1. Copy RAPIDS .so files into current working directory, a neccessary workaround for RAPIDS+Colab integration.\n"
      ]
    },
    {
      "cell_type": "code",
      "source": [
        "!pip install pynvml"
      ],
      "metadata": {
        "colab": {
          "base_uri": "https://localhost:8080/"
        },
        "id": "8ZFKMwVpbYms",
        "outputId": "b9f6cee1-3e38-4ee0-939d-0b5cebf82bb1"
      },
      "execution_count": 3,
      "outputs": [
        {
          "output_type": "stream",
          "name": "stdout",
          "text": [
            "Looking in indexes: https://pypi.org/simple, https://us-python.pkg.dev/colab-wheels/public/simple/\n",
            "Collecting pynvml\n",
            "  Downloading pynvml-11.4.1-py3-none-any.whl (46 kB)\n",
            "\u001b[K     |████████████████████████████████| 46 kB 3.8 MB/s \n",
            "\u001b[?25hInstalling collected packages: pynvml\n",
            "Successfully installed pynvml-11.4.1\n"
          ]
        }
      ]
    },
    {
      "cell_type": "code",
      "metadata": {
        "id": "B0C8IV5TQnjN",
        "outputId": "665c0ff3-8eed-4014-92f3-99bd21fbde73",
        "colab": {
          "base_uri": "https://localhost:8080/"
        }
      },
      "source": [
        "# This get the RAPIDS-Colab install files and test check your GPU.  Run this and the next cell only.\n",
        "# Please read the output of this cell.  If your Colab Instance is not RAPIDS compatible, it will warn you and give you remediation steps.\n",
        "!git clone https://github.com/rapidsai/rapidsai-csp-utils.git\n",
        "!python rapidsai-csp-utils/colab/env-check.py"
      ],
      "execution_count": 4,
      "outputs": [
        {
          "output_type": "stream",
          "name": "stdout",
          "text": [
            "***********************************************************************\n",
            "Woo! Your instance has the right kind of GPU, a Tesla T4!\n",
            "***********************************************************************\n",
            "\n"
          ]
        }
      ]
    },
    {
      "cell_type": "code",
      "metadata": {
        "id": "4sKA_9Dbg4s2"
      },
      "source": [
        "# This will update the Colab environment and restart the kernel.  Don't run the next cell until you see the session crash.\n",
        "!bash rapidsai-csp-utils/colab/update_gcc.sh\n",
        "import os\n",
        "os._exit(00)"
      ],
      "execution_count": null,
      "outputs": []
    },
    {
      "cell_type": "code",
      "metadata": {
        "id": "d1C4pNiBhYHX",
        "colab": {
          "base_uri": "https://localhost:8080/"
        },
        "outputId": "1b680707-e4cd-425b-884c-4dd976085007"
      },
      "source": [
        "# This will install CondaColab.  This will restart your kernel one last time.  Run this cell by itself and only run the next cell once you see the session crash.\n",
        "import condacolab\n",
        "condacolab.install()"
      ],
      "execution_count": 1,
      "outputs": [
        {
          "output_type": "stream",
          "name": "stdout",
          "text": [
            "⏬ Downloading https://github.com/jaimergp/miniforge/releases/latest/download/Mambaforge-colab-Linux-x86_64.sh...\n",
            "📦 Installing...\n",
            "📌 Adjusting configuration...\n",
            "🩹 Patching environment...\n",
            "⏲ Done in 0:00:38\n",
            "🔁 Restarting kernel...\n"
          ]
        }
      ]
    },
    {
      "cell_type": "code",
      "metadata": {
        "id": "-Ko_pJZbhZrM",
        "colab": {
          "base_uri": "https://localhost:8080/"
        },
        "outputId": "e388b14e-089d-4b82-c570-11ac0ab644b0"
      },
      "source": [
        "# you can now run the rest of the cells as normal\n",
        "import condacolab\n",
        "condacolab.check()"
      ],
      "execution_count": 1,
      "outputs": [
        {
          "output_type": "stream",
          "name": "stdout",
          "text": [
            "✨🍰✨ Everything looks OK!\n"
          ]
        }
      ]
    },
    {
      "cell_type": "code",
      "metadata": {
        "id": "G_2dancFhf70"
      },
      "source": [
        "# Installing RAPIDS is now 'python rapidsai-csp-utils/colab/install_rapids.py <release> <packages>'\n",
        "# The <release> options are 'stable' and 'nightly'.  Leaving it blank or adding any other words will default to stable.\n",
        "!python rapidsai-csp-utils/colab/install_rapids.py stable\n",
        "import os\n",
        "os.environ['NUMBAPRO_NVVM'] = '/usr/local/cuda/nvvm/lib64/libnvvm.so'\n",
        "os.environ['NUMBAPRO_LIBDEVICE'] = '/usr/local/cuda/nvvm/libdevice/'\n",
        "os.environ['CONDA_PREFIX'] = '/usr/local'"
      ],
      "execution_count": null,
      "outputs": []
    },
    {
      "cell_type": "markdown",
      "metadata": {
        "id": "pZJMJ6BulmMn"
      },
      "source": [
        "# RAPIDS is now installed on Colab.  You can copy your code into the cells below.  Enjoy!"
      ]
    },
    {
      "cell_type": "markdown",
      "source": [
        "# KNN using RAPIDS \n",
        "> Link to git: https://github.com/rapidsai/cuml/blob/branch-0.15/notebooks/nearest_neighbors_demo.ipynb"
      ],
      "metadata": {
        "id": "FIQuA5IniutB"
      }
    },
    {
      "cell_type": "code",
      "metadata": {
        "id": "4nLrk46BllED"
      },
      "source": [
        "import cudf\n",
        "import numpy as np\n",
        "from cuml.datasets import make_blobs\n",
        "from cuml.neighbors import NearestNeighbors as cuNearestNeighbors\n",
        "from sklearn.neighbors import NearestNeighbors as skNearestNeighbors"
      ],
      "execution_count": 3,
      "outputs": []
    },
    {
      "cell_type": "markdown",
      "source": [
        "### Defining parameters"
      ],
      "metadata": {
        "id": "2lL9MfXAiqn1"
      }
    },
    {
      "cell_type": "code",
      "source": [
        "n_samples = 2**17\n",
        "n_features = 40\n",
        "\n",
        "n_query = 2**13\n",
        "n_neighbors = 4\n",
        "random_state = 0"
      ],
      "metadata": {
        "id": "9yvwfMttiqJ2"
      },
      "execution_count": 4,
      "outputs": []
    },
    {
      "cell_type": "markdown",
      "source": [
        "### Genrating data"
      ],
      "metadata": {
        "id": "EOwwbpZXjANJ"
      }
    },
    {
      "cell_type": "code",
      "source": [
        "%%time\n",
        "device_data, _ = make_blobs(n_samples=n_samples,\n",
        "                            n_features=n_features,\n",
        "                            centers=5,\n",
        "                            random_state=random_state)\n",
        "\n",
        "device_data = cudf.DataFrame(device_data)"
      ],
      "metadata": {
        "id": "2HQSOQfgi_s3",
        "outputId": "b1f6b7c6-297c-45c4-94a7-5397b5ee63d2",
        "colab": {
          "base_uri": "https://localhost:8080/"
        }
      },
      "execution_count": 5,
      "outputs": [
        {
          "output_type": "stream",
          "name": "stdout",
          "text": [
            "CPU times: user 5.03 s, sys: 979 ms, total: 6.01 s\n",
            "Wall time: 7.99 s\n"
          ]
        }
      ]
    },
    {
      "cell_type": "markdown",
      "source": [
        "cuML model"
      ],
      "metadata": {
        "id": "gPPUikNujSQv"
      }
    },
    {
      "cell_type": "code",
      "source": [
        "%%time\n",
        "knn_cuml = cuNearestNeighbors()\n",
        "knn_cuml.fit(device_data)"
      ],
      "metadata": {
        "id": "Wy2tkvgsjPKs",
        "outputId": "cf4212a0-8a05-4a78-a303-675ed1eab730",
        "colab": {
          "base_uri": "https://localhost:8080/"
        }
      },
      "execution_count": 7,
      "outputs": [
        {
          "output_type": "stream",
          "name": "stdout",
          "text": [
            "CPU times: user 243 ms, sys: 1.91 ms, total: 245 ms\n",
            "Wall time: 249 ms\n"
          ]
        },
        {
          "output_type": "execute_result",
          "data": {
            "text/plain": [
              "NearestNeighbors()"
            ]
          },
          "metadata": {},
          "execution_count": 7
        }
      ]
    },
    {
      "cell_type": "code",
      "source": [
        "%%time\n",
        "D_cuml, I_cuml = knn_cuml.kneighbors(device_data[:n_query], n_neighbors)"
      ],
      "metadata": {
        "id": "rFX6AIZEjQ1I",
        "outputId": "c0979844-8335-4879-8e68-9b97687ef9d1",
        "colab": {
          "base_uri": "https://localhost:8080/"
        }
      },
      "execution_count": 8,
      "outputs": [
        {
          "output_type": "stream",
          "name": "stdout",
          "text": [
            "CPU times: user 1.12 s, sys: 485 ms, total: 1.61 s\n",
            "Wall time: 3.16 s\n"
          ]
        }
      ]
    },
    {
      "cell_type": "code",
      "source": [
        "# Copy dataset from GPU memory to host memory.\n",
        "# This is done to later compare CPU and GPU results.\n",
        "host_data = device_data.to_pandas()"
      ],
      "metadata": {
        "id": "yu6-eTOqjFud"
      },
      "execution_count": 9,
      "outputs": []
    },
    {
      "cell_type": "markdown",
      "source": [
        "### Scikit-learn model"
      ],
      "metadata": {
        "id": "HZWZHAI_jH70"
      }
    },
    {
      "cell_type": "code",
      "source": [
        "%%time\n",
        "knn_sk = skNearestNeighbors(algorithm=\"brute\",\n",
        "                            n_jobs=-1)\n",
        "knn_sk.fit(host_data)"
      ],
      "metadata": {
        "id": "fKW6T0jKjGOr",
        "outputId": "19839fc5-c49a-442c-b80a-ec97e4aa5ea4",
        "colab": {
          "base_uri": "https://localhost:8080/"
        }
      },
      "execution_count": 10,
      "outputs": [
        {
          "output_type": "stream",
          "name": "stdout",
          "text": [
            "CPU times: user 9.55 ms, sys: 866 µs, total: 10.4 ms\n",
            "Wall time: 27.4 ms\n"
          ]
        },
        {
          "output_type": "execute_result",
          "data": {
            "text/plain": [
              "NearestNeighbors(algorithm='brute', n_jobs=-1)"
            ]
          },
          "metadata": {},
          "execution_count": 10
        }
      ]
    },
    {
      "cell_type": "code",
      "source": [
        "%%time\n",
        "D_sk, I_sk = knn_sk.kneighbors(host_data[:n_query], n_neighbors)"
      ],
      "metadata": {
        "id": "1AtJEJywjgB0",
        "outputId": "9c5dcff4-8357-4960-f17f-c68e9d10deeb",
        "colab": {
          "base_uri": "https://localhost:8080/"
        }
      },
      "execution_count": 11,
      "outputs": [
        {
          "output_type": "stream",
          "name": "stdout",
          "text": [
            "CPU times: user 56.8 s, sys: 8.26 s, total: 1min 5s\n",
            "Wall time: 47.2 s\n"
          ]
        }
      ]
    },
    {
      "cell_type": "markdown",
      "source": [
        "\n",
        "\n",
        "---\n",
        "\n",
        "\n",
        "\n",
        "---\n",
        "\n",
        "\n",
        "\n",
        "---\n",
        "\n"
      ],
      "metadata": {
        "id": "V-NV3c5Cj3e4"
      }
    },
    {
      "cell_type": "code",
      "source": [
        "from sklearn import datasets\n",
        "X, y  = datasets.make_classification(n_samples=40000)"
      ],
      "metadata": {
        "id": "nG1gm95xj0ou"
      },
      "execution_count": 12,
      "outputs": []
    },
    {
      "cell_type": "code",
      "source": [
        "X = X.astype(np.float32)\n",
        "y = y.astype(np.float32)"
      ],
      "metadata": {
        "id": "a5kxiwKgj8Og"
      },
      "execution_count": 13,
      "outputs": []
    },
    {
      "cell_type": "code",
      "source": [
        "def train_data(model, X=X, y=y):\n",
        "    clf = model\n",
        "    clf.fit(X, y)"
      ],
      "metadata": {
        "id": "1LacNSvVj-Wk"
      },
      "execution_count": 14,
      "outputs": []
    },
    {
      "cell_type": "code",
      "source": [
        "from sklearn.svm import SVC \n",
        "from cuml.svm import SVC as SVC_gpu\n",
        "\n",
        "clf_svc = SVC(kernel='poly', degree=2, gamma='auto', C=1)\n",
        "sklearn_time_svc = %timeit -o train_data(clf_svc)\n",
        "\n",
        "clf_svc = SVC_gpu(kernel='poly', degree=2, gamma='auto', C=1)\n",
        "cuml_time_svc = %timeit -o train_data(clf_svc)\n",
        "\n",
        "print(f\"\"\"Average time of sklearn's {clf_svc.__class__.__name__}\"\"\", sklearn_time_svc.average, 's')\n",
        "print(f\"\"\"Average time of cuml's {clf_svc.__class__.__name__}\"\"\", cuml_time_svc.average, 's')\n",
        "\n",
        "print('Ratio between sklearn and cuml is', sklearn_time_svc.average/cuml_time_svc.average)"
      ],
      "metadata": {
        "id": "2ex67iyykA_l",
        "outputId": "574574ac-b749-41af-a2f2-d0b1e12f2498",
        "colab": {
          "base_uri": "https://localhost:8080/"
        }
      },
      "execution_count": 15,
      "outputs": [
        {
          "output_type": "stream",
          "name": "stdout",
          "text": [
            "1min 18s ± 3.58 s per loop (mean ± std. dev. of 7 runs, 1 loop each)\n",
            "2.48 s ± 12.4 ms per loop (mean ± std. dev. of 7 runs, 1 loop each)\n",
            "Average time of sklearn's SVC 78.65281007214298 s\n",
            "Average time of cuml's SVC 2.4763528024286643 s\n",
            "Ratio between sklearn and cuml is 31.761552713734826\n"
          ]
        }
      ]
    },
    {
      "cell_type": "code",
      "source": [
        "!pip install cutecharts\n",
        "\n",
        "import cutecharts.charts as ctc \n",
        "\n",
        "def plot(sklearn_time, cuml_time):\n",
        "\n",
        "    chart = ctc.Bar('Sklearn vs cuml')\n",
        "    chart.set_options(\n",
        "        labels=['sklearn', 'cuml'],\n",
        "        x_label='library',\n",
        "        y_label='time (s)',\n",
        "        )\n",
        "\n",
        "    chart.add_series('time', data=[round(sklearn_time.average,2), round(cuml_time.average,2)])\n",
        "    return chart"
      ],
      "metadata": {
        "id": "vC5FKAApkDO0",
        "outputId": "e02386d4-1ce1-47bd-923a-5a2ce0f1b950",
        "colab": {
          "base_uri": "https://localhost:8080/"
        }
      },
      "execution_count": 16,
      "outputs": [
        {
          "output_type": "stream",
          "name": "stdout",
          "text": [
            "Looking in indexes: https://pypi.org/simple, https://us-python.pkg.dev/colab-wheels/public/simple/\n",
            "Collecting cutecharts\n",
            "  Downloading cutecharts-1.2.0-py3-none-any.whl (17 kB)\n",
            "Requirement already satisfied: jinja2 in /usr/local/lib/python3.7/site-packages (from cutecharts) (3.1.2)\n",
            "Requirement already satisfied: MarkupSafe>=2.0 in /usr/local/lib/python3.7/site-packages (from jinja2->cutecharts) (2.1.1)\n",
            "Installing collected packages: cutecharts\n",
            "Successfully installed cutecharts-1.2.0\n",
            "\u001b[33mWARNING: Running pip as the 'root' user can result in broken permissions and conflicting behaviour with the system package manager. It is recommended to use a virtual environment instead: https://pip.pypa.io/warnings/venv\u001b[0m\u001b[33m\n",
            "\u001b[0m"
          ]
        }
      ]
    },
    {
      "cell_type": "code",
      "source": [
        "plot(sklearn_time_svc, cuml_time_svc).render_notebook()"
      ],
      "metadata": {
        "id": "enuaKk5YkF2J",
        "outputId": "dc42203d-c70a-41c7-da70-74c6f338332e",
        "colab": {
          "base_uri": "https://localhost:8080/",
          "height": 171
        }
      },
      "execution_count": 20,
      "outputs": [
        {
          "output_type": "execute_result",
          "data": {
            "text/plain": [
              "<cutecharts.render.engine.HTML at 0x7f4960f0ff50>"
            ],
            "text/html": [
              "\n",
              "<script>\n",
              "    require.config({\n",
              "        paths: {\n",
              "            'chartXkcd':'https://cdn.jsdelivr.net/npm/chart.xkcd@1.1/dist/chart.xkcd.min'\n",
              "        }\n",
              "    });\n",
              "</script>\n",
              "\n",
              "<div id=\"96f7cf8c93e44a79909be2c474c7df48\" class=\"chart-container\" style=\"width: 800px\">\n",
              "        <svg id=\"chart_96f7cf8c93e44a79909be2c474c7df48\"></svg>\n",
              "    </div>\n",
              "    <script>\n",
              "        require(['chartXkcd'], function(chartXkcd) {\n",
              "            const svg_96f7cf8c93e44a79909be2c474c7df48 = document.querySelector('#chart_96f7cf8c93e44a79909be2c474c7df48')\n",
              "            const chart_96f7cf8c93e44a79909be2c474c7df48 = new chartXkcd.Bar(svg_96f7cf8c93e44a79909be2c474c7df48, {\"title\": \"Sklearn vs cuml\", \"data\": {\"datasets\": [{\"label\": \"time\", \"data\": [78.65, 2.48]}], \"labels\": [\"sklearn\", \"cuml\"]}, \"xLabel\": \"library\", \"yLabel\": \"time (s)\", \"options\": {\"yTickCount\": 3}});\n",
              "        })\n",
              "    </script>\n"
            ]
          },
          "metadata": {},
          "execution_count": 20
        }
      ]
    },
    {
      "cell_type": "code",
      "source": [
        "from cuml.neighbors import (KNeighborsClassifier as KNeighborsClassifier_gpu,\n",
        "                            KNeighborsRegressor as KNeighborsRegressor_gpu)\n",
        "from sklearn.neighbors import KNeighborsClassifier, KNeighborsRegressor\n"
      ],
      "metadata": {
        "id": "-O2hsYVqoOYt"
      },
      "execution_count": 21,
      "outputs": []
    },
    {
      "cell_type": "code",
      "source": [
        "clf_nn = KNeighborsClassifier(n_neighbors=10)\n",
        "sklearn_time_nn = %timeit -o train_data(clf_nn)\n"
      ],
      "metadata": {
        "id": "o3Ov7-2yol3X",
        "outputId": "e2c5732b-365f-46f1-aa71-934a24749fea",
        "colab": {
          "base_uri": "https://localhost:8080/"
        }
      },
      "execution_count": 25,
      "outputs": [
        {
          "output_type": "stream",
          "name": "stdout",
          "text": [
            "3.22 ms ± 31.7 µs per loop (mean ± std. dev. of 7 runs, 100 loops each)\n"
          ]
        }
      ]
    },
    {
      "cell_type": "code",
      "source": [
        "clf_nn = KNeighborsClassifier_gpu(n_neighbors=10)\n",
        "cuml_time_nn = %timeit -o train_data(clf_nn)"
      ],
      "metadata": {
        "id": "WeGhKf6XooRf",
        "outputId": "59fe101d-60af-4976-9d3b-1472d58a0432",
        "colab": {
          "base_uri": "https://localhost:8080/"
        }
      },
      "execution_count": 26,
      "outputs": [
        {
          "output_type": "stream",
          "name": "stdout",
          "text": [
            "2.47 ms ± 25.7 µs per loop (mean ± std. dev. of 7 runs, 100 loops each)\n"
          ]
        }
      ]
    },
    {
      "cell_type": "code",
      "source": [
        "print(f\"\"\"Average time of sklearn's {clf_nn.__class__.__name__}\"\"\", sklearn_time_nn.average, 's')\n",
        "print(f\"\"\"Average time of cuml's {clf_nn.__class__.__name__}\"\"\", cuml_time_nn.average, 's')\n",
        "\n",
        "print('Ratio between sklearn and cuml is', sklearn_time_nn.average/cuml_time_nn.average)"
      ],
      "metadata": {
        "id": "nyRInmEooqVo",
        "outputId": "82342742-c60e-4f35-c26d-6c552a3747ce",
        "colab": {
          "base_uri": "https://localhost:8080/"
        }
      },
      "execution_count": 27,
      "outputs": [
        {
          "output_type": "stream",
          "name": "stdout",
          "text": [
            "Average time of sklearn's KNeighborsClassifier 0.003222532555714679 s\n",
            "Average time of cuml's KNeighborsClassifier 0.002467951844285251 s\n",
            "Ratio between sklearn and cuml is 1.3057517970525732\n"
          ]
        }
      ]
    },
    {
      "cell_type": "code",
      "source": [
        "plot(sklearn_time_nn, cuml_time_nn).render_notebook()"
      ],
      "metadata": {
        "id": "bp7B-5pho2Ud",
        "outputId": "ccacc974-db52-406d-e573-b032b7c88980",
        "colab": {
          "base_uri": "https://localhost:8080/",
          "height": 171
        }
      },
      "execution_count": 28,
      "outputs": [
        {
          "output_type": "execute_result",
          "data": {
            "text/plain": [
              "<cutecharts.render.engine.HTML at 0x7f4968118210>"
            ],
            "text/html": [
              "\n",
              "<script>\n",
              "    require.config({\n",
              "        paths: {\n",
              "            'chartXkcd':'https://cdn.jsdelivr.net/npm/chart.xkcd@1.1/dist/chart.xkcd.min'\n",
              "        }\n",
              "    });\n",
              "</script>\n",
              "\n",
              "<div id=\"136f7876ad2c4b59a06d061744c42948\" class=\"chart-container\" style=\"width: 800px\">\n",
              "        <svg id=\"chart_136f7876ad2c4b59a06d061744c42948\"></svg>\n",
              "    </div>\n",
              "    <script>\n",
              "        require(['chartXkcd'], function(chartXkcd) {\n",
              "            const svg_136f7876ad2c4b59a06d061744c42948 = document.querySelector('#chart_136f7876ad2c4b59a06d061744c42948')\n",
              "            const chart_136f7876ad2c4b59a06d061744c42948 = new chartXkcd.Bar(svg_136f7876ad2c4b59a06d061744c42948, {\"title\": \"Sklearn vs cuml\", \"data\": {\"datasets\": [{\"label\": \"time\", \"data\": [0.0, 0.0]}], \"labels\": [\"sklearn\", \"cuml\"]}, \"xLabel\": \"library\", \"yLabel\": \"time (s)\", \"options\": {\"yTickCount\": 3}});\n",
              "        })\n",
              "    </script>\n"
            ]
          },
          "metadata": {},
          "execution_count": 28
        }
      ]
    },
    {
      "cell_type": "markdown",
      "metadata": {
        "id": "Dlsyk9m9NN2K"
      },
      "source": [
        "# Next Steps #\n",
        "\n",
        "For an overview of how you can access and work with your own datasets in Colab, check out [this guide](https://towardsdatascience.com/3-ways-to-load-csv-files-into-colab-7c14fcbdcb92).\n",
        "\n",
        "For more RAPIDS examples, check out our RAPIDS notebooks repos:\n",
        "1. https://github.com/rapidsai/notebooks\n",
        "2. https://github.com/rapidsai/notebooks-contrib"
      ]
    }
  ]
}
