{
  "nbformat": 4,
  "nbformat_minor": 0,
  "metadata": {
    "colab": {
      "provenance": [],
      "authorship_tag": "ABX9TyMKVG0Hv308biRXB9/NWIiY"
    },
    "kernelspec": {
      "name": "python3",
      "display_name": "Python 3"
    },
    "language_info": {
      "name": "python"
    }
  },
  "cells": [
    {
      "cell_type": "code",
      "execution_count": 1,
      "metadata": {
        "colab": {
          "base_uri": "https://localhost:8080/"
        },
        "id": "yA5lDpud6CpJ",
        "outputId": "8c8c7a37-7d77-4102-9f3a-a2c849cd6e11"
      },
      "outputs": [
        {
          "output_type": "stream",
          "name": "stdout",
          "text": [
            "Cloning into 'hugo-digital-garden-theme'...\n",
            "remote: Enumerating objects: 356, done.\u001b[K\n",
            "remote: Counting objects: 100% (116/116), done.\u001b[K\n",
            "remote: Compressing objects: 100% (60/60), done.\u001b[K\n",
            "remote: Total 356 (delta 79), reused 59 (delta 56), pack-reused 240\u001b[K\n",
            "Receiving objects: 100% (356/356), 7.69 MiB | 19.01 MiB/s, done.\n",
            "Resolving deltas: 100% (142/142), done.\n"
          ]
        }
      ],
      "source": [
        "!git clone https://github.com/paulmartins/hugo-digital-garden-theme"
      ]
    },
    {
      "cell_type": "code",
      "source": [
        "!ls -R\n"
      ],
      "metadata": {
        "colab": {
          "base_uri": "https://localhost:8080/"
        },
        "id": "PBOrI6x_6J14",
        "outputId": "7f086109-8063-4061-823e-673b4f8d6ad6"
      },
      "execution_count": 2,
      "outputs": [
        {
          "output_type": "stream",
          "name": "stdout",
          "text": [
            ".:\n",
            "hugo-digital-garden-theme  sample_data\n",
            "\n",
            "./hugo-digital-garden-theme:\n",
            "archetypes  config.toml  exampleSite  images  layouts  LICENSE\tREADME.md  static  theme.toml\n",
            "\n",
            "./hugo-digital-garden-theme/archetypes:\n",
            "default.md\n",
            "\n",
            "./hugo-digital-garden-theme/exampleSite:\n",
            "config.toml  content  static\n",
            "\n",
            "./hugo-digital-garden-theme/exampleSite/content:\n",
            "about  garden  library\tprojects\n",
            "\n",
            "./hugo-digital-garden-theme/exampleSite/content/about:\n",
            "featured.jpg  index.md\n",
            "\n",
            "./hugo-digital-garden-theme/exampleSite/content/garden:\n",
            "evergreen_example.md  growing_example.md  _index.md  seeding_example.md\n",
            "\n",
            "./hugo-digital-garden-theme/exampleSite/content/library:\n",
            "book1  book2  _index.md\n",
            "\n",
            "./hugo-digital-garden-theme/exampleSite/content/library/book1:\n",
            "featured.jpg  index.md\n",
            "\n",
            "./hugo-digital-garden-theme/exampleSite/content/library/book2:\n",
            "featured.jpg  index.md\n",
            "\n",
            "./hugo-digital-garden-theme/exampleSite/content/projects:\n",
            "_index.md  project1  project2  project3\n",
            "\n",
            "./hugo-digital-garden-theme/exampleSite/content/projects/project1:\n",
            "featured.png  index.md\tjessica-weiller-GAw5wFLVWVo-unsplash.jpg\n",
            "\n",
            "./hugo-digital-garden-theme/exampleSite/content/projects/project2:\n",
            "featured.png  index.md\n",
            "\n",
            "./hugo-digital-garden-theme/exampleSite/content/projects/project3:\n",
            "index.md\n",
            "\n",
            "./hugo-digital-garden-theme/exampleSite/static:\n",
            "css\n",
            "\n",
            "./hugo-digital-garden-theme/exampleSite/static/css:\n",
            "my_style.css\n",
            "\n",
            "./hugo-digital-garden-theme/images:\n",
            "screenshot.png\ttn.png\n",
            "\n",
            "./hugo-digital-garden-theme/layouts:\n",
            "404.html  _default  garden  index.html\tlibrary  partials  projects  shortcodes\n",
            "\n",
            "./hugo-digital-garden-theme/layouts/_default:\n",
            "about.html  baseof.html  list.html  single.html\n",
            "\n",
            "./hugo-digital-garden-theme/layouts/garden:\n",
            "list.html\n",
            "\n",
            "./hugo-digital-garden-theme/layouts/library:\n",
            "list.html  single.html\n",
            "\n",
            "./hugo-digital-garden-theme/layouts/partials:\n",
            "card_book.html\t  card_project.html  header.html  home_garden.html   metadata.html  status.html\n",
            "card_garden.html  footer.html\t     head.html\t  home_project.html  script.html\n",
            "\n",
            "./hugo-digital-garden-theme/layouts/projects:\n",
            "list.html\n",
            "\n",
            "./hugo-digital-garden-theme/layouts/shortcodes:\n",
            "column.html  image.html  mermaid.html  row.html\n",
            "\n",
            "./hugo-digital-garden-theme/static:\n",
            "css  js  webfonts\n",
            "\n",
            "./hugo-digital-garden-theme/static/css:\n",
            "all.min.css  bootstrap.min.css\tdark.css  style.css\n",
            "\n",
            "./hugo-digital-garden-theme/static/js:\n",
            "bootstrap.min.js  dark.js  isotope.js  isotope.pkgd.min.js  jquery.min.js  mermaid.min.js\n",
            "\n",
            "./hugo-digital-garden-theme/static/webfonts:\n",
            "fa-brands-400.eot   fa-brands-400.woff2  fa-regular-400.woff   fa-solid-900.ttf\n",
            "fa-brands-400.svg   fa-regular-400.eot\t fa-regular-400.woff2  fa-solid-900.woff\n",
            "fa-brands-400.ttf   fa-regular-400.svg\t fa-solid-900.eot      fa-solid-900.woff2\n",
            "fa-brands-400.woff  fa-regular-400.ttf\t fa-solid-900.svg\n",
            "\n",
            "./sample_data:\n",
            "anscombe.json\t\t     california_housing_train.csv  mnist_train_small.csv\n",
            "california_housing_test.csv  mnist_test.csv\t\t   README.md\n"
          ]
        }
      ]
    },
    {
      "cell_type": "code",
      "source": [
        "!ls -R > folder_structure.txt\n"
      ],
      "metadata": {
        "id": "FJdXkU8l6N8s"
      },
      "execution_count": 3,
      "outputs": []
    },
    {
      "cell_type": "code",
      "source": [],
      "metadata": {
        "id": "c0tniWMc6RDu"
      },
      "execution_count": null,
      "outputs": []
    }
  ]
}