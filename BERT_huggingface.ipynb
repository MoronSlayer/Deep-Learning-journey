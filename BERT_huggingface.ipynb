{
  "cells": [
    {
      "cell_type": "markdown",
      "metadata": {
        "id": "view-in-github",
        "colab_type": "text"
      },
      "source": [
        "<a href=\"https://colab.research.google.com/github/MoronSlayer/Deep-Learning-Projects/blob/learner/BERT_huggingface.ipynb\" target=\"_parent\"><img src=\"https://colab.research.google.com/assets/colab-badge.svg\" alt=\"Open In Colab\"/></a>"
      ]
    },
    {
      "cell_type": "code",
      "execution_count": null,
      "metadata": {
        "colab": {
          "base_uri": "https://localhost:8080/"
        },
        "id": "LnrrOyRLt9F4",
        "outputId": "0cf7658d-e9e9-4745-9839-1dd1b7909156"
      },
      "outputs": [
        {
          "output_type": "stream",
          "name": "stdout",
          "text": [
            "Cloning into 'transformers'...\n",
            "remote: Enumerating objects: 111054, done.\u001b[K\n",
            "remote: Counting objects: 100% (123/123), done.\u001b[K\n",
            "remote: Compressing objects: 100% (75/75), done.\u001b[K\n",
            "^C\n"
          ]
        }
      ],
      "source": [
        "# !git clone https://github.com/huggingface/transformers.git"
      ]
    },
    {
      "cell_type": "code",
      "execution_count": null,
      "metadata": {
        "colab": {
          "base_uri": "https://localhost:8080/"
        },
        "id": "OOycEm0TF-DW",
        "outputId": "654f8519-2ed8-4647-c240-27c0eefb2125"
      },
      "outputs": [
        {
          "output_type": "stream",
          "name": "stdout",
          "text": [
            "Looking in indexes: https://pypi.org/simple, https://us-python.pkg.dev/colab-wheels/public/simple/\n",
            "Collecting transformers\n",
            "  Downloading transformers-4.22.2-py3-none-any.whl (4.9 MB)\n",
            "\u001b[K     |████████████████████████████████| 4.9 MB 25.8 MB/s \n",
            "\u001b[?25hCollecting huggingface-hub<1.0,>=0.9.0\n",
            "  Downloading huggingface_hub-0.10.0-py3-none-any.whl (163 kB)\n",
            "\u001b[K     |████████████████████████████████| 163 kB 54.0 MB/s \n",
            "\u001b[?25hRequirement already satisfied: pyyaml>=5.1 in /usr/local/lib/python3.7/dist-packages (from transformers) (6.0)\n",
            "Requirement already satisfied: regex!=2019.12.17 in /usr/local/lib/python3.7/dist-packages (from transformers) (2022.6.2)\n",
            "Requirement already satisfied: importlib-metadata in /usr/local/lib/python3.7/dist-packages (from transformers) (4.12.0)\n",
            "Requirement already satisfied: tqdm>=4.27 in /usr/local/lib/python3.7/dist-packages (from transformers) (4.64.1)\n",
            "Collecting tokenizers!=0.11.3,<0.13,>=0.11.1\n",
            "  Downloading tokenizers-0.12.1-cp37-cp37m-manylinux_2_12_x86_64.manylinux2010_x86_64.whl (6.6 MB)\n",
            "\u001b[K     |████████████████████████████████| 6.6 MB 65.0 MB/s \n",
            "\u001b[?25hRequirement already satisfied: packaging>=20.0 in /usr/local/lib/python3.7/dist-packages (from transformers) (21.3)\n",
            "Requirement already satisfied: requests in /usr/local/lib/python3.7/dist-packages (from transformers) (2.23.0)\n",
            "Requirement already satisfied: filelock in /usr/local/lib/python3.7/dist-packages (from transformers) (3.8.0)\n",
            "Requirement already satisfied: numpy>=1.17 in /usr/local/lib/python3.7/dist-packages (from transformers) (1.21.6)\n",
            "Requirement already satisfied: typing-extensions>=3.7.4.3 in /usr/local/lib/python3.7/dist-packages (from huggingface-hub<1.0,>=0.9.0->transformers) (4.1.1)\n",
            "Requirement already satisfied: pyparsing!=3.0.5,>=2.0.2 in /usr/local/lib/python3.7/dist-packages (from packaging>=20.0->transformers) (3.0.9)\n",
            "Requirement already satisfied: zipp>=0.5 in /usr/local/lib/python3.7/dist-packages (from importlib-metadata->transformers) (3.8.1)\n",
            "Requirement already satisfied: idna<3,>=2.5 in /usr/local/lib/python3.7/dist-packages (from requests->transformers) (2.10)\n",
            "Requirement already satisfied: urllib3!=1.25.0,!=1.25.1,<1.26,>=1.21.1 in /usr/local/lib/python3.7/dist-packages (from requests->transformers) (1.24.3)\n",
            "Requirement already satisfied: certifi>=2017.4.17 in /usr/local/lib/python3.7/dist-packages (from requests->transformers) (2022.6.15)\n",
            "Requirement already satisfied: chardet<4,>=3.0.2 in /usr/local/lib/python3.7/dist-packages (from requests->transformers) (3.0.4)\n",
            "Installing collected packages: tokenizers, huggingface-hub, transformers\n",
            "Successfully installed huggingface-hub-0.10.0 tokenizers-0.12.1 transformers-4.22.2\n",
            "Looking in indexes: https://pypi.org/simple, https://us-python.pkg.dev/colab-wheels/public/simple/\n",
            "Collecting datasets\n",
            "  Downloading datasets-2.5.1-py3-none-any.whl (431 kB)\n",
            "\u001b[K     |████████████████████████████████| 431 kB 26.6 MB/s \n",
            "\u001b[?25hCollecting responses<0.19\n",
            "  Downloading responses-0.18.0-py3-none-any.whl (38 kB)\n",
            "Requirement already satisfied: pyarrow>=6.0.0 in /usr/local/lib/python3.7/dist-packages (from datasets) (6.0.1)\n",
            "Requirement already satisfied: tqdm>=4.62.1 in /usr/local/lib/python3.7/dist-packages (from datasets) (4.64.1)\n",
            "Collecting xxhash\n",
            "  Downloading xxhash-3.0.0-cp37-cp37m-manylinux_2_17_x86_64.manylinux2014_x86_64.whl (212 kB)\n",
            "\u001b[K     |████████████████████████████████| 212 kB 51.7 MB/s \n",
            "\u001b[?25hRequirement already satisfied: fsspec[http]>=2021.11.1 in /usr/local/lib/python3.7/dist-packages (from datasets) (2022.8.2)\n",
            "Requirement already satisfied: numpy>=1.17 in /usr/local/lib/python3.7/dist-packages (from datasets) (1.21.6)\n",
            "Requirement already satisfied: huggingface-hub<1.0.0,>=0.1.0 in /usr/local/lib/python3.7/dist-packages (from datasets) (0.10.0)\n",
            "Requirement already satisfied: aiohttp in /usr/local/lib/python3.7/dist-packages (from datasets) (3.8.1)\n",
            "Requirement already satisfied: importlib-metadata in /usr/local/lib/python3.7/dist-packages (from datasets) (4.12.0)\n",
            "Requirement already satisfied: dill<0.3.6 in /usr/local/lib/python3.7/dist-packages (from datasets) (0.3.5.1)\n",
            "Requirement already satisfied: requests>=2.19.0 in /usr/local/lib/python3.7/dist-packages (from datasets) (2.23.0)\n",
            "Collecting multiprocess\n",
            "  Downloading multiprocess-0.70.13-py37-none-any.whl (115 kB)\n",
            "\u001b[K     |████████████████████████████████| 115 kB 74.3 MB/s \n",
            "\u001b[?25hRequirement already satisfied: pandas in /usr/local/lib/python3.7/dist-packages (from datasets) (1.3.5)\n",
            "Requirement already satisfied: packaging in /usr/local/lib/python3.7/dist-packages (from datasets) (21.3)\n",
            "Requirement already satisfied: aiosignal>=1.1.2 in /usr/local/lib/python3.7/dist-packages (from aiohttp->datasets) (1.2.0)\n",
            "Requirement already satisfied: async-timeout<5.0,>=4.0.0a3 in /usr/local/lib/python3.7/dist-packages (from aiohttp->datasets) (4.0.2)\n",
            "Requirement already satisfied: charset-normalizer<3.0,>=2.0 in /usr/local/lib/python3.7/dist-packages (from aiohttp->datasets) (2.1.1)\n",
            "Requirement already satisfied: attrs>=17.3.0 in /usr/local/lib/python3.7/dist-packages (from aiohttp->datasets) (22.1.0)\n",
            "Requirement already satisfied: multidict<7.0,>=4.5 in /usr/local/lib/python3.7/dist-packages (from aiohttp->datasets) (6.0.2)\n",
            "Requirement already satisfied: frozenlist>=1.1.1 in /usr/local/lib/python3.7/dist-packages (from aiohttp->datasets) (1.3.1)\n",
            "Requirement already satisfied: typing-extensions>=3.7.4 in /usr/local/lib/python3.7/dist-packages (from aiohttp->datasets) (4.1.1)\n",
            "Requirement already satisfied: yarl<2.0,>=1.0 in /usr/local/lib/python3.7/dist-packages (from aiohttp->datasets) (1.8.1)\n",
            "Requirement already satisfied: asynctest==0.13.0 in /usr/local/lib/python3.7/dist-packages (from aiohttp->datasets) (0.13.0)\n",
            "Requirement already satisfied: filelock in /usr/local/lib/python3.7/dist-packages (from huggingface-hub<1.0.0,>=0.1.0->datasets) (3.8.0)\n",
            "Requirement already satisfied: pyyaml>=5.1 in /usr/local/lib/python3.7/dist-packages (from huggingface-hub<1.0.0,>=0.1.0->datasets) (6.0)\n",
            "Requirement already satisfied: pyparsing!=3.0.5,>=2.0.2 in /usr/local/lib/python3.7/dist-packages (from packaging->datasets) (3.0.9)\n",
            "Requirement already satisfied: chardet<4,>=3.0.2 in /usr/local/lib/python3.7/dist-packages (from requests>=2.19.0->datasets) (3.0.4)\n",
            "Requirement already satisfied: urllib3!=1.25.0,!=1.25.1,<1.26,>=1.21.1 in /usr/local/lib/python3.7/dist-packages (from requests>=2.19.0->datasets) (1.24.3)\n",
            "Requirement already satisfied: certifi>=2017.4.17 in /usr/local/lib/python3.7/dist-packages (from requests>=2.19.0->datasets) (2022.6.15)\n",
            "Requirement already satisfied: idna<3,>=2.5 in /usr/local/lib/python3.7/dist-packages (from requests>=2.19.0->datasets) (2.10)\n",
            "Collecting urllib3!=1.25.0,!=1.25.1,<1.26,>=1.21.1\n",
            "  Downloading urllib3-1.25.11-py2.py3-none-any.whl (127 kB)\n",
            "\u001b[K     |████████████████████████████████| 127 kB 69.8 MB/s \n",
            "\u001b[?25hRequirement already satisfied: zipp>=0.5 in /usr/local/lib/python3.7/dist-packages (from importlib-metadata->datasets) (3.8.1)\n",
            "Requirement already satisfied: python-dateutil>=2.7.3 in /usr/local/lib/python3.7/dist-packages (from pandas->datasets) (2.8.2)\n",
            "Requirement already satisfied: pytz>=2017.3 in /usr/local/lib/python3.7/dist-packages (from pandas->datasets) (2022.2.1)\n",
            "Requirement already satisfied: six>=1.5 in /usr/local/lib/python3.7/dist-packages (from python-dateutil>=2.7.3->pandas->datasets) (1.15.0)\n",
            "Installing collected packages: urllib3, xxhash, responses, multiprocess, datasets\n",
            "  Attempting uninstall: urllib3\n",
            "    Found existing installation: urllib3 1.24.3\n",
            "    Uninstalling urllib3-1.24.3:\n",
            "      Successfully uninstalled urllib3-1.24.3\n",
            "Successfully installed datasets-2.5.1 multiprocess-0.70.13 responses-0.18.0 urllib3-1.25.11 xxhash-3.0.0\n"
          ]
        }
      ],
      "source": [
        "!pip install transformers\n",
        "!pip install datasets"
      ]
    },
    {
      "cell_type": "code",
      "source": [],
      "metadata": {
        "id": "fbzDs-bxpQRI"
      },
      "execution_count": null,
      "outputs": []
    },
    {
      "cell_type": "code",
      "execution_count": null,
      "metadata": {
        "colab": {
          "base_uri": "https://localhost:8080/"
        },
        "id": "b2Nv7ajKu8lD",
        "outputId": "6638808f-7576-478f-e1a1-b317ac622538"
      },
      "outputs": [
        {
          "name": "stdout",
          "output_type": "stream",
          "text": [
            "Name: transformers\n",
            "Version: 4.22.1\n",
            "Summary: State-of-the-art Machine Learning for JAX, PyTorch and TensorFlow\n",
            "Home-page: https://github.com/huggingface/transformers\n",
            "Author: The Hugging Face team (past and future) with the help of all our contributors (https://github.com/huggingface/transformers/graphs/contributors)\n",
            "Author-email: transformers@huggingface.co\n",
            "License: Apache\n",
            "Location: /usr/local/lib/python3.7/dist-packages\n",
            "Requires: tqdm, huggingface-hub, requests, importlib-metadata, packaging, regex, tokenizers, pyyaml, filelock, numpy\n",
            "Required-by: \n"
          ]
        }
      ],
      "source": [
        "!pip show transformers"
      ]
    },
    {
      "cell_type": "code",
      "source": [
        "from datasets import load_dataset\n",
        "\n",
        "dataset = load_dataset(\"wikitext\",'wikitext-2-v1')"
      ],
      "metadata": {
        "colab": {
          "base_uri": "https://localhost:8080/",
          "height": 201,
          "referenced_widgets": [
            "2392dbebff5740f6b38254b73e001cc9",
            "fa6bd7abeb58453ca803fa27113c8d4c",
            "08569ea1e65840c6b1ef4990af271334",
            "586b28c24b234e31a6b52cd99aac2c5c",
            "f089fd3b45a24ff1a81384ff4a9f8ce1",
            "fc0fb7e0b989435eaa059fe291f53dc7",
            "14266f8a895c437eb3a8821d4a46afb7",
            "d1e7e8ecd32849f19f77a2418f0e7bdf",
            "79d3920560f345559603fd5f546c5eaf",
            "4e4a601dd6824bd69aca8b0b675b3af8",
            "f85b86e4acf04ecc9d0e69f06e6b2d95",
            "51e6b71cc28d424d930081e0416905d0",
            "9a4656596a4b46c2bf6589b4d3cb7402",
            "ac4e51a169684cc38012e2bf2ee66547",
            "2bcc1bc4dd5a4d6b9342ec8cc5259bd2",
            "294cfddc69ff40cf8086e68f52dc8156",
            "ccd853aba41446b8a1276e13aa4853f8",
            "51c0300f30ee444aab15bd361a6e0cab",
            "4415d596bce7471997acf2458bb06e21",
            "59d0c548a73d4dba80c9ff74014bb44b",
            "e0df568883604c0aaeb10f8f292c7266",
            "cfe185de524d449eb7a27862eab39bf3",
            "5796c7d9cf4c4336a1293f1f7f943b5d",
            "fbcb7786373f4ce7ad3b94c8df8e7349",
            "37f8723821004e51b2d6df72572c718a",
            "489fa027f0dc49668b4370d761253ef8",
            "a9b20705b4e94f709d91b9b144ee921f",
            "f517d1681c5d435fa5e023b1dd4509aa",
            "8f0f2cb80bc64043a8b787eb484c3843",
            "92bd85bc99684d9c991a69e2fce5a943",
            "67711c54f8fb4bea9ae2dc031cef5fcd",
            "cbd1855e2f4a4a2d9d39dc6d9e163d88",
            "4d7eb958c079414b8d0febef86108919",
            "2956283caf7540dbb39c8f87abea32ee",
            "27678745908e40e8bd5abbe8ab0cefb4",
            "daefe259e47f4257acc293844c468eeb",
            "0fc8a77af7a34743ae16482b00af01d2",
            "d31d7936a8e84f0495c7e244dcd917ef",
            "a80eba0bd65f465e83fcb60898386bd1",
            "ca499179ea59452e9d65e5893394aded",
            "67eb3044960148a6b0559c87c7301404",
            "b46b73d100754790974812e16cb6b5f0",
            "0c2b3be9261a421eb6ae887f37de0761",
            "ba6d0ec737c64718af42c6e98e531d3b",
            "3d18121c6d71488eb769f245bce9c777",
            "b070881b572c4f21b0751e0cd777bdd1",
            "a9494b9e25bb461ba45b3146333c8691",
            "4ecd0fde47684f57a714dc1cc3d5d1c6",
            "ce0e75233d25444e8c9b94121b283844",
            "6197b07efa624e769d32ef29c3079056",
            "75e0de297ce54ea7ad35ca15b4e8cc02",
            "e9e50bb76abc46abbd58a53e649d90d6",
            "d51c108b88d84ed6bab23f799b6acce7",
            "8b955126ee7c4b1aac23aeb364381233",
            "d069ce64cd5045d6b72e486765fc1d70",
            "3d643013c2044d0ea070f9c4c1d1817f",
            "5b10d4b51cc94a92b79b9597ba21c1a1",
            "107b596c8c21472c9c8b5c1fece15040",
            "2e5c07d224684f0888cf4ae0917b8437",
            "6b8c508b411b4f5795156693baf797de",
            "68243d59fe6745cf92440953219b223b",
            "9dddd657a56343fba0f09658cfe9cdea",
            "b38578446b9a4b008afae64b42d8b82e",
            "92d424875a4842049ba21364ab6b7cb6",
            "33769559dae047b5b6811e8a26a9f254",
            "392f823db33d459db3626a38fd6f51a7",
            "182955a38d6643b296b0f2dc6524e7f5",
            "dc7dc4908a5c4259b12d9847389822fb",
            "015b7928130c41e0ad07a7b1c928da7d",
            "459e4dcb41d54db1ba98f119b0702ae2",
            "d86f27b4a92f42869a8209b9e870221b",
            "862327c5995345d697371781d44c1bd4",
            "cd7c5499334148099f2ef68372f86a7d",
            "84536714ebf748a7a7334f024d9426b7",
            "a36aa4a6c522416b86729660385f62e0",
            "7c8cf79a3e024e3d9ce6872c6ed2efda",
            "96a9b533c7844c3890fc37908f05cf4f"
          ]
        },
        "id": "qfiWKVkWPHSx",
        "outputId": "f805c3c1-f8a2-4c21-d0f6-fff5771b306d"
      },
      "execution_count": null,
      "outputs": [
        {
          "output_type": "display_data",
          "data": {
            "text/plain": [
              "Downloading builder script:   0%|          | 0.00/8.48k [00:00<?, ?B/s]"
            ],
            "application/vnd.jupyter.widget-view+json": {
              "version_major": 2,
              "version_minor": 0,
              "model_id": "2392dbebff5740f6b38254b73e001cc9"
            }
          },
          "metadata": {}
        },
        {
          "output_type": "display_data",
          "data": {
            "text/plain": [
              "Downloading metadata:   0%|          | 0.00/6.84k [00:00<?, ?B/s]"
            ],
            "application/vnd.jupyter.widget-view+json": {
              "version_major": 2,
              "version_minor": 0,
              "model_id": "51e6b71cc28d424d930081e0416905d0"
            }
          },
          "metadata": {}
        },
        {
          "output_type": "stream",
          "name": "stdout",
          "text": [
            "Downloading and preparing dataset wikitext/wikitext-2-v1 (download: 4.27 MiB, generated: 12.71 MiB, post-processed: Unknown size, total: 16.97 MiB) to /root/.cache/huggingface/datasets/wikitext/wikitext-2-v1/1.0.0/a241db52902eaf2c6aa732210bead40c090019a499ceb13bcbfa3f8ab646a126...\n"
          ]
        },
        {
          "output_type": "display_data",
          "data": {
            "text/plain": [
              "Downloading data:   0%|          | 0.00/4.48M [00:00<?, ?B/s]"
            ],
            "application/vnd.jupyter.widget-view+json": {
              "version_major": 2,
              "version_minor": 0,
              "model_id": "5796c7d9cf4c4336a1293f1f7f943b5d"
            }
          },
          "metadata": {}
        },
        {
          "output_type": "display_data",
          "data": {
            "text/plain": [
              "Generating test split:   0%|          | 0/4358 [00:00<?, ? examples/s]"
            ],
            "application/vnd.jupyter.widget-view+json": {
              "version_major": 2,
              "version_minor": 0,
              "model_id": "2956283caf7540dbb39c8f87abea32ee"
            }
          },
          "metadata": {}
        },
        {
          "output_type": "display_data",
          "data": {
            "text/plain": [
              "Generating train split:   0%|          | 0/36718 [00:00<?, ? examples/s]"
            ],
            "application/vnd.jupyter.widget-view+json": {
              "version_major": 2,
              "version_minor": 0,
              "model_id": "3d18121c6d71488eb769f245bce9c777"
            }
          },
          "metadata": {}
        },
        {
          "output_type": "display_data",
          "data": {
            "text/plain": [
              "Generating validation split:   0%|          | 0/3760 [00:00<?, ? examples/s]"
            ],
            "application/vnd.jupyter.widget-view+json": {
              "version_major": 2,
              "version_minor": 0,
              "model_id": "3d643013c2044d0ea070f9c4c1d1817f"
            }
          },
          "metadata": {}
        },
        {
          "output_type": "stream",
          "name": "stdout",
          "text": [
            "Dataset wikitext downloaded and prepared to /root/.cache/huggingface/datasets/wikitext/wikitext-2-v1/1.0.0/a241db52902eaf2c6aa732210bead40c090019a499ceb13bcbfa3f8ab646a126. Subsequent calls will reuse this data.\n"
          ]
        },
        {
          "output_type": "display_data",
          "data": {
            "text/plain": [
              "  0%|          | 0/3 [00:00<?, ?it/s]"
            ],
            "application/vnd.jupyter.widget-view+json": {
              "version_major": 2,
              "version_minor": 0,
              "model_id": "182955a38d6643b296b0f2dc6524e7f5"
            }
          },
          "metadata": {}
        }
      ]
    },
    {
      "cell_type": "code",
      "source": [
        "dataset['train']"
      ],
      "metadata": {
        "colab": {
          "base_uri": "https://localhost:8080/"
        },
        "id": "ic3qBSA1PUNk",
        "outputId": "b84290c9-a1f4-4046-b33a-273dfa32b5ca"
      },
      "execution_count": null,
      "outputs": [
        {
          "output_type": "execute_result",
          "data": {
            "text/plain": [
              "Dataset({\n",
              "    features: ['text'],\n",
              "    num_rows: 36718\n",
              "})"
            ]
          },
          "metadata": {},
          "execution_count": 3
        }
      ]
    },
    {
      "cell_type": "code",
      "source": [
        "dataset['train'][36717]"
      ],
      "metadata": {
        "colab": {
          "base_uri": "https://localhost:8080/"
        },
        "id": "ehUkHhygh7Jd",
        "outputId": "16394f22-1a72-4f42-dac4-c35bdfe5bc0c"
      },
      "execution_count": null,
      "outputs": [
        {
          "output_type": "execute_result",
          "data": {
            "text/plain": [
              "{'text': ''}"
            ]
          },
          "metadata": {},
          "execution_count": 28
        }
      ]
    },
    {
      "cell_type": "code",
      "source": [
        "import pandas as pd \n",
        "df_train = pd.DataFrame(dataset['train'])\n"
      ],
      "metadata": {
        "id": "hb1rconYfkoQ"
      },
      "execution_count": null,
      "outputs": []
    },
    {
      "cell_type": "code",
      "source": [
        "df_train.to_csv('/content/sample_data/train.txt')"
      ],
      "metadata": {
        "id": "nssvQ6-ZgMF-"
      },
      "execution_count": null,
      "outputs": []
    },
    {
      "cell_type": "code",
      "source": [
        "len(df_train)"
      ],
      "metadata": {
        "colab": {
          "base_uri": "https://localhost:8080/"
        },
        "id": "09pgXLHKf130",
        "outputId": "24ade623-700f-478c-ee53-eecd378699d4"
      },
      "execution_count": null,
      "outputs": [
        {
          "output_type": "execute_result",
          "data": {
            "text/plain": [
              "36718"
            ]
          },
          "metadata": {},
          "execution_count": 6
        }
      ]
    },
    {
      "cell_type": "code",
      "execution_count": null,
      "metadata": {
        "id": "HAhuo56YFinN",
        "colab": {
          "base_uri": "https://localhost:8080/",
          "height": 113,
          "referenced_widgets": [
            "4afcb46a05af4936922f2a495d540663",
            "1a00b11f5095475ab543236df20348a6",
            "ec5ef0a63c594b63a27c80f398c33943",
            "17990e802ee949459dd5b1d217da680c",
            "480a78b458c546d2b013805c1af9630e",
            "67171a5991b0468588377a80f9a58c87",
            "6c22befee16340429a272a585f00fffb",
            "b6b5a0e858264ba8a1d46b480daaf65d",
            "9c05423239634430b26f99919406409a",
            "e418528c9453484bba75743e54dc460b",
            "db4a36a2ebb74f35b6aef0651e624b1a",
            "842316af08954317bb1e3b0e5b9bb890",
            "9f7be092691b491295fcadf8286d1c10",
            "8c07b74dda0242bdb1921a4b22b7457d",
            "34cde99b64e348b68be9151b772395fd",
            "42ed3d44f1df4e3dbe5a07227d259a76",
            "39c25b8f874541929c076143e08e9c81",
            "f0dfd1907b6645f38b646149616ed339",
            "430abbc86a33446792a340794710f69a",
            "d87ccf0d00984a9db11c797d0805fef7",
            "7b6b8bd19f784fc5a6bebdef69172c3e",
            "6c96d2d2d4844723b03f9de763382c1c",
            "c7806a0453b24ff3b733b4b461a449a7",
            "c552d23e180e4b73bbe8b1765131df1d",
            "3b77d529cc76457d8dfe472d915b8a76",
            "4b4f8c040d194300a06ddb0e6459f3aa",
            "d17ecb6dfe0847c4813f0fc5d0252758",
            "d6779c77534d4f2784bd3c5ca3231595",
            "a83a11e16ad546d7bf9e8c5d1dafd6bb",
            "6407efa9bda0407aa7fce69d09720f09",
            "9d5a40f7d51149ad98c9c9891c1ad59f",
            "f862daa1da5d4046808e9538a37d57d4",
            "f5a43aff492641b5904209cd248d248e"
          ]
        },
        "outputId": "9a2f3fac-ab7e-4a75-9b8f-c533a5c8a0d0"
      },
      "outputs": [
        {
          "output_type": "display_data",
          "data": {
            "text/plain": [
              "Downloading:   0%|          | 0.00/232k [00:00<?, ?B/s]"
            ],
            "application/vnd.jupyter.widget-view+json": {
              "version_major": 2,
              "version_minor": 0,
              "model_id": "4afcb46a05af4936922f2a495d540663"
            }
          },
          "metadata": {}
        },
        {
          "output_type": "display_data",
          "data": {
            "text/plain": [
              "Downloading:   0%|          | 0.00/28.0 [00:00<?, ?B/s]"
            ],
            "application/vnd.jupyter.widget-view+json": {
              "version_major": 2,
              "version_minor": 0,
              "model_id": "842316af08954317bb1e3b0e5b9bb890"
            }
          },
          "metadata": {}
        },
        {
          "output_type": "display_data",
          "data": {
            "text/plain": [
              "Downloading:   0%|          | 0.00/570 [00:00<?, ?B/s]"
            ],
            "application/vnd.jupyter.widget-view+json": {
              "version_major": 2,
              "version_minor": 0,
              "model_id": "c7806a0453b24ff3b733b4b461a449a7"
            }
          },
          "metadata": {}
        }
      ],
      "source": [
        "from transformers import BertTokenizer\n",
        "bert_cased_tokenizer = BertTokenizer.from_pretrained(\"bert-base-uncased\")"
      ]
    },
    {
      "cell_type": "code",
      "execution_count": null,
      "metadata": {
        "id": "UbL5Wz4pGMNB"
      },
      "outputs": [],
      "source": [
        "from transformers import BertConfig, BertForPreTraining\n",
        "config = BertConfig()\n",
        "model = BertForPreTraining(config)"
      ]
    },
    {
      "cell_type": "code",
      "execution_count": null,
      "metadata": {
        "colab": {
          "base_uri": "https://localhost:8080/"
        },
        "id": "pW2QS3WB-0EH",
        "outputId": "de8f25f8-cd6a-4c9a-f895-8d6a39b022a3"
      },
      "outputs": [
        {
          "data": {
            "text/plain": [
              "BertConfig {\n",
              "  \"architectures\": [\n",
              "    \"BertForPreTraining\"\n",
              "  ],\n",
              "  \"attention_probs_dropout_prob\": 0.1,\n",
              "  \"classifier_dropout\": null,\n",
              "  \"hidden_act\": \"gelu\",\n",
              "  \"hidden_dropout_prob\": 0.1,\n",
              "  \"hidden_size\": 768,\n",
              "  \"initializer_range\": 0.02,\n",
              "  \"intermediate_size\": 3072,\n",
              "  \"layer_norm_eps\": 1e-12,\n",
              "  \"max_position_embeddings\": 512,\n",
              "  \"model_type\": \"bert\",\n",
              "  \"num_attention_heads\": 12,\n",
              "  \"num_hidden_layers\": 12,\n",
              "  \"pad_token_id\": 0,\n",
              "  \"position_embedding_type\": \"absolute\",\n",
              "  \"torch_dtype\": \"float32\",\n",
              "  \"transformers_version\": \"4.22.1\",\n",
              "  \"type_vocab_size\": 2,\n",
              "  \"use_cache\": true,\n",
              "  \"vocab_size\": 30522\n",
              "}"
            ]
          },
          "execution_count": 47,
          "metadata": {},
          "output_type": "execute_result"
        }
      ],
      "source": [
        "config\n"
      ]
    },
    {
      "cell_type": "code",
      "source": [
        "type(dataset['train'])"
      ],
      "metadata": {
        "colab": {
          "base_uri": "https://localhost:8080/"
        },
        "id": "Ti8TSSNOQ5ky",
        "outputId": "8e604fd4-3cb0-45c7-d00d-5b21301da80c"
      },
      "execution_count": null,
      "outputs": [
        {
          "output_type": "execute_result",
          "data": {
            "text/plain": [
              "datasets.arrow_dataset.Dataset"
            ]
          },
          "metadata": {},
          "execution_count": 27
        }
      ]
    },
    {
      "cell_type": "code",
      "source": [
        "# -*- coding: utf-8 -*-\n",
        "\"\"\"transformer custom.ipynb\n",
        "\n",
        "Automatically generated by Colaboratory.\n",
        "\n",
        "Original file is located at\n",
        "    https://colab.research.google.com/drive/1FnIvOB0pZcYxCn_2q5jxNRJ4TmksaM9C\n",
        "\"\"\"\n",
        "\n",
        "import json\n",
        "import os\n",
        "import pickle\n",
        "import random\n",
        "import time\n",
        "import warnings\n",
        "from typing import Dict, List, Optional\n",
        "\n",
        "import torch\n",
        "import numpy as np\n",
        "from torch.utils.data import Dataset\n",
        "\n",
        "from filelock import FileLock\n",
        "\n",
        "from transformers.tokenization_utils import PreTrainedTokenizer\n",
        "from transformers.utils import logging\n",
        "from sklearn.model_selection import train_test_split\n",
        "\n",
        "\n",
        "DEPRECATION_WARNING = (\n",
        "    \"This dataset will be removed from the library soon, preprocessing should be handled with the 🤗 Datasets \"\n",
        "    \"library. You can have a look at this example script for pointers: {0}\"\n",
        ")\n",
        "logger = logging.get_logger(__name__)\n",
        "class TextDatasetForNextSentencePrediction3(Dataset):\n",
        "    \"\"\"\n",
        "    This will be superseded by a framework-agnostic approach soon.\n",
        "    \"\"\"\n",
        "\n",
        "    def __init__(\n",
        "        self,\n",
        "        tokenizer: PreTrainedTokenizer,\n",
        "        file_path: str,\n",
        "        block_size: int,\n",
        "        overwrite_cache=False,\n",
        "        short_seq_probability=0.5,\n",
        "        nsp_probability=0.5,\n",
        "\n",
        "\n",
        "    ):\n",
        "        warnings.warn(\n",
        "            DEPRECATION_WARNING.format(\n",
        "                \"https://github.com/huggingface/transformers/blob/main/examples/pytorch/language-modeling/run_mlm.py\"\n",
        "            ),\n",
        "            FutureWarning,\n",
        "        )\n",
        "    \n",
        "        if not os.path.isfile(file_path):\n",
        "            raise ValueError(f\"Input file path {file_path} not found\")\n",
        "\n",
        "        self.short_seq_probability = short_seq_probability\n",
        "        self.nsp_probability = nsp_probability\n",
        "\n",
        "        directory, filename = os.path.split(file_path)\n",
        "        cached_features_file = os.path.join(\n",
        "            directory,\n",
        "            f\"cached_nsp_{tokenizer.__class__.__name__}_{block_size}_{filename}\",\n",
        "        )\n",
        "        #print('directory', directory, 'filename=', filename)\n",
        "\n",
        "        self.tokenizer = tokenizer\n",
        "\n",
        "        # Make sure only the first process in distributed training processes the dataset,\n",
        "        # and the others will use the cache.\n",
        "\n",
        "        \n",
        "        lock_path = cached_features_file + \".lock\"\n",
        "\n",
        "        # Input file format:\n",
        "        # (1) One sentence per line. These should ideally be actual sentences, not\n",
        "        # entire paragraphs or arbitrary spans of text. (Because we use the\n",
        "        # sentence boundaries for the \"next sentence prediction\" task).\n",
        "        # (2) Blank lines between documents. Document boundaries are needed so\n",
        "        # that the \"next sentence prediction\" task doesn't span between documents.\n",
        "        #\n",
        "        # Example:\n",
        "        # I am very happy.\n",
        "        # Here is the second sentence.\n",
        "        #\n",
        "        # A new document.\n",
        "        ff=2\n",
        "\n",
        "        with FileLock(lock_path):\n",
        "            if os.path.exists(cached_features_file) and not overwrite_cache and ff==3:\n",
        "                start = time.time()\n",
        "                with open(cached_features_file, \"rb\") as handle:\n",
        "                    self.examples = pickle.load(handle)\n",
        "                logger.info(\n",
        "                    f\"Loading features from cached file {cached_features_file} [took %.3f s]\", time.time() - start\n",
        "                )\n",
        "            else:\n",
        "                logger.info(f\"Creating features from dataset file at {directory}\")\n",
        "\n",
        "                self.documents = [[]]\n",
        "                with open(file_path, encoding=\"utf-8\") as f:\n",
        "                    while True:\n",
        "                        line = f.readline()\n",
        "                        if not line:\n",
        "                            break\n",
        "                        line = line.strip()\n",
        "\n",
        "                        # Empty lines are used as document delimiters\n",
        "                        if not line and len(self.documents[-1]) != 0:\n",
        "                            self.documents.append([])\n",
        "                        tokens = tokenizer.tokenize(line)\n",
        "                        tokens = tokenizer.convert_tokens_to_ids(tokens)\n",
        "                        if tokens:\n",
        "                            self.documents[-1].append(tokens)\n",
        "\n",
        "                logger.info(f\"Creating examples from {len(self.documents)} documents.\")\n",
        "                self.examples = []\n",
        "                for doc_index, document in enumerate(self.documents):\n",
        "                    self.create_examples_from_document(document, doc_index, block_size)\n",
        "\n",
        "                start = time.time()\n",
        "                with open(cached_features_file, \"wb\") as handle:\n",
        "                    pickle.dump(self.examples, handle, protocol=pickle.HIGHEST_PROTOCOL)\n",
        "                logger.info(\n",
        "                    f\"Saving features into cached file {cached_features_file} [took {time.time() - start:.3f} s]\"\n",
        "                )\n",
        "\n",
        "\n",
        "    def create_examples_from_document(self, document: List[List[int]], doc_index: int, block_size: int):\n",
        "        ln_doc = len(document)\n",
        "        index = np.arange(ln_doc-1)\n",
        "        labels = np.zeros(ln_doc)\n",
        "\n",
        "\n",
        "\n",
        "        correct_index, incorrect_index = train_test_split(index, test_size=self.nsp_probability, random_state=42)\n",
        "        print(correct_index , 'correct')\n",
        "        print(incorrect_index, 'incorr')\n",
        "\n",
        "        for i in correct_index:\n",
        "            input_ids = self.tokenizer.build_inputs_with_special_tokens(document[i], document[i+1])\n",
        "            token_type_ids = self.tokenizer.create_token_type_ids_from_sequences(document[i], document[i+1])\n",
        "\n",
        "            example = {\n",
        "            \"input_ids\": torch.tensor(input_ids, dtype=torch.long),\n",
        "            \"token_type_ids\": torch.tensor(token_type_ids, dtype=torch.long),\n",
        "            \"next_sentence_label\": torch.tensor(0, dtype=torch.long),\n",
        "                    }\n",
        "            self.examples.append(example) \n",
        "\n",
        "        for i in incorrect_index:\n",
        "            token_b = random.randint(0, ln_doc-1)\n",
        "            if token_b == i+1:\n",
        "                if ln_doc - i > i - 0:\n",
        "                    token_b = random.randint(i+1, ln_doc-1)\n",
        "                else:\n",
        "                    token_b = random.randint(0, i)\n",
        "            input_ids = self.tokenizer.build_inputs_with_special_tokens(document[i], document[token_b])\n",
        "            token_type_ids = self.tokenizer.create_token_type_ids_from_sequences(document[i], document[token_b])\n",
        "            labels[i]=1\n",
        "                \n",
        "            example = {\n",
        "            \"input_ids\": torch.tensor(input_ids, dtype=torch.long),\n",
        "            \"token_type_ids\": torch.tensor(token_type_ids, dtype=torch.long),\n",
        "            \"next_sentence_label\": torch.tensor(1, dtype=torch.long),\n",
        "                    }\n",
        "\n",
        "            self.examples.append(example)           \n",
        "\n",
        "    def __len__(self):\n",
        "        return len(self.examples)\n",
        "\n",
        "    def __getitem__(self, i):\n",
        "        return self.examples[i]"
      ],
      "metadata": {
        "id": "Y1dzXLBZTcOy"
      },
      "execution_count": null,
      "outputs": []
    },
    {
      "cell_type": "code",
      "execution_count": null,
      "metadata": {
        "id": "aQzMEaelGTzF",
        "colab": {
          "base_uri": "https://localhost:8080/"
        },
        "outputId": "f0b85661-77d8-40b3-8f38-1af7436c8ebd"
      },
      "outputs": [
        {
          "output_type": "stream",
          "name": "stderr",
          "text": [
            "Creating features from dataset file at /content\n",
            "Creating examples from 1 documents.\n",
            "Saving features into cached file /content/cached_nsp_BertTokenizer_25_dataset [took 0.002 s]\n"
          ]
        }
      ],
      "source": [
        "from transformers import TextDatasetForNextSentencePrediction\n",
        "dataset = TextDatasetForNextSentencePrediction(\n",
        "    tokenizer=bert_cased_tokenizer,\n",
        "    file_path= \"/content/dataset\",\n",
        "    block_size = 25,\n",
        "    nsp_probability=0.5\n",
        ")\n"
      ]
    },
    {
      "cell_type": "code",
      "execution_count": null,
      "metadata": {
        "colab": {
          "base_uri": "https://localhost:8080/"
        },
        "id": "USRTmx7cGwJ1",
        "outputId": "cb499b9c-1350-480b-bb28-edc58af9aff9"
      },
      "outputs": [
        {
          "output_type": "execute_result",
          "data": {
            "text/plain": [
              "[{'input_ids': tensor([  101,  2256,  2783,  4772,  2291,  2323,  2022, 17051,  2000, 25845,\n",
              "           1996,  3446,  1997,  5082,  1999,  2256,  2492,  1012,   102,  2023,\n",
              "           2965, 29494,  1996,  3177,  2012,  2029,  2047,  4784,  1998,  3463,\n",
              "           2024, 10573,  1010,  4487, 11393, 26972,  1010,  1998, 16330,  1012,\n",
              "            102]),\n",
              "  'token_type_ids': tensor([0, 0, 0, 0, 0, 0, 0, 0, 0, 0, 0, 0, 0, 0, 0, 0, 0, 0, 0, 1, 1, 1, 1, 1,\n",
              "          1, 1, 1, 1, 1, 1, 1, 1, 1, 1, 1, 1, 1, 1, 1, 1, 1]),\n",
              "  'next_sentence_label': tensor(0)},\n",
              " {'input_ids': tensor([  101,  2023,  2036,  2965,  7163,  4328,  6774,  1996,  3815,  1997,\n",
              "           2051,  2169,  1997,  2149, 15970, 23208,  2060,  2111,  1005,  1055,\n",
              "           2147,  2083, 15252,  1998,  9033, 26169,  2083,  1996,  3906,  1012,\n",
              "            102,  1037,  2350,  3277,  2003,  2008,  2256,  2783,  2291,  1010,\n",
              "           2007,  2049,  7902,  2006,  3811,  1011, 13228,  9281,  1010,  2003,\n",
              "           3811, 25352,  2114,  9525,  4784,  1998, 21191,  4297, 28578, 21050,\n",
              "           1056,  8545, 29243,  2006,  2092,  1011,  2511,  4725,  1012,   102]),\n",
              "  'token_type_ids': tensor([0, 0, 0, 0, 0, 0, 0, 0, 0, 0, 0, 0, 0, 0, 0, 0, 0, 0, 0, 0, 0, 0, 0, 0,\n",
              "          0, 0, 0, 0, 0, 0, 0, 1, 1, 1, 1, 1, 1, 1, 1, 1, 1, 1, 1, 1, 1, 1, 1, 1,\n",
              "          1, 1, 1, 1, 1, 1, 1, 1, 1, 1, 1, 1, 1, 1, 1, 1, 1, 1, 1, 1, 1, 1]),\n",
              "  'next_sentence_label': tensor(1)},\n",
              " {'input_ids': tensor([  101,  1037,  2350,  3277,  2003,  2008,  2256,  2783,  2291,  1010,\n",
              "           2007,  2049,  7902,  2006,  3811,  1011, 13228,  9281,  1010,  2003,\n",
              "           3811, 25352,  2114,  9525,  4784,  1998, 21191,  4297, 28578, 21050,\n",
              "           1056,  8545, 29243,  2006,  2092,  1011,  2511,  4725,  1012,   102,\n",
              "           2023,  2965, 29494,  1996,  3177,  2012,  2029,  2047,  4784,  1998,\n",
              "           3463,  2024, 10573,  1010,  4487, 11393, 26972,  1010,  1998, 16330,\n",
              "           1012,   102]),\n",
              "  'token_type_ids': tensor([0, 0, 0, 0, 0, 0, 0, 0, 0, 0, 0, 0, 0, 0, 0, 0, 0, 0, 0, 0, 0, 0, 0, 0,\n",
              "          0, 0, 0, 0, 0, 0, 0, 0, 0, 0, 0, 0, 0, 0, 0, 0, 1, 1, 1, 1, 1, 1, 1, 1,\n",
              "          1, 1, 1, 1, 1, 1, 1, 1, 1, 1, 1, 1, 1, 1]),\n",
              "  'next_sentence_label': tensor(1)},\n",
              " {'input_ids': tensor([  101,  4784,  2008,  2735,  2041,  2000,  2022,  3811,  6383,  2024,\n",
              "           2823,  2218,  2039,  2005,  2706,  1006,  2065,  2025,  2086,  1007,\n",
              "           1999, 15252, 16405, 28921,  7062,  1010,  3391,  2065,  2027,  5478,\n",
              "           2195,  2086,  2000,  2272,  2000, 16736,  1006,  2045,  2024,  1037,\n",
              "           2261,  3297,  4973,  1010,  3855,  1007,  1012,   102,  2023,  2965,\n",
              "          29494,  1996,  3177,  2012,  2029,  2047,  4784,  1998,  3463,  2024,\n",
              "          10573,  1010,  4487, 11393, 26972,  1010,  1998, 16330,  1012,   102]),\n",
              "  'token_type_ids': tensor([0, 0, 0, 0, 0, 0, 0, 0, 0, 0, 0, 0, 0, 0, 0, 0, 0, 0, 0, 0, 0, 0, 0, 0,\n",
              "          0, 0, 0, 0, 0, 0, 0, 0, 0, 0, 0, 0, 0, 0, 0, 0, 0, 0, 0, 0, 0, 0, 0, 0,\n",
              "          1, 1, 1, 1, 1, 1, 1, 1, 1, 1, 1, 1, 1, 1, 1, 1, 1, 1, 1, 1, 1, 1]),\n",
              "  'next_sentence_label': tensor(1)},\n",
              " {'input_ids': tensor([  101,  1996, 15012,  1999,  2256,  4772,  2291,  2003, 18068,  1996,\n",
              "           5082,  1997,  2256,  2492,  1012,  2009,  3084,  5082,  4297, 28578,\n",
              "          21050,  1012,  1998,  2009,  3084,  2256,  9281,  5399, 11771,  1012,\n",
              "            102,  2256,  2783,  4772,  2291,  2003,  1996,  2765,  1997,  2381,\n",
              "           1010,  2073,  1996, 28170,  1997,  4045,  2592,  2001,  3132,  2011,\n",
              "           8021,  1998,  7829,  3977,  1998,  3465,  1012,   102]),\n",
              "  'token_type_ids': tensor([0, 0, 0, 0, 0, 0, 0, 0, 0, 0, 0, 0, 0, 0, 0, 0, 0, 0, 0, 0, 0, 0, 0, 0,\n",
              "          0, 0, 0, 0, 0, 0, 0, 1, 1, 1, 1, 1, 1, 1, 1, 1, 1, 1, 1, 1, 1, 1, 1, 1,\n",
              "          1, 1, 1, 1, 1, 1, 1, 1, 1, 1]),\n",
              "  'next_sentence_label': tensor(1)},\n",
              " {'input_ids': tensor([  101,  2256,  2783,  4772,  2291,  2003,  1996,  2765,  1997,  2381,\n",
              "           1010,  2073,  1996, 28170,  1997,  4045,  2592,  2001,  3132,  2011,\n",
              "           8021,  1998,  7829,  3977,  1998,  3465,  1012,   102,  1037,  2350,\n",
              "           3277,  2003,  2008,  2256,  2783,  2291,  1010,  2007,  2049,  7902,\n",
              "           2006,  3811,  1011, 13228,  9281,  1010,  2003,  3811, 25352,  2114,\n",
              "           9525,  4784,  1998, 21191,  4297, 28578, 21050,  1056,  8545, 29243,\n",
              "           2006,  2092,  1011,  2511,  4725,  1012,   102]),\n",
              "  'token_type_ids': tensor([0, 0, 0, 0, 0, 0, 0, 0, 0, 0, 0, 0, 0, 0, 0, 0, 0, 0, 0, 0, 0, 0, 0, 0,\n",
              "          0, 0, 0, 0, 1, 1, 1, 1, 1, 1, 1, 1, 1, 1, 1, 1, 1, 1, 1, 1, 1, 1, 1, 1,\n",
              "          1, 1, 1, 1, 1, 1, 1, 1, 1, 1, 1, 1, 1, 1, 1, 1, 1, 1, 1]),\n",
              "  'next_sentence_label': tensor(1)},\n",
              " {'input_ids': tensor([  101, 20506, 15004,  1010,  3274,  2671,  2038,  2025,  3929,  2579,\n",
              "           5056,  1997,  1996,  4773,  2004,  1037,  4807,  5396,  2000,  1996,\n",
              "           2168,  6698,  2008,  2060,  4249,  2031,  1006,  2107,  2004,  5584,\n",
              "           1998,  5597,  1007,  1012,   102,  2256,  2783,  4772,  2291,  2003,\n",
              "           1996,  2765,  1997,  2381,  1010,  2073,  1996, 28170,  1997,  4045,\n",
              "           2592,  2001,  3132,  2011,  8021,  1998,  7829,  3977,  1998,  3465,\n",
              "           1012,   102]),\n",
              "  'token_type_ids': tensor([0, 0, 0, 0, 0, 0, 0, 0, 0, 0, 0, 0, 0, 0, 0, 0, 0, 0, 0, 0, 0, 0, 0, 0,\n",
              "          0, 0, 0, 0, 0, 0, 0, 0, 0, 0, 0, 1, 1, 1, 1, 1, 1, 1, 1, 1, 1, 1, 1, 1,\n",
              "          1, 1, 1, 1, 1, 1, 1, 1, 1, 1, 1, 1, 1, 1]),\n",
              "  'next_sentence_label': tensor(1)}]"
            ]
          },
          "metadata": {},
          "execution_count": 22
        }
      ],
      "source": [
        "list(dataset)"
      ]
    },
    {
      "cell_type": "code",
      "execution_count": null,
      "metadata": {
        "id": "g3NRcI0SGy1J"
      },
      "outputs": [],
      "source": [
        "not_nsp=0\n",
        "nsp=0\n",
        "for i in range(len(dataset)):\n",
        "  if dataset[i]['next_sentence_label'].tolist()==1:\n",
        "    not_nsp+=1\n",
        "  else:\n",
        "    nps+=1"
      ]
    },
    {
      "cell_type": "code",
      "source": [
        "print"
      ],
      "metadata": {
        "colab": {
          "base_uri": "https://localhost:8080/"
        },
        "id": "22aTpWzCsZiq",
        "outputId": "c44ea594-fb6e-468b-83c5-d75114d8f22d"
      },
      "execution_count": null,
      "outputs": [
        {
          "output_type": "execute_result",
          "data": {
            "text/plain": [
              "0"
            ]
          },
          "metadata": {},
          "execution_count": 41
        }
      ]
    },
    {
      "cell_type": "code",
      "execution_count": null,
      "metadata": {
        "colab": {
          "base_uri": "https://localhost:8080/"
        },
        "id": "fsgF8K4TJe-X",
        "outputId": "6079611b-a6f6-416a-fb22-65d748bfee0f"
      },
      "outputs": [
        {
          "name": "stdout",
          "output_type": "stream",
          "text": [
            "{'Newton': [8446], 'invents': [1999, 15338, 2015], 'calculus.': [19276, 1012]}\n"
          ]
        }
      ],
      "source": [
        "tokenizer = BertTokenizer.from_pretrained('bert-base-uncased', do_lower_case=True)\n",
        "\n",
        "example = \"Newton invents calculus.\"\n",
        "\n",
        "print({x : tokenizer.encode(x, add_special_tokens=False) for x in example.split()})"
      ]
    },
    {
      "cell_type": "code",
      "execution_count": null,
      "metadata": {
        "colab": {
          "base_uri": "https://localhost:8080/"
        },
        "id": "Olbfg501KFkj",
        "outputId": "c425e207-ca4e-4ecd-bf27-fb48e1226e6a"
      },
      "outputs": [
        {
          "name": "stdout",
          "output_type": "stream",
          "text": [
            "{'An': [2019], 'apple': [6207], 'falls': [4212], 'under': [2104], 'the': [1996], 'tree.': [3392, 1012]}\n"
          ]
        }
      ],
      "source": [
        "tokenizer = BertTokenizer.from_pretrained('bert-base-uncased', do_lower_case=True)\n",
        "example = \"An apple falls under the tree.\"\n",
        "print({x : tokenizer.encode(x, add_special_tokens=False) for x in example.split()})"
      ]
    },
    {
      "cell_type": "code",
      "execution_count": null,
      "metadata": {
        "colab": {
          "base_uri": "https://localhost:8080/"
        },
        "id": "3ZX3th_bKwAd",
        "outputId": "9a1e8d2f-570d-4a3a-cfcc-cfce053e96e3"
      },
      "outputs": [
        {
          "name": "stdout",
          "output_type": "stream",
          "text": [
            "{'A': [1037], 'quick': [4248], 'brown': [2829], 'fox': [4419], 'jumps': [14523], 'over': [2058], 'the': [1996], 'lazy': [13971], 'dog.': [3899, 1012]}\n"
          ]
        }
      ],
      "source": [
        "tokenizer = BertTokenizer.from_pretrained('bert-base-uncased', do_lower_case=True)\n",
        "example = \"A quick brown fox jumps over the lazy dog.\"\n",
        "print({x : tokenizer.encode(x, add_special_tokens=False) for x in example.split()})"
      ]
    },
    {
      "cell_type": "code",
      "execution_count": null,
      "metadata": {
        "colab": {
          "base_uri": "https://localhost:8080/"
        },
        "id": "nln-sCuLL4EX",
        "outputId": "e5247d80-bf5d-493e-a8f5-900211f3f22c"
      },
      "outputs": [
        {
          "name": "stdout",
          "output_type": "stream",
          "text": [
            "49\n",
            "70\n",
            "70\n",
            "70\n",
            "70\n",
            "49\n",
            "46\n",
            "62\n"
          ]
        }
      ],
      "source": [
        "for i in range(8):\n",
        "  print(len(bert_cased_tokenizer.convert_ids_to_tokens(dataset[i]['input_ids'].tolist())))"
      ]
    },
    {
      "cell_type": "code",
      "execution_count": null,
      "metadata": {
        "colab": {
          "base_uri": "https://localhost:8080/"
        },
        "id": "kNqfRuFGNSIR",
        "outputId": "84131048-ac46-40e5-bf13-8cc90e9556ea"
      },
      "outputs": [
        {
          "data": {
            "text/plain": [
              "tensor(1)"
            ]
          },
          "execution_count": 16,
          "metadata": {},
          "output_type": "execute_result"
        }
      ],
      "source": [
        "dataset[7]['next_sentence_label']"
      ]
    },
    {
      "cell_type": "code",
      "execution_count": null,
      "metadata": {
        "id": "2HpNy1KANrhy"
      },
      "outputs": [],
      "source": [
        "from transformers import DataCollatorForLanguageModeling\n",
        "\n",
        "data_collator = DataCollatorForLanguageModeling(\n",
        "    tokenizer=bert_cased_tokenizer, \n",
        "    mlm=True,\n",
        "    mlm_probability= 0.15,\n",
        "    \n",
        ")"
      ]
    },
    {
      "cell_type": "code",
      "execution_count": null,
      "metadata": {
        "colab": {
          "base_uri": "https://localhost:8080/",
          "height": 1000
        },
        "id": "rllNqWopzv9q",
        "outputId": "8ecb64e0-0aaf-468d-ae3f-f7dc91a70570"
      },
      "outputs": [
        {
          "output_type": "stream",
          "name": "stderr",
          "text": [
            "PyTorch: setting up devices\n",
            "The default value for the training argument `--report_to` will change in v5 (from all installed integrations to none). In v5, you will need to use `--report_to all` to get the same behavior as now. You should start updating your code and make this info disappear :-).\n",
            "Using deprecated `--per_gpu_train_batch_size` argument which will be removed in a future version. Using `--per_device_train_batch_size` is preferred.\n",
            "Using deprecated `--per_gpu_train_batch_size` argument which will be removed in a future version. Using `--per_device_train_batch_size` is preferred.\n",
            "Using deprecated `--per_gpu_train_batch_size` argument which will be removed in a future version. Using `--per_device_train_batch_size` is preferred.\n",
            "/usr/local/lib/python3.7/dist-packages/transformers/optimization.py:310: FutureWarning: This implementation of AdamW is deprecated and will be removed in a future version. Use the PyTorch implementation torch.optim.AdamW instead, or set `no_deprecation_warning=True` to disable this warning\n",
            "  FutureWarning,\n",
            "***** Running training *****\n",
            "  Num examples = 7\n",
            "  Num Epochs = 50\n",
            "  Instantaneous batch size per device = 8\n",
            "  Total train batch size (w. parallel, distributed & accumulation) = 16\n",
            "  Gradient Accumulation steps = 1\n",
            "  Total optimization steps = 50\n",
            "Using deprecated `--per_gpu_train_batch_size` argument which will be removed in a future version. Using `--per_device_train_batch_size` is preferred.\n"
          ]
        },
        {
          "output_type": "stream",
          "name": "stdout",
          "text": [
            "masked_lm_loss tensor(7.4117, device='cuda:0', grad_fn=<NllLossBackward0>) next_sentence_loss tensor(1.3436, device='cuda:0', grad_fn=<NllLossBackward0>) total_loss tensor(8.7553, device='cuda:0', grad_fn=<AddBackward0>)\n",
            "nsp_labels tensor([0, 0, 1, 1, 0, 1, 1], device='cuda:0')\n"
          ]
        },
        {
          "output_type": "display_data",
          "data": {
            "text/plain": [
              "<IPython.core.display.HTML object>"
            ],
            "text/html": [
              "\n",
              "    <div>\n",
              "      \n",
              "      <progress value='50' max='50' style='width:300px; height:20px; vertical-align: middle;'></progress>\n",
              "      [50/50 00:07, Epoch 50/50]\n",
              "    </div>\n",
              "    <table border=\"1\" class=\"dataframe\">\n",
              "  <thead>\n",
              " <tr style=\"text-align: left;\">\n",
              "      <th>Step</th>\n",
              "      <th>Training Loss</th>\n",
              "    </tr>\n",
              "  </thead>\n",
              "  <tbody>\n",
              "  </tbody>\n",
              "</table><p>"
            ]
          },
          "metadata": {}
        },
        {
          "output_type": "stream",
          "name": "stdout",
          "text": [
            "masked_lm_loss tensor(6.9051, device='cuda:0', grad_fn=<NllLossBackward0>) next_sentence_loss tensor(1.2789, device='cuda:0', grad_fn=<NllLossBackward0>) total_loss tensor(8.1840, device='cuda:0', grad_fn=<AddBackward0>)\n",
            "nsp_labels tensor([0, 1, 1, 1, 0, 1, 1], device='cuda:0')\n",
            "masked_lm_loss tensor(6.8750, device='cuda:0', grad_fn=<NllLossBackward0>) next_sentence_loss tensor(1.3438, device='cuda:0', grad_fn=<NllLossBackward0>) total_loss tensor(8.2188, device='cuda:0', grad_fn=<AddBackward0>)\n",
            "nsp_labels tensor([0, 1, 0, 1, 0, 1, 1], device='cuda:0')\n",
            "masked_lm_loss tensor(7.2960, device='cuda:0', grad_fn=<NllLossBackward0>) next_sentence_loss tensor(0.7605, device='cuda:0', grad_fn=<NllLossBackward0>) total_loss tensor(8.0566, device='cuda:0', grad_fn=<AddBackward0>)\n",
            "nsp_labels tensor([0, 1, 1, 0, 0, 1, 1], device='cuda:0')\n",
            "masked_lm_loss tensor(7.1286, device='cuda:0', grad_fn=<NllLossBackward0>) next_sentence_loss tensor(0.7247, device='cuda:0', grad_fn=<NllLossBackward0>) total_loss tensor(7.8533, device='cuda:0', grad_fn=<AddBackward0>)\n",
            "nsp_labels tensor([0, 0, 1, 1, 0, 1, 1], device='cuda:0')\n",
            "masked_lm_loss tensor(6.8144, device='cuda:0', grad_fn=<NllLossBackward0>) next_sentence_loss tensor(0.8365, device='cuda:0', grad_fn=<NllLossBackward0>) total_loss tensor(7.6509, device='cuda:0', grad_fn=<AddBackward0>)\n",
            "nsp_labels tensor([0, 1, 1, 1, 0, 1, 0], device='cuda:0')\n",
            "masked_lm_loss tensor(7.0946, device='cuda:0', grad_fn=<NllLossBackward0>) next_sentence_loss tensor(0.8317, device='cuda:0', grad_fn=<NllLossBackward0>) total_loss tensor(7.9263, device='cuda:0', grad_fn=<AddBackward0>)\n",
            "nsp_labels tensor([0, 1, 1, 1, 0, 0, 1], device='cuda:0')\n",
            "masked_lm_loss tensor(6.6515, device='cuda:0', grad_fn=<NllLossBackward0>) next_sentence_loss tensor(0.8394, device='cuda:0', grad_fn=<NllLossBackward0>) total_loss tensor(7.4909, device='cuda:0', grad_fn=<AddBackward0>)\n",
            "nsp_labels tensor([0, 1, 1, 1, 0, 1, 1], device='cuda:0')\n",
            "masked_lm_loss tensor(7.4861, device='cuda:0', grad_fn=<NllLossBackward0>) next_sentence_loss tensor(0.6884, device='cuda:0', grad_fn=<NllLossBackward0>) total_loss tensor(8.1745, device='cuda:0', grad_fn=<AddBackward0>)\n",
            "nsp_labels tensor([0, 0, 1, 1, 0, 1, 1], device='cuda:0')\n",
            "masked_lm_loss tensor(7.2530, device='cuda:0', grad_fn=<NllLossBackward0>) next_sentence_loss tensor(0.6211, device='cuda:0', grad_fn=<NllLossBackward0>) total_loss tensor(7.8741, device='cuda:0', grad_fn=<AddBackward0>)\n",
            "nsp_labels tensor([0, 1, 1, 1, 0, 1, 1], device='cuda:0')\n",
            "masked_lm_loss tensor(6.4513, device='cuda:0', grad_fn=<NllLossBackward0>) next_sentence_loss tensor(0.7181, device='cuda:0', grad_fn=<NllLossBackward0>) total_loss tensor(7.1694, device='cuda:0', grad_fn=<AddBackward0>)\n",
            "nsp_labels tensor([0, 1, 0, 1, 0, 1, 1], device='cuda:0')\n",
            "masked_lm_loss tensor(6.8010, device='cuda:0', grad_fn=<NllLossBackward0>) next_sentence_loss tensor(0.7234, device='cuda:0', grad_fn=<NllLossBackward0>) total_loss tensor(7.5244, device='cuda:0', grad_fn=<AddBackward0>)\n",
            "nsp_labels tensor([0, 1, 1, 1, 0, 1, 0], device='cuda:0')\n",
            "masked_lm_loss tensor(7.3484, device='cuda:0', grad_fn=<NllLossBackward0>) next_sentence_loss tensor(0.6044, device='cuda:0', grad_fn=<NllLossBackward0>) total_loss tensor(7.9528, device='cuda:0', grad_fn=<AddBackward0>)\n",
            "nsp_labels tensor([0, 1, 1, 1, 0, 1, 1], device='cuda:0')\n",
            "masked_lm_loss tensor(6.2741, device='cuda:0', grad_fn=<NllLossBackward0>) next_sentence_loss tensor(0.7615, device='cuda:0', grad_fn=<NllLossBackward0>) total_loss tensor(7.0356, device='cuda:0', grad_fn=<AddBackward0>)\n",
            "nsp_labels tensor([0, 0, 1, 1, 0, 1, 1], device='cuda:0')\n",
            "masked_lm_loss tensor(6.9283, device='cuda:0', grad_fn=<NllLossBackward0>) next_sentence_loss tensor(0.7232, device='cuda:0', grad_fn=<NllLossBackward0>) total_loss tensor(7.6515, device='cuda:0', grad_fn=<AddBackward0>)\n",
            "nsp_labels tensor([0, 1, 0, 1, 0, 1, 1], device='cuda:0')\n",
            "masked_lm_loss tensor(7.9039, device='cuda:0', grad_fn=<NllLossBackward0>) next_sentence_loss tensor(0.7218, device='cuda:0', grad_fn=<NllLossBackward0>) total_loss tensor(8.6257, device='cuda:0', grad_fn=<AddBackward0>)\n",
            "nsp_labels tensor([0, 1, 1, 1, 0, 0, 1], device='cuda:0')\n",
            "masked_lm_loss tensor(5.7048, device='cuda:0', grad_fn=<NllLossBackward0>) next_sentence_loss tensor(0.7197, device='cuda:0', grad_fn=<NllLossBackward0>) total_loss tensor(6.4245, device='cuda:0', grad_fn=<AddBackward0>)\n",
            "nsp_labels tensor([0, 1, 0, 1, 0, 1, 1], device='cuda:0')\n",
            "masked_lm_loss tensor(6.5998, device='cuda:0', grad_fn=<NllLossBackward0>) next_sentence_loss tensor(0.6800, device='cuda:0', grad_fn=<NllLossBackward0>) total_loss tensor(7.2798, device='cuda:0', grad_fn=<AddBackward0>)\n",
            "nsp_labels tensor([0, 0, 1, 1, 0, 1, 1], device='cuda:0')\n",
            "masked_lm_loss tensor(5.8588, device='cuda:0', grad_fn=<NllLossBackward0>) next_sentence_loss tensor(0.6318, device='cuda:0', grad_fn=<NllLossBackward0>) total_loss tensor(6.4905, device='cuda:0', grad_fn=<AddBackward0>)\n",
            "nsp_labels tensor([0, 1, 1, 1, 0, 1, 1], device='cuda:0')\n",
            "masked_lm_loss tensor(6.6390, device='cuda:0', grad_fn=<NllLossBackward0>) next_sentence_loss tensor(0.6251, device='cuda:0', grad_fn=<NllLossBackward0>) total_loss tensor(7.2641, device='cuda:0', grad_fn=<AddBackward0>)\n",
            "nsp_labels tensor([0, 1, 1, 1, 0, 1, 1], device='cuda:0')\n",
            "masked_lm_loss tensor(5.9906, device='cuda:0', grad_fn=<NllLossBackward0>) next_sentence_loss tensor(0.7116, device='cuda:0', grad_fn=<NllLossBackward0>) total_loss tensor(6.7023, device='cuda:0', grad_fn=<AddBackward0>)\n",
            "nsp_labels tensor([0, 1, 0, 1, 0, 1, 1], device='cuda:0')\n",
            "masked_lm_loss tensor(6.5623, device='cuda:0', grad_fn=<NllLossBackward0>) next_sentence_loss tensor(0.6611, device='cuda:0', grad_fn=<NllLossBackward0>) total_loss tensor(7.2235, device='cuda:0', grad_fn=<AddBackward0>)\n",
            "nsp_labels tensor([0, 0, 1, 1, 0, 1, 1], device='cuda:0')\n",
            "masked_lm_loss tensor(6.4293, device='cuda:0', grad_fn=<NllLossBackward0>) next_sentence_loss tensor(0.6472, device='cuda:0', grad_fn=<NllLossBackward0>) total_loss tensor(7.0765, device='cuda:0', grad_fn=<AddBackward0>)\n",
            "nsp_labels tensor([0, 1, 0, 1, 0, 1, 1], device='cuda:0')\n",
            "masked_lm_loss tensor(6.6409, device='cuda:0', grad_fn=<NllLossBackward0>) next_sentence_loss tensor(0.6530, device='cuda:0', grad_fn=<NllLossBackward0>) total_loss tensor(7.2939, device='cuda:0', grad_fn=<AddBackward0>)\n",
            "nsp_labels tensor([0, 1, 0, 1, 0, 1, 1], device='cuda:0')\n",
            "masked_lm_loss tensor(6.8849, device='cuda:0', grad_fn=<NllLossBackward0>) next_sentence_loss tensor(0.6671, device='cuda:0', grad_fn=<NllLossBackward0>) total_loss tensor(7.5520, device='cuda:0', grad_fn=<AddBackward0>)\n",
            "nsp_labels tensor([0, 1, 1, 1, 0, 1, 1], device='cuda:0')\n",
            "masked_lm_loss tensor(5.6128, device='cuda:0', grad_fn=<NllLossBackward0>) next_sentence_loss tensor(0.6164, device='cuda:0', grad_fn=<NllLossBackward0>) total_loss tensor(6.2292, device='cuda:0', grad_fn=<AddBackward0>)\n",
            "nsp_labels tensor([0, 1, 1, 1, 0, 1, 1], device='cuda:0')\n",
            "masked_lm_loss tensor(6.1331, device='cuda:0', grad_fn=<NllLossBackward0>) next_sentence_loss tensor(0.5645, device='cuda:0', grad_fn=<NllLossBackward0>) total_loss tensor(6.6977, device='cuda:0', grad_fn=<AddBackward0>)\n",
            "nsp_labels tensor([0, 1, 1, 1, 0, 1, 1], device='cuda:0')\n",
            "masked_lm_loss tensor(6.3187, device='cuda:0', grad_fn=<NllLossBackward0>) next_sentence_loss tensor(0.6635, device='cuda:0', grad_fn=<NllLossBackward0>) total_loss tensor(6.9821, device='cuda:0', grad_fn=<AddBackward0>)\n",
            "nsp_labels tensor([0, 1, 1, 1, 0, 1, 1], device='cuda:0')\n",
            "masked_lm_loss tensor(4.6885, device='cuda:0', grad_fn=<NllLossBackward0>) next_sentence_loss tensor(0.6338, device='cuda:0', grad_fn=<NllLossBackward0>) total_loss tensor(5.3223, device='cuda:0', grad_fn=<AddBackward0>)\n",
            "nsp_labels tensor([0, 1, 1, 1, 0, 1, 0], device='cuda:0')\n",
            "masked_lm_loss tensor(5.3146, device='cuda:0', grad_fn=<NllLossBackward0>) next_sentence_loss tensor(0.6783, device='cuda:0', grad_fn=<NllLossBackward0>) total_loss tensor(5.9930, device='cuda:0', grad_fn=<AddBackward0>)\n",
            "nsp_labels tensor([0, 1, 1, 1, 0, 1, 1], device='cuda:0')\n",
            "masked_lm_loss tensor(6.0822, device='cuda:0', grad_fn=<NllLossBackward0>) next_sentence_loss tensor(0.7596, device='cuda:0', grad_fn=<NllLossBackward0>) total_loss tensor(6.8418, device='cuda:0', grad_fn=<AddBackward0>)\n",
            "nsp_labels tensor([0, 0, 1, 1, 0, 1, 1], device='cuda:0')\n",
            "masked_lm_loss tensor(6.1424, device='cuda:0', grad_fn=<NllLossBackward0>) next_sentence_loss tensor(0.6838, device='cuda:0', grad_fn=<NllLossBackward0>) total_loss tensor(6.8262, device='cuda:0', grad_fn=<AddBackward0>)\n",
            "nsp_labels tensor([0, 1, 1, 0, 0, 1, 1], device='cuda:0')\n",
            "masked_lm_loss tensor(6.2544, device='cuda:0', grad_fn=<NllLossBackward0>) next_sentence_loss tensor(0.7537, device='cuda:0', grad_fn=<NllLossBackward0>) total_loss tensor(7.0080, device='cuda:0', grad_fn=<AddBackward0>)\n",
            "nsp_labels tensor([0, 1, 1, 1, 0, 0, 1], device='cuda:0')\n",
            "masked_lm_loss tensor(6.2468, device='cuda:0', grad_fn=<NllLossBackward0>) next_sentence_loss tensor(0.6056, device='cuda:0', grad_fn=<NllLossBackward0>) total_loss tensor(6.8523, device='cuda:0', grad_fn=<AddBackward0>)\n",
            "nsp_labels tensor([0, 1, 1, 1, 0, 1, 1], device='cuda:0')\n",
            "masked_lm_loss tensor(5.7742, device='cuda:0', grad_fn=<NllLossBackward0>) next_sentence_loss tensor(0.6736, device='cuda:0', grad_fn=<NllLossBackward0>) total_loss tensor(6.4478, device='cuda:0', grad_fn=<AddBackward0>)\n",
            "nsp_labels tensor([0, 1, 1, 1, 0, 0, 1], device='cuda:0')\n",
            "masked_lm_loss tensor(5.8068, device='cuda:0', grad_fn=<NllLossBackward0>) next_sentence_loss tensor(0.6978, device='cuda:0', grad_fn=<NllLossBackward0>) total_loss tensor(6.5046, device='cuda:0', grad_fn=<AddBackward0>)\n",
            "nsp_labels tensor([0, 1, 0, 1, 0, 1, 1], device='cuda:0')\n",
            "masked_lm_loss tensor(5.9592, device='cuda:0', grad_fn=<NllLossBackward0>) next_sentence_loss tensor(0.6771, device='cuda:0', grad_fn=<NllLossBackward0>) total_loss tensor(6.6363, device='cuda:0', grad_fn=<AddBackward0>)\n",
            "nsp_labels tensor([0, 0, 1, 1, 0, 1, 1], device='cuda:0')\n",
            "masked_lm_loss tensor(6.1770, device='cuda:0', grad_fn=<NllLossBackward0>) next_sentence_loss tensor(0.6738, device='cuda:0', grad_fn=<NllLossBackward0>) total_loss tensor(6.8509, device='cuda:0', grad_fn=<AddBackward0>)\n",
            "nsp_labels tensor([0, 1, 1, 0, 0, 1, 1], device='cuda:0')\n",
            "masked_lm_loss tensor(5.9396, device='cuda:0', grad_fn=<NllLossBackward0>) next_sentence_loss tensor(0.6159, device='cuda:0', grad_fn=<NllLossBackward0>) total_loss tensor(6.5555, device='cuda:0', grad_fn=<AddBackward0>)\n",
            "nsp_labels tensor([0, 1, 1, 1, 0, 1, 0], device='cuda:0')\n",
            "masked_lm_loss tensor(6.0744, device='cuda:0', grad_fn=<NllLossBackward0>) next_sentence_loss tensor(0.6693, device='cuda:0', grad_fn=<NllLossBackward0>) total_loss tensor(6.7437, device='cuda:0', grad_fn=<AddBackward0>)\n",
            "nsp_labels tensor([0, 1, 0, 1, 0, 1, 1], device='cuda:0')\n",
            "masked_lm_loss tensor(5.3740, device='cuda:0', grad_fn=<NllLossBackward0>) next_sentence_loss tensor(0.6391, device='cuda:0', grad_fn=<NllLossBackward0>) total_loss tensor(6.0131, device='cuda:0', grad_fn=<AddBackward0>)\n",
            "nsp_labels tensor([0, 0, 1, 1, 0, 1, 1], device='cuda:0')\n",
            "masked_lm_loss tensor(5.5689, device='cuda:0', grad_fn=<NllLossBackward0>) next_sentence_loss tensor(0.6582, device='cuda:0', grad_fn=<NllLossBackward0>) total_loss tensor(6.2271, device='cuda:0', grad_fn=<AddBackward0>)\n",
            "nsp_labels tensor([0, 1, 1, 1, 0, 1, 0], device='cuda:0')\n",
            "masked_lm_loss tensor(5.4533, device='cuda:0', grad_fn=<NllLossBackward0>) next_sentence_loss tensor(0.6752, device='cuda:0', grad_fn=<NllLossBackward0>) total_loss tensor(6.1284, device='cuda:0', grad_fn=<AddBackward0>)\n",
            "nsp_labels tensor([0, 1, 1, 1, 0, 0, 1], device='cuda:0')\n",
            "masked_lm_loss tensor(4.4569, device='cuda:0', grad_fn=<NllLossBackward0>) next_sentence_loss tensor(0.6458, device='cuda:0', grad_fn=<NllLossBackward0>) total_loss tensor(5.1027, device='cuda:0', grad_fn=<AddBackward0>)\n",
            "nsp_labels tensor([0, 1, 1, 1, 0, 1, 1], device='cuda:0')\n",
            "masked_lm_loss tensor(5.0876, device='cuda:0', grad_fn=<NllLossBackward0>) next_sentence_loss tensor(0.6354, device='cuda:0', grad_fn=<NllLossBackward0>) total_loss tensor(5.7230, device='cuda:0', grad_fn=<AddBackward0>)\n",
            "nsp_labels tensor([0, 1, 1, 0, 0, 1, 1], device='cuda:0')\n",
            "masked_lm_loss tensor(5.5902, device='cuda:0', grad_fn=<NllLossBackward0>) next_sentence_loss tensor(0.6423, device='cuda:0', grad_fn=<NllLossBackward0>) total_loss tensor(6.2325, device='cuda:0', grad_fn=<AddBackward0>)\n",
            "nsp_labels tensor([0, 1, 1, 1, 0, 1, 1], device='cuda:0')\n",
            "masked_lm_loss tensor(5.9163, device='cuda:0', grad_fn=<NllLossBackward0>) next_sentence_loss tensor(0.6537, device='cuda:0', grad_fn=<NllLossBackward0>) total_loss tensor(6.5700, device='cuda:0', grad_fn=<AddBackward0>)\n",
            "nsp_labels tensor([0, 1, 1, 1, 0, 1, 1], device='cuda:0')\n",
            "masked_lm_loss tensor(5.7497, device='cuda:0', grad_fn=<NllLossBackward0>) next_sentence_loss tensor(0.6692, device='cuda:0', grad_fn=<NllLossBackward0>) total_loss tensor(6.4188, device='cuda:0', grad_fn=<AddBackward0>)\n",
            "nsp_labels tensor([0, 1, 0, 1, 0, 1, 1], device='cuda:0')\n",
            "masked_lm_loss tensor(5.5031, device='cuda:0', grad_fn=<NllLossBackward0>) next_sentence_loss tensor(0.6790, device='cuda:0', grad_fn=<NllLossBackward0>) total_loss tensor(6.1822, device='cuda:0', grad_fn=<AddBackward0>)\n",
            "nsp_labels tensor([0, 1, 1, 1, 0, 0, 1], device='cuda:0')\n",
            "masked_lm_loss tensor(4.9900, device='cuda:0', grad_fn=<NllLossBackward0>) next_sentence_loss tensor(0.6167, device='cuda:0', grad_fn=<NllLossBackward0>) total_loss tensor(5.6067, device='cuda:0', grad_fn=<AddBackward0>)\n",
            "nsp_labels tensor([0, 1, 1, 1, 0, 1, 1], device='cuda:0')\n"
          ]
        },
        {
          "output_type": "stream",
          "name": "stderr",
          "text": [
            "\n",
            "\n",
            "Training completed. Do not forget to share your model on huggingface.co/models =)\n",
            "\n",
            "\n",
            "Saving model checkpoint to /content/drive/MyDrive/Colab Notebooks/BERT/Models\n",
            "Configuration saved in /content/drive/MyDrive/Colab Notebooks/BERT/Models/config.json\n",
            "Model weights saved in /content/drive/MyDrive/Colab Notebooks/BERT/Models/pytorch_model.bin\n"
          ]
        }
      ],
      "source": [
        "from transformers import Trainer, TrainingArguments\n",
        "\n",
        "training_args = TrainingArguments(\n",
        "    output_dir= \"/content/drive/MyDrive/Colab Notebooks/BERT/Models/Training\",\n",
        "    # overwrite_output_dir=True,\n",
        "    num_train_epochs=50,\n",
        "    per_gpu_train_batch_size= 16,\n",
        "    save_steps=10_000,\n",
        "    save_total_limit=2,\n",
        "    prediction_loss_only=True,\n",
        ")\n",
        "\n",
        "trainer = Trainer(\n",
        "    model=model,\n",
        "    args=training_args,\n",
        "    data_collator=data_collator,\n",
        "    train_dataset=dataset,\n",
        ")\n",
        "\n",
        "trainer.train()\n",
        "trainer.save_model(\"/content/drive/MyDrive/Colab Notebooks/BERT/Models\")"
      ]
    },
    {
      "cell_type": "code",
      "source": [
        "list(dataset)"
      ],
      "metadata": {
        "colab": {
          "base_uri": "https://localhost:8080/"
        },
        "id": "n1oHUckSUwWy",
        "outputId": "275f7c24-b957-4b03-8585-776e95e27c81"
      },
      "execution_count": null,
      "outputs": [
        {
          "output_type": "execute_result",
          "data": {
            "text/plain": [
              "[{'input_ids': tensor([  101,  4784,  2008,  2735,  2041,  2000,  2022,  3811,  6383,  2024,\n",
              "           2823,  2218,  2039,  2005,  2706,  1006,  2065,  2025,  2086,  1007,\n",
              "           1999, 15252, 16405, 28921,  7062,  1010,  3391,  2065,  2027,  5478,\n",
              "           2195,  2086,  2000,  2272,  2000, 16736,  1006,  2045,  2024,  1037,\n",
              "           2261,  3297,  4973,  1010,  3855,  1007,  1012,   102,  1996, 15012,\n",
              "           1999,  2256,  4772,  2291,  2003, 18068,  1996,  5082,  1997,  2256,\n",
              "           2492,  1012,  2009,  3084,  5082,  4297, 28578, 21050,  1012,  1998,\n",
              "           2009,  3084,  2256,  9281,  5399, 11771,  1012,   102]),\n",
              "  'token_type_ids': tensor([0, 0, 0, 0, 0, 0, 0, 0, 0, 0, 0, 0, 0, 0, 0, 0, 0, 0, 0, 0, 0, 0, 0, 0,\n",
              "          0, 0, 0, 0, 0, 0, 0, 0, 0, 0, 0, 0, 0, 0, 0, 0, 0, 0, 0, 0, 0, 0, 0, 0,\n",
              "          1, 1, 1, 1, 1, 1, 1, 1, 1, 1, 1, 1, 1, 1, 1, 1, 1, 1, 1, 1, 1, 1, 1, 1,\n",
              "          1, 1, 1, 1, 1, 1]),\n",
              "  'next_sentence_label': tensor(0)},\n",
              " {'input_ids': tensor([  101,  1037,  2350,  3277,  2003,  2008,  2256,  2783,  2291,  1010,\n",
              "           2007,  2049,  7902,  2006,  3811,  1011, 13228,  9281,  1010,  2003,\n",
              "           3811, 25352,  2114,  9525,  4784,  1998, 21191,  4297, 28578, 21050,\n",
              "           1056,  8545, 29243,  2006,  2092,  1011,  2511,  4725,  1012,   102,\n",
              "           4784,  2008,  2735,  2041,  2000,  2022,  3811,  6383,  2024,  2823,\n",
              "           2218,  2039,  2005,  2706,  1006,  2065,  2025,  2086,  1007,  1999,\n",
              "          15252, 16405, 28921,  7062,  1010,  3391,  2065,  2027,  5478,  2195,\n",
              "           2086,  2000,  2272,  2000, 16736,  1006,  2045,  2024,  1037,  2261,\n",
              "           3297,  4973,  1010,  3855,  1007,  1012,   102]),\n",
              "  'token_type_ids': tensor([0, 0, 0, 0, 0, 0, 0, 0, 0, 0, 0, 0, 0, 0, 0, 0, 0, 0, 0, 0, 0, 0, 0, 0,\n",
              "          0, 0, 0, 0, 0, 0, 0, 0, 0, 0, 0, 0, 0, 0, 0, 0, 1, 1, 1, 1, 1, 1, 1, 1,\n",
              "          1, 1, 1, 1, 1, 1, 1, 1, 1, 1, 1, 1, 1, 1, 1, 1, 1, 1, 1, 1, 1, 1, 1, 1,\n",
              "          1, 1, 1, 1, 1, 1, 1, 1, 1, 1, 1, 1, 1, 1, 1]),\n",
              "  'next_sentence_label': tensor(0)},\n",
              " {'input_ids': tensor([  101,  2256,  2783,  4772,  2291,  2003,  1996,  2765,  1997,  2381,\n",
              "           1010,  2073,  1996, 28170,  1997,  4045,  2592,  2001,  3132,  2011,\n",
              "           8021,  1998,  7829,  3977,  1998,  3465,  1012,   102, 20506, 15004,\n",
              "           1010,  3274,  2671,  2038,  2025,  3929,  2579,  5056,  1997,  1996,\n",
              "           4773,  2004,  1037,  4807,  5396,  2000,  1996,  2168,  6698,  2008,\n",
              "           2060,  4249,  2031,  1006,  2107,  2004,  5584,  1998,  5597,  1007,\n",
              "           1012,   102]),\n",
              "  'token_type_ids': tensor([0, 0, 0, 0, 0, 0, 0, 0, 0, 0, 0, 0, 0, 0, 0, 0, 0, 0, 0, 0, 0, 0, 0, 0,\n",
              "          0, 0, 0, 0, 1, 1, 1, 1, 1, 1, 1, 1, 1, 1, 1, 1, 1, 1, 1, 1, 1, 1, 1, 1,\n",
              "          1, 1, 1, 1, 1, 1, 1, 1, 1, 1, 1, 1, 1, 1]),\n",
              "  'next_sentence_label': tensor(0)},\n",
              " {'input_ids': tensor([  101,  2256,  2783,  4772,  2291,  2323,  2022, 17051,  2000, 25845,\n",
              "           1996,  3446,  1997,  5082,  1999,  2256,  2492,  1012,   102,  1037,\n",
              "           2350,  3277,  2003,  2008,  2256,  2783,  2291,  1010,  2007,  2049,\n",
              "           7902,  2006,  3811,  1011, 13228,  9281,  1010,  2003,  3811, 25352,\n",
              "           2114,  9525,  4784,  1998, 21191,  4297, 28578, 21050,  1056,  8545,\n",
              "          29243,  2006,  2092,  1011,  2511,  4725,  1012,   102]),\n",
              "  'token_type_ids': tensor([0, 0, 0, 0, 0, 0, 0, 0, 0, 0, 0, 0, 0, 0, 0, 0, 0, 0, 0, 1, 1, 1, 1, 1,\n",
              "          1, 1, 1, 1, 1, 1, 1, 1, 1, 1, 1, 1, 1, 1, 1, 1, 1, 1, 1, 1, 1, 1, 1, 1,\n",
              "          1, 1, 1, 1, 1, 1, 1, 1, 1, 1]),\n",
              "  'next_sentence_label': tensor(1)},\n",
              " {'input_ids': tensor([  101,  2023,  2965, 29494,  1996,  3177,  2012,  2029,  2047,  4784,\n",
              "           1998,  3463,  2024, 10573,  1010,  4487, 11393, 26972,  1010,  1998,\n",
              "          16330,  1012,   102,  1037,  2350,  3277,  2003,  2008,  2256,  2783,\n",
              "           2291,  1010,  2007,  2049,  7902,  2006,  3811,  1011, 13228,  9281,\n",
              "           1010,  2003,  3811, 25352,  2114,  9525,  4784,  1998, 21191,  4297,\n",
              "          28578, 21050,  1056,  8545, 29243,  2006,  2092,  1011,  2511,  4725,\n",
              "           1012,   102]),\n",
              "  'token_type_ids': tensor([0, 0, 0, 0, 0, 0, 0, 0, 0, 0, 0, 0, 0, 0, 0, 0, 0, 0, 0, 0, 0, 0, 0, 1,\n",
              "          1, 1, 1, 1, 1, 1, 1, 1, 1, 1, 1, 1, 1, 1, 1, 1, 1, 1, 1, 1, 1, 1, 1, 1,\n",
              "          1, 1, 1, 1, 1, 1, 1, 1, 1, 1, 1, 1, 1, 1]),\n",
              "  'next_sentence_label': tensor(1)},\n",
              " {'input_ids': tensor([  101,  1996, 15012,  1999,  2256,  4772,  2291,  2003, 18068,  1996,\n",
              "           5082,  1997,  2256,  2492,  1012,  2009,  3084,  5082,  4297, 28578,\n",
              "          21050,  1012,  1998,  2009,  3084,  2256,  9281,  5399, 11771,  1012,\n",
              "            102,  1996, 15012,  1999,  2256,  4772,  2291,  2003, 18068,  1996,\n",
              "           5082,  1997,  2256,  2492,  1012,  2009,  3084,  5082,  4297, 28578,\n",
              "          21050,  1012,  1998,  2009,  3084,  2256,  9281,  5399, 11771,  1012,\n",
              "            102]),\n",
              "  'token_type_ids': tensor([0, 0, 0, 0, 0, 0, 0, 0, 0, 0, 0, 0, 0, 0, 0, 0, 0, 0, 0, 0, 0, 0, 0, 0,\n",
              "          0, 0, 0, 0, 0, 0, 0, 1, 1, 1, 1, 1, 1, 1, 1, 1, 1, 1, 1, 1, 1, 1, 1, 1,\n",
              "          1, 1, 1, 1, 1, 1, 1, 1, 1, 1, 1, 1, 1]),\n",
              "  'next_sentence_label': tensor(1)},\n",
              " {'input_ids': tensor([  101,  2023,  2036,  2965,  7163,  4328,  6774,  1996,  3815,  1997,\n",
              "           2051,  2169,  1997,  2149, 15970, 23208,  2060,  2111,  1005,  1055,\n",
              "           2147,  2083, 15252,  1998,  9033, 26169,  2083,  1996,  3906,  1012,\n",
              "            102,  2256,  2783,  4772,  2291,  2003,  1996,  2765,  1997,  2381,\n",
              "           1010,  2073,  1996, 28170,  1997,  4045,  2592,  2001,  3132,  2011,\n",
              "           8021,  1998,  7829,  3977,  1998,  3465,  1012,   102]),\n",
              "  'token_type_ids': tensor([0, 0, 0, 0, 0, 0, 0, 0, 0, 0, 0, 0, 0, 0, 0, 0, 0, 0, 0, 0, 0, 0, 0, 0,\n",
              "          0, 0, 0, 0, 0, 0, 0, 1, 1, 1, 1, 1, 1, 1, 1, 1, 1, 1, 1, 1, 1, 1, 1, 1,\n",
              "          1, 1, 1, 1, 1, 1, 1, 1, 1, 1]),\n",
              "  'next_sentence_label': tensor(1)}]"
            ]
          },
          "metadata": {},
          "execution_count": 11
        }
      ]
    },
    {
      "cell_type": "code",
      "execution_count": null,
      "metadata": {
        "colab": {
          "base_uri": "https://localhost:8080/"
        },
        "id": "4TAUpLl5z5Rw",
        "outputId": "709afb8f-8526-428b-f06a-ce19607abb90"
      },
      "outputs": [
        {
          "data": {
            "text/plain": [
              "torch.Size([8, 70])"
            ]
          },
          "execution_count": 69,
          "metadata": {},
          "output_type": "execute_result"
        }
      ],
      "source": [
        "import torch\n",
        "x = torch.randn( 8, 70)\n",
        "\n",
        "x.shape\n"
      ]
    },
    {
      "cell_type": "code",
      "execution_count": null,
      "metadata": {
        "id": "fVxQyNN7E7CC"
      },
      "outputs": [],
      "source": []
    },
    {
      "cell_type": "code",
      "execution_count": null,
      "metadata": {
        "colab": {
          "base_uri": "https://localhost:8080/"
        },
        "id": "bPi65-SH102G",
        "outputId": "8f49526b-5291-4097-e920-1bba54b131a7"
      },
      "outputs": [
        {
          "data": {
            "text/plain": [
              "torch.Size([8])"
            ]
          },
          "execution_count": 70,
          "metadata": {},
          "output_type": "execute_result"
        }
      ],
      "source": [
        "y = torch.ones([8])\n",
        "\n",
        "y[2]=0\n",
        "y[3]=0\n",
        "y.shape"
      ]
    },
    {
      "cell_type": "code",
      "execution_count": null,
      "metadata": {
        "colab": {
          "base_uri": "https://localhost:8080/"
        },
        "id": "mw4tqLA888bn",
        "outputId": "0f540035-dec8-4b02-db22-b481bb8b6f6a"
      },
      "outputs": [
        {
          "data": {
            "text/plain": [
              "tensor([[1.],\n",
              "        [1.],\n",
              "        [0.],\n",
              "        [0.]])"
            ]
          },
          "execution_count": 44,
          "metadata": {},
          "output_type": "execute_result"
        }
      ],
      "source": [
        "y"
      ]
    },
    {
      "cell_type": "code",
      "execution_count": null,
      "metadata": {
        "id": "KcCxsG0b7lrF"
      },
      "outputs": [],
      "source": [
        "\n",
        "z= torch.mul(x, y)"
      ]
    },
    {
      "cell_type": "code",
      "execution_count": null,
      "metadata": {
        "colab": {
          "base_uri": "https://localhost:8080/"
        },
        "id": "4lj_Y6Ju6bzT",
        "outputId": "b0466d32-5ca6-4e46-8408-7bf53602cfa7"
      },
      "outputs": [
        {
          "data": {
            "text/plain": [
              "torch.Size([4, 2])"
            ]
          },
          "execution_count": 40,
          "metadata": {},
          "output_type": "execute_result"
        }
      ],
      "source": [
        "z.shape"
      ]
    },
    {
      "cell_type": "code",
      "execution_count": null,
      "metadata": {
        "id": "Rqj9H-AK61GR"
      },
      "outputs": [],
      "source": [
        "for i in range(len(y)):\n",
        "  if y[i] == 0:\n",
        "    x[i]= x[i]*0 - 100\n",
        "    \n",
        "    "
      ]
    },
    {
      "cell_type": "code",
      "execution_count": null,
      "metadata": {
        "colab": {
          "base_uri": "https://localhost:8080/"
        },
        "id": "UznGWLM17dn1",
        "outputId": "36c646da-aa3c-46df-9891-827e31981865"
      },
      "outputs": [
        {
          "data": {
            "text/plain": [
              "tensor([-100., -100., -100., -100., -100., -100., -100., -100., -100., -100.,\n",
              "        -100., -100., -100., -100., -100., -100., -100., -100., -100., -100.,\n",
              "        -100., -100., -100., -100., -100., -100., -100., -100., -100., -100.,\n",
              "        -100., -100., -100., -100., -100., -100., -100., -100., -100., -100.,\n",
              "        -100., -100., -100., -100., -100., -100., -100., -100., -100., -100.,\n",
              "        -100., -100., -100., -100., -100., -100., -100., -100., -100., -100.,\n",
              "        -100., -100., -100., -100., -100., -100., -100., -100., -100., -100.])"
            ]
          },
          "execution_count": 74,
          "metadata": {},
          "output_type": "execute_result"
        }
      ],
      "source": [
        "x[3]"
      ]
    },
    {
      "cell_type": "code",
      "execution_count": null,
      "metadata": {
        "colab": {
          "base_uri": "https://localhost:8080/"
        },
        "id": "JZJ6XTbo15lc",
        "outputId": "0f3bfeaa-0aa4-42b0-b463-955b31121bfe"
      },
      "outputs": [
        {
          "data": {
            "text/plain": [
              "torch.Size([8, 2])"
            ]
          },
          "execution_count": 7,
          "metadata": {},
          "output_type": "execute_result"
        }
      ],
      "source": [
        "x.view(-1, 2).shape"
      ]
    },
    {
      "cell_type": "code",
      "execution_count": null,
      "metadata": {
        "id": "XZWkYEvS170l"
      },
      "outputs": [],
      "source": [
        "CrossEntropyLoss()"
      ]
    }
  ],
  "metadata": {
    "colab": {
      "collapsed_sections": [],
      "provenance": [],
      "mount_file_id": "1mXVG7y4Jwa-c5IdfXzMiYzn-JWNuB8ZF",
      "authorship_tag": "ABX9TyPrC9hkLbOX12O449lkYaCa",
      "include_colab_link": true
    },
    "kernelspec": {
      "display_name": "Python 3",
      "name": "python3"
    },
    "language_info": {
      "name": "python"
    },
    "accelerator": "GPU",
    "widgets": {
      "application/vnd.jupyter.widget-state+json": {
        "2392dbebff5740f6b38254b73e001cc9": {
          "model_module": "@jupyter-widgets/controls",
          "model_name": "HBoxModel",
          "model_module_version": "1.5.0",
          "state": {
            "_dom_classes": [],
            "_model_module": "@jupyter-widgets/controls",
            "_model_module_version": "1.5.0",
            "_model_name": "HBoxModel",
            "_view_count": null,
            "_view_module": "@jupyter-widgets/controls",
            "_view_module_version": "1.5.0",
            "_view_name": "HBoxView",
            "box_style": "",
            "children": [
              "IPY_MODEL_fa6bd7abeb58453ca803fa27113c8d4c",
              "IPY_MODEL_08569ea1e65840c6b1ef4990af271334",
              "IPY_MODEL_586b28c24b234e31a6b52cd99aac2c5c"
            ],
            "layout": "IPY_MODEL_f089fd3b45a24ff1a81384ff4a9f8ce1"
          }
        },
        "fa6bd7abeb58453ca803fa27113c8d4c": {
          "model_module": "@jupyter-widgets/controls",
          "model_name": "HTMLModel",
          "model_module_version": "1.5.0",
          "state": {
            "_dom_classes": [],
            "_model_module": "@jupyter-widgets/controls",
            "_model_module_version": "1.5.0",
            "_model_name": "HTMLModel",
            "_view_count": null,
            "_view_module": "@jupyter-widgets/controls",
            "_view_module_version": "1.5.0",
            "_view_name": "HTMLView",
            "description": "",
            "description_tooltip": null,
            "layout": "IPY_MODEL_fc0fb7e0b989435eaa059fe291f53dc7",
            "placeholder": "​",
            "style": "IPY_MODEL_14266f8a895c437eb3a8821d4a46afb7",
            "value": "Downloading builder script: 100%"
          }
        },
        "08569ea1e65840c6b1ef4990af271334": {
          "model_module": "@jupyter-widgets/controls",
          "model_name": "FloatProgressModel",
          "model_module_version": "1.5.0",
          "state": {
            "_dom_classes": [],
            "_model_module": "@jupyter-widgets/controls",
            "_model_module_version": "1.5.0",
            "_model_name": "FloatProgressModel",
            "_view_count": null,
            "_view_module": "@jupyter-widgets/controls",
            "_view_module_version": "1.5.0",
            "_view_name": "ProgressView",
            "bar_style": "success",
            "description": "",
            "description_tooltip": null,
            "layout": "IPY_MODEL_d1e7e8ecd32849f19f77a2418f0e7bdf",
            "max": 8482,
            "min": 0,
            "orientation": "horizontal",
            "style": "IPY_MODEL_79d3920560f345559603fd5f546c5eaf",
            "value": 8482
          }
        },
        "586b28c24b234e31a6b52cd99aac2c5c": {
          "model_module": "@jupyter-widgets/controls",
          "model_name": "HTMLModel",
          "model_module_version": "1.5.0",
          "state": {
            "_dom_classes": [],
            "_model_module": "@jupyter-widgets/controls",
            "_model_module_version": "1.5.0",
            "_model_name": "HTMLModel",
            "_view_count": null,
            "_view_module": "@jupyter-widgets/controls",
            "_view_module_version": "1.5.0",
            "_view_name": "HTMLView",
            "description": "",
            "description_tooltip": null,
            "layout": "IPY_MODEL_4e4a601dd6824bd69aca8b0b675b3af8",
            "placeholder": "​",
            "style": "IPY_MODEL_f85b86e4acf04ecc9d0e69f06e6b2d95",
            "value": " 8.48k/8.48k [00:00&lt;00:00, 9.97kB/s]"
          }
        },
        "f089fd3b45a24ff1a81384ff4a9f8ce1": {
          "model_module": "@jupyter-widgets/base",
          "model_name": "LayoutModel",
          "model_module_version": "1.2.0",
          "state": {
            "_model_module": "@jupyter-widgets/base",
            "_model_module_version": "1.2.0",
            "_model_name": "LayoutModel",
            "_view_count": null,
            "_view_module": "@jupyter-widgets/base",
            "_view_module_version": "1.2.0",
            "_view_name": "LayoutView",
            "align_content": null,
            "align_items": null,
            "align_self": null,
            "border": null,
            "bottom": null,
            "display": null,
            "flex": null,
            "flex_flow": null,
            "grid_area": null,
            "grid_auto_columns": null,
            "grid_auto_flow": null,
            "grid_auto_rows": null,
            "grid_column": null,
            "grid_gap": null,
            "grid_row": null,
            "grid_template_areas": null,
            "grid_template_columns": null,
            "grid_template_rows": null,
            "height": null,
            "justify_content": null,
            "justify_items": null,
            "left": null,
            "margin": null,
            "max_height": null,
            "max_width": null,
            "min_height": null,
            "min_width": null,
            "object_fit": null,
            "object_position": null,
            "order": null,
            "overflow": null,
            "overflow_x": null,
            "overflow_y": null,
            "padding": null,
            "right": null,
            "top": null,
            "visibility": null,
            "width": null
          }
        },
        "fc0fb7e0b989435eaa059fe291f53dc7": {
          "model_module": "@jupyter-widgets/base",
          "model_name": "LayoutModel",
          "model_module_version": "1.2.0",
          "state": {
            "_model_module": "@jupyter-widgets/base",
            "_model_module_version": "1.2.0",
            "_model_name": "LayoutModel",
            "_view_count": null,
            "_view_module": "@jupyter-widgets/base",
            "_view_module_version": "1.2.0",
            "_view_name": "LayoutView",
            "align_content": null,
            "align_items": null,
            "align_self": null,
            "border": null,
            "bottom": null,
            "display": null,
            "flex": null,
            "flex_flow": null,
            "grid_area": null,
            "grid_auto_columns": null,
            "grid_auto_flow": null,
            "grid_auto_rows": null,
            "grid_column": null,
            "grid_gap": null,
            "grid_row": null,
            "grid_template_areas": null,
            "grid_template_columns": null,
            "grid_template_rows": null,
            "height": null,
            "justify_content": null,
            "justify_items": null,
            "left": null,
            "margin": null,
            "max_height": null,
            "max_width": null,
            "min_height": null,
            "min_width": null,
            "object_fit": null,
            "object_position": null,
            "order": null,
            "overflow": null,
            "overflow_x": null,
            "overflow_y": null,
            "padding": null,
            "right": null,
            "top": null,
            "visibility": null,
            "width": null
          }
        },
        "14266f8a895c437eb3a8821d4a46afb7": {
          "model_module": "@jupyter-widgets/controls",
          "model_name": "DescriptionStyleModel",
          "model_module_version": "1.5.0",
          "state": {
            "_model_module": "@jupyter-widgets/controls",
            "_model_module_version": "1.5.0",
            "_model_name": "DescriptionStyleModel",
            "_view_count": null,
            "_view_module": "@jupyter-widgets/base",
            "_view_module_version": "1.2.0",
            "_view_name": "StyleView",
            "description_width": ""
          }
        },
        "d1e7e8ecd32849f19f77a2418f0e7bdf": {
          "model_module": "@jupyter-widgets/base",
          "model_name": "LayoutModel",
          "model_module_version": "1.2.0",
          "state": {
            "_model_module": "@jupyter-widgets/base",
            "_model_module_version": "1.2.0",
            "_model_name": "LayoutModel",
            "_view_count": null,
            "_view_module": "@jupyter-widgets/base",
            "_view_module_version": "1.2.0",
            "_view_name": "LayoutView",
            "align_content": null,
            "align_items": null,
            "align_self": null,
            "border": null,
            "bottom": null,
            "display": null,
            "flex": null,
            "flex_flow": null,
            "grid_area": null,
            "grid_auto_columns": null,
            "grid_auto_flow": null,
            "grid_auto_rows": null,
            "grid_column": null,
            "grid_gap": null,
            "grid_row": null,
            "grid_template_areas": null,
            "grid_template_columns": null,
            "grid_template_rows": null,
            "height": null,
            "justify_content": null,
            "justify_items": null,
            "left": null,
            "margin": null,
            "max_height": null,
            "max_width": null,
            "min_height": null,
            "min_width": null,
            "object_fit": null,
            "object_position": null,
            "order": null,
            "overflow": null,
            "overflow_x": null,
            "overflow_y": null,
            "padding": null,
            "right": null,
            "top": null,
            "visibility": null,
            "width": null
          }
        },
        "79d3920560f345559603fd5f546c5eaf": {
          "model_module": "@jupyter-widgets/controls",
          "model_name": "ProgressStyleModel",
          "model_module_version": "1.5.0",
          "state": {
            "_model_module": "@jupyter-widgets/controls",
            "_model_module_version": "1.5.0",
            "_model_name": "ProgressStyleModel",
            "_view_count": null,
            "_view_module": "@jupyter-widgets/base",
            "_view_module_version": "1.2.0",
            "_view_name": "StyleView",
            "bar_color": null,
            "description_width": ""
          }
        },
        "4e4a601dd6824bd69aca8b0b675b3af8": {
          "model_module": "@jupyter-widgets/base",
          "model_name": "LayoutModel",
          "model_module_version": "1.2.0",
          "state": {
            "_model_module": "@jupyter-widgets/base",
            "_model_module_version": "1.2.0",
            "_model_name": "LayoutModel",
            "_view_count": null,
            "_view_module": "@jupyter-widgets/base",
            "_view_module_version": "1.2.0",
            "_view_name": "LayoutView",
            "align_content": null,
            "align_items": null,
            "align_self": null,
            "border": null,
            "bottom": null,
            "display": null,
            "flex": null,
            "flex_flow": null,
            "grid_area": null,
            "grid_auto_columns": null,
            "grid_auto_flow": null,
            "grid_auto_rows": null,
            "grid_column": null,
            "grid_gap": null,
            "grid_row": null,
            "grid_template_areas": null,
            "grid_template_columns": null,
            "grid_template_rows": null,
            "height": null,
            "justify_content": null,
            "justify_items": null,
            "left": null,
            "margin": null,
            "max_height": null,
            "max_width": null,
            "min_height": null,
            "min_width": null,
            "object_fit": null,
            "object_position": null,
            "order": null,
            "overflow": null,
            "overflow_x": null,
            "overflow_y": null,
            "padding": null,
            "right": null,
            "top": null,
            "visibility": null,
            "width": null
          }
        },
        "f85b86e4acf04ecc9d0e69f06e6b2d95": {
          "model_module": "@jupyter-widgets/controls",
          "model_name": "DescriptionStyleModel",
          "model_module_version": "1.5.0",
          "state": {
            "_model_module": "@jupyter-widgets/controls",
            "_model_module_version": "1.5.0",
            "_model_name": "DescriptionStyleModel",
            "_view_count": null,
            "_view_module": "@jupyter-widgets/base",
            "_view_module_version": "1.2.0",
            "_view_name": "StyleView",
            "description_width": ""
          }
        },
        "51e6b71cc28d424d930081e0416905d0": {
          "model_module": "@jupyter-widgets/controls",
          "model_name": "HBoxModel",
          "model_module_version": "1.5.0",
          "state": {
            "_dom_classes": [],
            "_model_module": "@jupyter-widgets/controls",
            "_model_module_version": "1.5.0",
            "_model_name": "HBoxModel",
            "_view_count": null,
            "_view_module": "@jupyter-widgets/controls",
            "_view_module_version": "1.5.0",
            "_view_name": "HBoxView",
            "box_style": "",
            "children": [
              "IPY_MODEL_9a4656596a4b46c2bf6589b4d3cb7402",
              "IPY_MODEL_ac4e51a169684cc38012e2bf2ee66547",
              "IPY_MODEL_2bcc1bc4dd5a4d6b9342ec8cc5259bd2"
            ],
            "layout": "IPY_MODEL_294cfddc69ff40cf8086e68f52dc8156"
          }
        },
        "9a4656596a4b46c2bf6589b4d3cb7402": {
          "model_module": "@jupyter-widgets/controls",
          "model_name": "HTMLModel",
          "model_module_version": "1.5.0",
          "state": {
            "_dom_classes": [],
            "_model_module": "@jupyter-widgets/controls",
            "_model_module_version": "1.5.0",
            "_model_name": "HTMLModel",
            "_view_count": null,
            "_view_module": "@jupyter-widgets/controls",
            "_view_module_version": "1.5.0",
            "_view_name": "HTMLView",
            "description": "",
            "description_tooltip": null,
            "layout": "IPY_MODEL_ccd853aba41446b8a1276e13aa4853f8",
            "placeholder": "​",
            "style": "IPY_MODEL_51c0300f30ee444aab15bd361a6e0cab",
            "value": "Downloading metadata: 100%"
          }
        },
        "ac4e51a169684cc38012e2bf2ee66547": {
          "model_module": "@jupyter-widgets/controls",
          "model_name": "FloatProgressModel",
          "model_module_version": "1.5.0",
          "state": {
            "_dom_classes": [],
            "_model_module": "@jupyter-widgets/controls",
            "_model_module_version": "1.5.0",
            "_model_name": "FloatProgressModel",
            "_view_count": null,
            "_view_module": "@jupyter-widgets/controls",
            "_view_module_version": "1.5.0",
            "_view_name": "ProgressView",
            "bar_style": "success",
            "description": "",
            "description_tooltip": null,
            "layout": "IPY_MODEL_4415d596bce7471997acf2458bb06e21",
            "max": 6838,
            "min": 0,
            "orientation": "horizontal",
            "style": "IPY_MODEL_59d0c548a73d4dba80c9ff74014bb44b",
            "value": 6838
          }
        },
        "2bcc1bc4dd5a4d6b9342ec8cc5259bd2": {
          "model_module": "@jupyter-widgets/controls",
          "model_name": "HTMLModel",
          "model_module_version": "1.5.0",
          "state": {
            "_dom_classes": [],
            "_model_module": "@jupyter-widgets/controls",
            "_model_module_version": "1.5.0",
            "_model_name": "HTMLModel",
            "_view_count": null,
            "_view_module": "@jupyter-widgets/controls",
            "_view_module_version": "1.5.0",
            "_view_name": "HTMLView",
            "description": "",
            "description_tooltip": null,
            "layout": "IPY_MODEL_e0df568883604c0aaeb10f8f292c7266",
            "placeholder": "​",
            "style": "IPY_MODEL_cfe185de524d449eb7a27862eab39bf3",
            "value": " 6.84k/6.84k [00:00&lt;00:00, 76.9kB/s]"
          }
        },
        "294cfddc69ff40cf8086e68f52dc8156": {
          "model_module": "@jupyter-widgets/base",
          "model_name": "LayoutModel",
          "model_module_version": "1.2.0",
          "state": {
            "_model_module": "@jupyter-widgets/base",
            "_model_module_version": "1.2.0",
            "_model_name": "LayoutModel",
            "_view_count": null,
            "_view_module": "@jupyter-widgets/base",
            "_view_module_version": "1.2.0",
            "_view_name": "LayoutView",
            "align_content": null,
            "align_items": null,
            "align_self": null,
            "border": null,
            "bottom": null,
            "display": null,
            "flex": null,
            "flex_flow": null,
            "grid_area": null,
            "grid_auto_columns": null,
            "grid_auto_flow": null,
            "grid_auto_rows": null,
            "grid_column": null,
            "grid_gap": null,
            "grid_row": null,
            "grid_template_areas": null,
            "grid_template_columns": null,
            "grid_template_rows": null,
            "height": null,
            "justify_content": null,
            "justify_items": null,
            "left": null,
            "margin": null,
            "max_height": null,
            "max_width": null,
            "min_height": null,
            "min_width": null,
            "object_fit": null,
            "object_position": null,
            "order": null,
            "overflow": null,
            "overflow_x": null,
            "overflow_y": null,
            "padding": null,
            "right": null,
            "top": null,
            "visibility": null,
            "width": null
          }
        },
        "ccd853aba41446b8a1276e13aa4853f8": {
          "model_module": "@jupyter-widgets/base",
          "model_name": "LayoutModel",
          "model_module_version": "1.2.0",
          "state": {
            "_model_module": "@jupyter-widgets/base",
            "_model_module_version": "1.2.0",
            "_model_name": "LayoutModel",
            "_view_count": null,
            "_view_module": "@jupyter-widgets/base",
            "_view_module_version": "1.2.0",
            "_view_name": "LayoutView",
            "align_content": null,
            "align_items": null,
            "align_self": null,
            "border": null,
            "bottom": null,
            "display": null,
            "flex": null,
            "flex_flow": null,
            "grid_area": null,
            "grid_auto_columns": null,
            "grid_auto_flow": null,
            "grid_auto_rows": null,
            "grid_column": null,
            "grid_gap": null,
            "grid_row": null,
            "grid_template_areas": null,
            "grid_template_columns": null,
            "grid_template_rows": null,
            "height": null,
            "justify_content": null,
            "justify_items": null,
            "left": null,
            "margin": null,
            "max_height": null,
            "max_width": null,
            "min_height": null,
            "min_width": null,
            "object_fit": null,
            "object_position": null,
            "order": null,
            "overflow": null,
            "overflow_x": null,
            "overflow_y": null,
            "padding": null,
            "right": null,
            "top": null,
            "visibility": null,
            "width": null
          }
        },
        "51c0300f30ee444aab15bd361a6e0cab": {
          "model_module": "@jupyter-widgets/controls",
          "model_name": "DescriptionStyleModel",
          "model_module_version": "1.5.0",
          "state": {
            "_model_module": "@jupyter-widgets/controls",
            "_model_module_version": "1.5.0",
            "_model_name": "DescriptionStyleModel",
            "_view_count": null,
            "_view_module": "@jupyter-widgets/base",
            "_view_module_version": "1.2.0",
            "_view_name": "StyleView",
            "description_width": ""
          }
        },
        "4415d596bce7471997acf2458bb06e21": {
          "model_module": "@jupyter-widgets/base",
          "model_name": "LayoutModel",
          "model_module_version": "1.2.0",
          "state": {
            "_model_module": "@jupyter-widgets/base",
            "_model_module_version": "1.2.0",
            "_model_name": "LayoutModel",
            "_view_count": null,
            "_view_module": "@jupyter-widgets/base",
            "_view_module_version": "1.2.0",
            "_view_name": "LayoutView",
            "align_content": null,
            "align_items": null,
            "align_self": null,
            "border": null,
            "bottom": null,
            "display": null,
            "flex": null,
            "flex_flow": null,
            "grid_area": null,
            "grid_auto_columns": null,
            "grid_auto_flow": null,
            "grid_auto_rows": null,
            "grid_column": null,
            "grid_gap": null,
            "grid_row": null,
            "grid_template_areas": null,
            "grid_template_columns": null,
            "grid_template_rows": null,
            "height": null,
            "justify_content": null,
            "justify_items": null,
            "left": null,
            "margin": null,
            "max_height": null,
            "max_width": null,
            "min_height": null,
            "min_width": null,
            "object_fit": null,
            "object_position": null,
            "order": null,
            "overflow": null,
            "overflow_x": null,
            "overflow_y": null,
            "padding": null,
            "right": null,
            "top": null,
            "visibility": null,
            "width": null
          }
        },
        "59d0c548a73d4dba80c9ff74014bb44b": {
          "model_module": "@jupyter-widgets/controls",
          "model_name": "ProgressStyleModel",
          "model_module_version": "1.5.0",
          "state": {
            "_model_module": "@jupyter-widgets/controls",
            "_model_module_version": "1.5.0",
            "_model_name": "ProgressStyleModel",
            "_view_count": null,
            "_view_module": "@jupyter-widgets/base",
            "_view_module_version": "1.2.0",
            "_view_name": "StyleView",
            "bar_color": null,
            "description_width": ""
          }
        },
        "e0df568883604c0aaeb10f8f292c7266": {
          "model_module": "@jupyter-widgets/base",
          "model_name": "LayoutModel",
          "model_module_version": "1.2.0",
          "state": {
            "_model_module": "@jupyter-widgets/base",
            "_model_module_version": "1.2.0",
            "_model_name": "LayoutModel",
            "_view_count": null,
            "_view_module": "@jupyter-widgets/base",
            "_view_module_version": "1.2.0",
            "_view_name": "LayoutView",
            "align_content": null,
            "align_items": null,
            "align_self": null,
            "border": null,
            "bottom": null,
            "display": null,
            "flex": null,
            "flex_flow": null,
            "grid_area": null,
            "grid_auto_columns": null,
            "grid_auto_flow": null,
            "grid_auto_rows": null,
            "grid_column": null,
            "grid_gap": null,
            "grid_row": null,
            "grid_template_areas": null,
            "grid_template_columns": null,
            "grid_template_rows": null,
            "height": null,
            "justify_content": null,
            "justify_items": null,
            "left": null,
            "margin": null,
            "max_height": null,
            "max_width": null,
            "min_height": null,
            "min_width": null,
            "object_fit": null,
            "object_position": null,
            "order": null,
            "overflow": null,
            "overflow_x": null,
            "overflow_y": null,
            "padding": null,
            "right": null,
            "top": null,
            "visibility": null,
            "width": null
          }
        },
        "cfe185de524d449eb7a27862eab39bf3": {
          "model_module": "@jupyter-widgets/controls",
          "model_name": "DescriptionStyleModel",
          "model_module_version": "1.5.0",
          "state": {
            "_model_module": "@jupyter-widgets/controls",
            "_model_module_version": "1.5.0",
            "_model_name": "DescriptionStyleModel",
            "_view_count": null,
            "_view_module": "@jupyter-widgets/base",
            "_view_module_version": "1.2.0",
            "_view_name": "StyleView",
            "description_width": ""
          }
        },
        "5796c7d9cf4c4336a1293f1f7f943b5d": {
          "model_module": "@jupyter-widgets/controls",
          "model_name": "HBoxModel",
          "model_module_version": "1.5.0",
          "state": {
            "_dom_classes": [],
            "_model_module": "@jupyter-widgets/controls",
            "_model_module_version": "1.5.0",
            "_model_name": "HBoxModel",
            "_view_count": null,
            "_view_module": "@jupyter-widgets/controls",
            "_view_module_version": "1.5.0",
            "_view_name": "HBoxView",
            "box_style": "",
            "children": [
              "IPY_MODEL_fbcb7786373f4ce7ad3b94c8df8e7349",
              "IPY_MODEL_37f8723821004e51b2d6df72572c718a",
              "IPY_MODEL_489fa027f0dc49668b4370d761253ef8"
            ],
            "layout": "IPY_MODEL_a9b20705b4e94f709d91b9b144ee921f"
          }
        },
        "fbcb7786373f4ce7ad3b94c8df8e7349": {
          "model_module": "@jupyter-widgets/controls",
          "model_name": "HTMLModel",
          "model_module_version": "1.5.0",
          "state": {
            "_dom_classes": [],
            "_model_module": "@jupyter-widgets/controls",
            "_model_module_version": "1.5.0",
            "_model_name": "HTMLModel",
            "_view_count": null,
            "_view_module": "@jupyter-widgets/controls",
            "_view_module_version": "1.5.0",
            "_view_name": "HTMLView",
            "description": "",
            "description_tooltip": null,
            "layout": "IPY_MODEL_f517d1681c5d435fa5e023b1dd4509aa",
            "placeholder": "​",
            "style": "IPY_MODEL_8f0f2cb80bc64043a8b787eb484c3843",
            "value": "Downloading data: 100%"
          }
        },
        "37f8723821004e51b2d6df72572c718a": {
          "model_module": "@jupyter-widgets/controls",
          "model_name": "FloatProgressModel",
          "model_module_version": "1.5.0",
          "state": {
            "_dom_classes": [],
            "_model_module": "@jupyter-widgets/controls",
            "_model_module_version": "1.5.0",
            "_model_name": "FloatProgressModel",
            "_view_count": null,
            "_view_module": "@jupyter-widgets/controls",
            "_view_module_version": "1.5.0",
            "_view_name": "ProgressView",
            "bar_style": "success",
            "description": "",
            "description_tooltip": null,
            "layout": "IPY_MODEL_92bd85bc99684d9c991a69e2fce5a943",
            "max": 4475746,
            "min": 0,
            "orientation": "horizontal",
            "style": "IPY_MODEL_67711c54f8fb4bea9ae2dc031cef5fcd",
            "value": 4475746
          }
        },
        "489fa027f0dc49668b4370d761253ef8": {
          "model_module": "@jupyter-widgets/controls",
          "model_name": "HTMLModel",
          "model_module_version": "1.5.0",
          "state": {
            "_dom_classes": [],
            "_model_module": "@jupyter-widgets/controls",
            "_model_module_version": "1.5.0",
            "_model_name": "HTMLModel",
            "_view_count": null,
            "_view_module": "@jupyter-widgets/controls",
            "_view_module_version": "1.5.0",
            "_view_name": "HTMLView",
            "description": "",
            "description_tooltip": null,
            "layout": "IPY_MODEL_cbd1855e2f4a4a2d9d39dc6d9e163d88",
            "placeholder": "​",
            "style": "IPY_MODEL_4d7eb958c079414b8d0febef86108919",
            "value": " 4.48M/4.48M [00:00&lt;00:00, 9.46MB/s]"
          }
        },
        "a9b20705b4e94f709d91b9b144ee921f": {
          "model_module": "@jupyter-widgets/base",
          "model_name": "LayoutModel",
          "model_module_version": "1.2.0",
          "state": {
            "_model_module": "@jupyter-widgets/base",
            "_model_module_version": "1.2.0",
            "_model_name": "LayoutModel",
            "_view_count": null,
            "_view_module": "@jupyter-widgets/base",
            "_view_module_version": "1.2.0",
            "_view_name": "LayoutView",
            "align_content": null,
            "align_items": null,
            "align_self": null,
            "border": null,
            "bottom": null,
            "display": null,
            "flex": null,
            "flex_flow": null,
            "grid_area": null,
            "grid_auto_columns": null,
            "grid_auto_flow": null,
            "grid_auto_rows": null,
            "grid_column": null,
            "grid_gap": null,
            "grid_row": null,
            "grid_template_areas": null,
            "grid_template_columns": null,
            "grid_template_rows": null,
            "height": null,
            "justify_content": null,
            "justify_items": null,
            "left": null,
            "margin": null,
            "max_height": null,
            "max_width": null,
            "min_height": null,
            "min_width": null,
            "object_fit": null,
            "object_position": null,
            "order": null,
            "overflow": null,
            "overflow_x": null,
            "overflow_y": null,
            "padding": null,
            "right": null,
            "top": null,
            "visibility": null,
            "width": null
          }
        },
        "f517d1681c5d435fa5e023b1dd4509aa": {
          "model_module": "@jupyter-widgets/base",
          "model_name": "LayoutModel",
          "model_module_version": "1.2.0",
          "state": {
            "_model_module": "@jupyter-widgets/base",
            "_model_module_version": "1.2.0",
            "_model_name": "LayoutModel",
            "_view_count": null,
            "_view_module": "@jupyter-widgets/base",
            "_view_module_version": "1.2.0",
            "_view_name": "LayoutView",
            "align_content": null,
            "align_items": null,
            "align_self": null,
            "border": null,
            "bottom": null,
            "display": null,
            "flex": null,
            "flex_flow": null,
            "grid_area": null,
            "grid_auto_columns": null,
            "grid_auto_flow": null,
            "grid_auto_rows": null,
            "grid_column": null,
            "grid_gap": null,
            "grid_row": null,
            "grid_template_areas": null,
            "grid_template_columns": null,
            "grid_template_rows": null,
            "height": null,
            "justify_content": null,
            "justify_items": null,
            "left": null,
            "margin": null,
            "max_height": null,
            "max_width": null,
            "min_height": null,
            "min_width": null,
            "object_fit": null,
            "object_position": null,
            "order": null,
            "overflow": null,
            "overflow_x": null,
            "overflow_y": null,
            "padding": null,
            "right": null,
            "top": null,
            "visibility": null,
            "width": null
          }
        },
        "8f0f2cb80bc64043a8b787eb484c3843": {
          "model_module": "@jupyter-widgets/controls",
          "model_name": "DescriptionStyleModel",
          "model_module_version": "1.5.0",
          "state": {
            "_model_module": "@jupyter-widgets/controls",
            "_model_module_version": "1.5.0",
            "_model_name": "DescriptionStyleModel",
            "_view_count": null,
            "_view_module": "@jupyter-widgets/base",
            "_view_module_version": "1.2.0",
            "_view_name": "StyleView",
            "description_width": ""
          }
        },
        "92bd85bc99684d9c991a69e2fce5a943": {
          "model_module": "@jupyter-widgets/base",
          "model_name": "LayoutModel",
          "model_module_version": "1.2.0",
          "state": {
            "_model_module": "@jupyter-widgets/base",
            "_model_module_version": "1.2.0",
            "_model_name": "LayoutModel",
            "_view_count": null,
            "_view_module": "@jupyter-widgets/base",
            "_view_module_version": "1.2.0",
            "_view_name": "LayoutView",
            "align_content": null,
            "align_items": null,
            "align_self": null,
            "border": null,
            "bottom": null,
            "display": null,
            "flex": null,
            "flex_flow": null,
            "grid_area": null,
            "grid_auto_columns": null,
            "grid_auto_flow": null,
            "grid_auto_rows": null,
            "grid_column": null,
            "grid_gap": null,
            "grid_row": null,
            "grid_template_areas": null,
            "grid_template_columns": null,
            "grid_template_rows": null,
            "height": null,
            "justify_content": null,
            "justify_items": null,
            "left": null,
            "margin": null,
            "max_height": null,
            "max_width": null,
            "min_height": null,
            "min_width": null,
            "object_fit": null,
            "object_position": null,
            "order": null,
            "overflow": null,
            "overflow_x": null,
            "overflow_y": null,
            "padding": null,
            "right": null,
            "top": null,
            "visibility": null,
            "width": null
          }
        },
        "67711c54f8fb4bea9ae2dc031cef5fcd": {
          "model_module": "@jupyter-widgets/controls",
          "model_name": "ProgressStyleModel",
          "model_module_version": "1.5.0",
          "state": {
            "_model_module": "@jupyter-widgets/controls",
            "_model_module_version": "1.5.0",
            "_model_name": "ProgressStyleModel",
            "_view_count": null,
            "_view_module": "@jupyter-widgets/base",
            "_view_module_version": "1.2.0",
            "_view_name": "StyleView",
            "bar_color": null,
            "description_width": ""
          }
        },
        "cbd1855e2f4a4a2d9d39dc6d9e163d88": {
          "model_module": "@jupyter-widgets/base",
          "model_name": "LayoutModel",
          "model_module_version": "1.2.0",
          "state": {
            "_model_module": "@jupyter-widgets/base",
            "_model_module_version": "1.2.0",
            "_model_name": "LayoutModel",
            "_view_count": null,
            "_view_module": "@jupyter-widgets/base",
            "_view_module_version": "1.2.0",
            "_view_name": "LayoutView",
            "align_content": null,
            "align_items": null,
            "align_self": null,
            "border": null,
            "bottom": null,
            "display": null,
            "flex": null,
            "flex_flow": null,
            "grid_area": null,
            "grid_auto_columns": null,
            "grid_auto_flow": null,
            "grid_auto_rows": null,
            "grid_column": null,
            "grid_gap": null,
            "grid_row": null,
            "grid_template_areas": null,
            "grid_template_columns": null,
            "grid_template_rows": null,
            "height": null,
            "justify_content": null,
            "justify_items": null,
            "left": null,
            "margin": null,
            "max_height": null,
            "max_width": null,
            "min_height": null,
            "min_width": null,
            "object_fit": null,
            "object_position": null,
            "order": null,
            "overflow": null,
            "overflow_x": null,
            "overflow_y": null,
            "padding": null,
            "right": null,
            "top": null,
            "visibility": null,
            "width": null
          }
        },
        "4d7eb958c079414b8d0febef86108919": {
          "model_module": "@jupyter-widgets/controls",
          "model_name": "DescriptionStyleModel",
          "model_module_version": "1.5.0",
          "state": {
            "_model_module": "@jupyter-widgets/controls",
            "_model_module_version": "1.5.0",
            "_model_name": "DescriptionStyleModel",
            "_view_count": null,
            "_view_module": "@jupyter-widgets/base",
            "_view_module_version": "1.2.0",
            "_view_name": "StyleView",
            "description_width": ""
          }
        },
        "2956283caf7540dbb39c8f87abea32ee": {
          "model_module": "@jupyter-widgets/controls",
          "model_name": "HBoxModel",
          "model_module_version": "1.5.0",
          "state": {
            "_dom_classes": [],
            "_model_module": "@jupyter-widgets/controls",
            "_model_module_version": "1.5.0",
            "_model_name": "HBoxModel",
            "_view_count": null,
            "_view_module": "@jupyter-widgets/controls",
            "_view_module_version": "1.5.0",
            "_view_name": "HBoxView",
            "box_style": "",
            "children": [
              "IPY_MODEL_27678745908e40e8bd5abbe8ab0cefb4",
              "IPY_MODEL_daefe259e47f4257acc293844c468eeb",
              "IPY_MODEL_0fc8a77af7a34743ae16482b00af01d2"
            ],
            "layout": "IPY_MODEL_d31d7936a8e84f0495c7e244dcd917ef"
          }
        },
        "27678745908e40e8bd5abbe8ab0cefb4": {
          "model_module": "@jupyter-widgets/controls",
          "model_name": "HTMLModel",
          "model_module_version": "1.5.0",
          "state": {
            "_dom_classes": [],
            "_model_module": "@jupyter-widgets/controls",
            "_model_module_version": "1.5.0",
            "_model_name": "HTMLModel",
            "_view_count": null,
            "_view_module": "@jupyter-widgets/controls",
            "_view_module_version": "1.5.0",
            "_view_name": "HTMLView",
            "description": "",
            "description_tooltip": null,
            "layout": "IPY_MODEL_a80eba0bd65f465e83fcb60898386bd1",
            "placeholder": "​",
            "style": "IPY_MODEL_ca499179ea59452e9d65e5893394aded",
            "value": "Generating test split:  97%"
          }
        },
        "daefe259e47f4257acc293844c468eeb": {
          "model_module": "@jupyter-widgets/controls",
          "model_name": "FloatProgressModel",
          "model_module_version": "1.5.0",
          "state": {
            "_dom_classes": [],
            "_model_module": "@jupyter-widgets/controls",
            "_model_module_version": "1.5.0",
            "_model_name": "FloatProgressModel",
            "_view_count": null,
            "_view_module": "@jupyter-widgets/controls",
            "_view_module_version": "1.5.0",
            "_view_name": "ProgressView",
            "bar_style": "",
            "description": "",
            "description_tooltip": null,
            "layout": "IPY_MODEL_67eb3044960148a6b0559c87c7301404",
            "max": 4358,
            "min": 0,
            "orientation": "horizontal",
            "style": "IPY_MODEL_b46b73d100754790974812e16cb6b5f0",
            "value": 4358
          }
        },
        "0fc8a77af7a34743ae16482b00af01d2": {
          "model_module": "@jupyter-widgets/controls",
          "model_name": "HTMLModel",
          "model_module_version": "1.5.0",
          "state": {
            "_dom_classes": [],
            "_model_module": "@jupyter-widgets/controls",
            "_model_module_version": "1.5.0",
            "_model_name": "HTMLModel",
            "_view_count": null,
            "_view_module": "@jupyter-widgets/controls",
            "_view_module_version": "1.5.0",
            "_view_name": "HTMLView",
            "description": "",
            "description_tooltip": null,
            "layout": "IPY_MODEL_0c2b3be9261a421eb6ae887f37de0761",
            "placeholder": "​",
            "style": "IPY_MODEL_ba6d0ec737c64718af42c6e98e531d3b",
            "value": " 4244/4358 [00:00&lt;00:00, 16283.08 examples/s]"
          }
        },
        "d31d7936a8e84f0495c7e244dcd917ef": {
          "model_module": "@jupyter-widgets/base",
          "model_name": "LayoutModel",
          "model_module_version": "1.2.0",
          "state": {
            "_model_module": "@jupyter-widgets/base",
            "_model_module_version": "1.2.0",
            "_model_name": "LayoutModel",
            "_view_count": null,
            "_view_module": "@jupyter-widgets/base",
            "_view_module_version": "1.2.0",
            "_view_name": "LayoutView",
            "align_content": null,
            "align_items": null,
            "align_self": null,
            "border": null,
            "bottom": null,
            "display": null,
            "flex": null,
            "flex_flow": null,
            "grid_area": null,
            "grid_auto_columns": null,
            "grid_auto_flow": null,
            "grid_auto_rows": null,
            "grid_column": null,
            "grid_gap": null,
            "grid_row": null,
            "grid_template_areas": null,
            "grid_template_columns": null,
            "grid_template_rows": null,
            "height": null,
            "justify_content": null,
            "justify_items": null,
            "left": null,
            "margin": null,
            "max_height": null,
            "max_width": null,
            "min_height": null,
            "min_width": null,
            "object_fit": null,
            "object_position": null,
            "order": null,
            "overflow": null,
            "overflow_x": null,
            "overflow_y": null,
            "padding": null,
            "right": null,
            "top": null,
            "visibility": "hidden",
            "width": null
          }
        },
        "a80eba0bd65f465e83fcb60898386bd1": {
          "model_module": "@jupyter-widgets/base",
          "model_name": "LayoutModel",
          "model_module_version": "1.2.0",
          "state": {
            "_model_module": "@jupyter-widgets/base",
            "_model_module_version": "1.2.0",
            "_model_name": "LayoutModel",
            "_view_count": null,
            "_view_module": "@jupyter-widgets/base",
            "_view_module_version": "1.2.0",
            "_view_name": "LayoutView",
            "align_content": null,
            "align_items": null,
            "align_self": null,
            "border": null,
            "bottom": null,
            "display": null,
            "flex": null,
            "flex_flow": null,
            "grid_area": null,
            "grid_auto_columns": null,
            "grid_auto_flow": null,
            "grid_auto_rows": null,
            "grid_column": null,
            "grid_gap": null,
            "grid_row": null,
            "grid_template_areas": null,
            "grid_template_columns": null,
            "grid_template_rows": null,
            "height": null,
            "justify_content": null,
            "justify_items": null,
            "left": null,
            "margin": null,
            "max_height": null,
            "max_width": null,
            "min_height": null,
            "min_width": null,
            "object_fit": null,
            "object_position": null,
            "order": null,
            "overflow": null,
            "overflow_x": null,
            "overflow_y": null,
            "padding": null,
            "right": null,
            "top": null,
            "visibility": null,
            "width": null
          }
        },
        "ca499179ea59452e9d65e5893394aded": {
          "model_module": "@jupyter-widgets/controls",
          "model_name": "DescriptionStyleModel",
          "model_module_version": "1.5.0",
          "state": {
            "_model_module": "@jupyter-widgets/controls",
            "_model_module_version": "1.5.0",
            "_model_name": "DescriptionStyleModel",
            "_view_count": null,
            "_view_module": "@jupyter-widgets/base",
            "_view_module_version": "1.2.0",
            "_view_name": "StyleView",
            "description_width": ""
          }
        },
        "67eb3044960148a6b0559c87c7301404": {
          "model_module": "@jupyter-widgets/base",
          "model_name": "LayoutModel",
          "model_module_version": "1.2.0",
          "state": {
            "_model_module": "@jupyter-widgets/base",
            "_model_module_version": "1.2.0",
            "_model_name": "LayoutModel",
            "_view_count": null,
            "_view_module": "@jupyter-widgets/base",
            "_view_module_version": "1.2.0",
            "_view_name": "LayoutView",
            "align_content": null,
            "align_items": null,
            "align_self": null,
            "border": null,
            "bottom": null,
            "display": null,
            "flex": null,
            "flex_flow": null,
            "grid_area": null,
            "grid_auto_columns": null,
            "grid_auto_flow": null,
            "grid_auto_rows": null,
            "grid_column": null,
            "grid_gap": null,
            "grid_row": null,
            "grid_template_areas": null,
            "grid_template_columns": null,
            "grid_template_rows": null,
            "height": null,
            "justify_content": null,
            "justify_items": null,
            "left": null,
            "margin": null,
            "max_height": null,
            "max_width": null,
            "min_height": null,
            "min_width": null,
            "object_fit": null,
            "object_position": null,
            "order": null,
            "overflow": null,
            "overflow_x": null,
            "overflow_y": null,
            "padding": null,
            "right": null,
            "top": null,
            "visibility": null,
            "width": null
          }
        },
        "b46b73d100754790974812e16cb6b5f0": {
          "model_module": "@jupyter-widgets/controls",
          "model_name": "ProgressStyleModel",
          "model_module_version": "1.5.0",
          "state": {
            "_model_module": "@jupyter-widgets/controls",
            "_model_module_version": "1.5.0",
            "_model_name": "ProgressStyleModel",
            "_view_count": null,
            "_view_module": "@jupyter-widgets/base",
            "_view_module_version": "1.2.0",
            "_view_name": "StyleView",
            "bar_color": null,
            "description_width": ""
          }
        },
        "0c2b3be9261a421eb6ae887f37de0761": {
          "model_module": "@jupyter-widgets/base",
          "model_name": "LayoutModel",
          "model_module_version": "1.2.0",
          "state": {
            "_model_module": "@jupyter-widgets/base",
            "_model_module_version": "1.2.0",
            "_model_name": "LayoutModel",
            "_view_count": null,
            "_view_module": "@jupyter-widgets/base",
            "_view_module_version": "1.2.0",
            "_view_name": "LayoutView",
            "align_content": null,
            "align_items": null,
            "align_self": null,
            "border": null,
            "bottom": null,
            "display": null,
            "flex": null,
            "flex_flow": null,
            "grid_area": null,
            "grid_auto_columns": null,
            "grid_auto_flow": null,
            "grid_auto_rows": null,
            "grid_column": null,
            "grid_gap": null,
            "grid_row": null,
            "grid_template_areas": null,
            "grid_template_columns": null,
            "grid_template_rows": null,
            "height": null,
            "justify_content": null,
            "justify_items": null,
            "left": null,
            "margin": null,
            "max_height": null,
            "max_width": null,
            "min_height": null,
            "min_width": null,
            "object_fit": null,
            "object_position": null,
            "order": null,
            "overflow": null,
            "overflow_x": null,
            "overflow_y": null,
            "padding": null,
            "right": null,
            "top": null,
            "visibility": null,
            "width": null
          }
        },
        "ba6d0ec737c64718af42c6e98e531d3b": {
          "model_module": "@jupyter-widgets/controls",
          "model_name": "DescriptionStyleModel",
          "model_module_version": "1.5.0",
          "state": {
            "_model_module": "@jupyter-widgets/controls",
            "_model_module_version": "1.5.0",
            "_model_name": "DescriptionStyleModel",
            "_view_count": null,
            "_view_module": "@jupyter-widgets/base",
            "_view_module_version": "1.2.0",
            "_view_name": "StyleView",
            "description_width": ""
          }
        },
        "3d18121c6d71488eb769f245bce9c777": {
          "model_module": "@jupyter-widgets/controls",
          "model_name": "HBoxModel",
          "model_module_version": "1.5.0",
          "state": {
            "_dom_classes": [],
            "_model_module": "@jupyter-widgets/controls",
            "_model_module_version": "1.5.0",
            "_model_name": "HBoxModel",
            "_view_count": null,
            "_view_module": "@jupyter-widgets/controls",
            "_view_module_version": "1.5.0",
            "_view_name": "HBoxView",
            "box_style": "",
            "children": [
              "IPY_MODEL_b070881b572c4f21b0751e0cd777bdd1",
              "IPY_MODEL_a9494b9e25bb461ba45b3146333c8691",
              "IPY_MODEL_4ecd0fde47684f57a714dc1cc3d5d1c6"
            ],
            "layout": "IPY_MODEL_ce0e75233d25444e8c9b94121b283844"
          }
        },
        "b070881b572c4f21b0751e0cd777bdd1": {
          "model_module": "@jupyter-widgets/controls",
          "model_name": "HTMLModel",
          "model_module_version": "1.5.0",
          "state": {
            "_dom_classes": [],
            "_model_module": "@jupyter-widgets/controls",
            "_model_module_version": "1.5.0",
            "_model_name": "HTMLModel",
            "_view_count": null,
            "_view_module": "@jupyter-widgets/controls",
            "_view_module_version": "1.5.0",
            "_view_name": "HTMLView",
            "description": "",
            "description_tooltip": null,
            "layout": "IPY_MODEL_6197b07efa624e769d32ef29c3079056",
            "placeholder": "​",
            "style": "IPY_MODEL_75e0de297ce54ea7ad35ca15b4e8cc02",
            "value": "Generating train split:  95%"
          }
        },
        "a9494b9e25bb461ba45b3146333c8691": {
          "model_module": "@jupyter-widgets/controls",
          "model_name": "FloatProgressModel",
          "model_module_version": "1.5.0",
          "state": {
            "_dom_classes": [],
            "_model_module": "@jupyter-widgets/controls",
            "_model_module_version": "1.5.0",
            "_model_name": "FloatProgressModel",
            "_view_count": null,
            "_view_module": "@jupyter-widgets/controls",
            "_view_module_version": "1.5.0",
            "_view_name": "ProgressView",
            "bar_style": "",
            "description": "",
            "description_tooltip": null,
            "layout": "IPY_MODEL_e9e50bb76abc46abbd58a53e649d90d6",
            "max": 36718,
            "min": 0,
            "orientation": "horizontal",
            "style": "IPY_MODEL_d51c108b88d84ed6bab23f799b6acce7",
            "value": 36718
          }
        },
        "4ecd0fde47684f57a714dc1cc3d5d1c6": {
          "model_module": "@jupyter-widgets/controls",
          "model_name": "HTMLModel",
          "model_module_version": "1.5.0",
          "state": {
            "_dom_classes": [],
            "_model_module": "@jupyter-widgets/controls",
            "_model_module_version": "1.5.0",
            "_model_name": "HTMLModel",
            "_view_count": null,
            "_view_module": "@jupyter-widgets/controls",
            "_view_module_version": "1.5.0",
            "_view_name": "HTMLView",
            "description": "",
            "description_tooltip": null,
            "layout": "IPY_MODEL_8b955126ee7c4b1aac23aeb364381233",
            "placeholder": "​",
            "style": "IPY_MODEL_d069ce64cd5045d6b72e486765fc1d70",
            "value": " 34882/36718 [00:01&lt;00:00, 24364.60 examples/s]"
          }
        },
        "ce0e75233d25444e8c9b94121b283844": {
          "model_module": "@jupyter-widgets/base",
          "model_name": "LayoutModel",
          "model_module_version": "1.2.0",
          "state": {
            "_model_module": "@jupyter-widgets/base",
            "_model_module_version": "1.2.0",
            "_model_name": "LayoutModel",
            "_view_count": null,
            "_view_module": "@jupyter-widgets/base",
            "_view_module_version": "1.2.0",
            "_view_name": "LayoutView",
            "align_content": null,
            "align_items": null,
            "align_self": null,
            "border": null,
            "bottom": null,
            "display": null,
            "flex": null,
            "flex_flow": null,
            "grid_area": null,
            "grid_auto_columns": null,
            "grid_auto_flow": null,
            "grid_auto_rows": null,
            "grid_column": null,
            "grid_gap": null,
            "grid_row": null,
            "grid_template_areas": null,
            "grid_template_columns": null,
            "grid_template_rows": null,
            "height": null,
            "justify_content": null,
            "justify_items": null,
            "left": null,
            "margin": null,
            "max_height": null,
            "max_width": null,
            "min_height": null,
            "min_width": null,
            "object_fit": null,
            "object_position": null,
            "order": null,
            "overflow": null,
            "overflow_x": null,
            "overflow_y": null,
            "padding": null,
            "right": null,
            "top": null,
            "visibility": "hidden",
            "width": null
          }
        },
        "6197b07efa624e769d32ef29c3079056": {
          "model_module": "@jupyter-widgets/base",
          "model_name": "LayoutModel",
          "model_module_version": "1.2.0",
          "state": {
            "_model_module": "@jupyter-widgets/base",
            "_model_module_version": "1.2.0",
            "_model_name": "LayoutModel",
            "_view_count": null,
            "_view_module": "@jupyter-widgets/base",
            "_view_module_version": "1.2.0",
            "_view_name": "LayoutView",
            "align_content": null,
            "align_items": null,
            "align_self": null,
            "border": null,
            "bottom": null,
            "display": null,
            "flex": null,
            "flex_flow": null,
            "grid_area": null,
            "grid_auto_columns": null,
            "grid_auto_flow": null,
            "grid_auto_rows": null,
            "grid_column": null,
            "grid_gap": null,
            "grid_row": null,
            "grid_template_areas": null,
            "grid_template_columns": null,
            "grid_template_rows": null,
            "height": null,
            "justify_content": null,
            "justify_items": null,
            "left": null,
            "margin": null,
            "max_height": null,
            "max_width": null,
            "min_height": null,
            "min_width": null,
            "object_fit": null,
            "object_position": null,
            "order": null,
            "overflow": null,
            "overflow_x": null,
            "overflow_y": null,
            "padding": null,
            "right": null,
            "top": null,
            "visibility": null,
            "width": null
          }
        },
        "75e0de297ce54ea7ad35ca15b4e8cc02": {
          "model_module": "@jupyter-widgets/controls",
          "model_name": "DescriptionStyleModel",
          "model_module_version": "1.5.0",
          "state": {
            "_model_module": "@jupyter-widgets/controls",
            "_model_module_version": "1.5.0",
            "_model_name": "DescriptionStyleModel",
            "_view_count": null,
            "_view_module": "@jupyter-widgets/base",
            "_view_module_version": "1.2.0",
            "_view_name": "StyleView",
            "description_width": ""
          }
        },
        "e9e50bb76abc46abbd58a53e649d90d6": {
          "model_module": "@jupyter-widgets/base",
          "model_name": "LayoutModel",
          "model_module_version": "1.2.0",
          "state": {
            "_model_module": "@jupyter-widgets/base",
            "_model_module_version": "1.2.0",
            "_model_name": "LayoutModel",
            "_view_count": null,
            "_view_module": "@jupyter-widgets/base",
            "_view_module_version": "1.2.0",
            "_view_name": "LayoutView",
            "align_content": null,
            "align_items": null,
            "align_self": null,
            "border": null,
            "bottom": null,
            "display": null,
            "flex": null,
            "flex_flow": null,
            "grid_area": null,
            "grid_auto_columns": null,
            "grid_auto_flow": null,
            "grid_auto_rows": null,
            "grid_column": null,
            "grid_gap": null,
            "grid_row": null,
            "grid_template_areas": null,
            "grid_template_columns": null,
            "grid_template_rows": null,
            "height": null,
            "justify_content": null,
            "justify_items": null,
            "left": null,
            "margin": null,
            "max_height": null,
            "max_width": null,
            "min_height": null,
            "min_width": null,
            "object_fit": null,
            "object_position": null,
            "order": null,
            "overflow": null,
            "overflow_x": null,
            "overflow_y": null,
            "padding": null,
            "right": null,
            "top": null,
            "visibility": null,
            "width": null
          }
        },
        "d51c108b88d84ed6bab23f799b6acce7": {
          "model_module": "@jupyter-widgets/controls",
          "model_name": "ProgressStyleModel",
          "model_module_version": "1.5.0",
          "state": {
            "_model_module": "@jupyter-widgets/controls",
            "_model_module_version": "1.5.0",
            "_model_name": "ProgressStyleModel",
            "_view_count": null,
            "_view_module": "@jupyter-widgets/base",
            "_view_module_version": "1.2.0",
            "_view_name": "StyleView",
            "bar_color": null,
            "description_width": ""
          }
        },
        "8b955126ee7c4b1aac23aeb364381233": {
          "model_module": "@jupyter-widgets/base",
          "model_name": "LayoutModel",
          "model_module_version": "1.2.0",
          "state": {
            "_model_module": "@jupyter-widgets/base",
            "_model_module_version": "1.2.0",
            "_model_name": "LayoutModel",
            "_view_count": null,
            "_view_module": "@jupyter-widgets/base",
            "_view_module_version": "1.2.0",
            "_view_name": "LayoutView",
            "align_content": null,
            "align_items": null,
            "align_self": null,
            "border": null,
            "bottom": null,
            "display": null,
            "flex": null,
            "flex_flow": null,
            "grid_area": null,
            "grid_auto_columns": null,
            "grid_auto_flow": null,
            "grid_auto_rows": null,
            "grid_column": null,
            "grid_gap": null,
            "grid_row": null,
            "grid_template_areas": null,
            "grid_template_columns": null,
            "grid_template_rows": null,
            "height": null,
            "justify_content": null,
            "justify_items": null,
            "left": null,
            "margin": null,
            "max_height": null,
            "max_width": null,
            "min_height": null,
            "min_width": null,
            "object_fit": null,
            "object_position": null,
            "order": null,
            "overflow": null,
            "overflow_x": null,
            "overflow_y": null,
            "padding": null,
            "right": null,
            "top": null,
            "visibility": null,
            "width": null
          }
        },
        "d069ce64cd5045d6b72e486765fc1d70": {
          "model_module": "@jupyter-widgets/controls",
          "model_name": "DescriptionStyleModel",
          "model_module_version": "1.5.0",
          "state": {
            "_model_module": "@jupyter-widgets/controls",
            "_model_module_version": "1.5.0",
            "_model_name": "DescriptionStyleModel",
            "_view_count": null,
            "_view_module": "@jupyter-widgets/base",
            "_view_module_version": "1.2.0",
            "_view_name": "StyleView",
            "description_width": ""
          }
        },
        "3d643013c2044d0ea070f9c4c1d1817f": {
          "model_module": "@jupyter-widgets/controls",
          "model_name": "HBoxModel",
          "model_module_version": "1.5.0",
          "state": {
            "_dom_classes": [],
            "_model_module": "@jupyter-widgets/controls",
            "_model_module_version": "1.5.0",
            "_model_name": "HBoxModel",
            "_view_count": null,
            "_view_module": "@jupyter-widgets/controls",
            "_view_module_version": "1.5.0",
            "_view_name": "HBoxView",
            "box_style": "",
            "children": [
              "IPY_MODEL_5b10d4b51cc94a92b79b9597ba21c1a1",
              "IPY_MODEL_107b596c8c21472c9c8b5c1fece15040",
              "IPY_MODEL_2e5c07d224684f0888cf4ae0917b8437"
            ],
            "layout": "IPY_MODEL_6b8c508b411b4f5795156693baf797de"
          }
        },
        "5b10d4b51cc94a92b79b9597ba21c1a1": {
          "model_module": "@jupyter-widgets/controls",
          "model_name": "HTMLModel",
          "model_module_version": "1.5.0",
          "state": {
            "_dom_classes": [],
            "_model_module": "@jupyter-widgets/controls",
            "_model_module_version": "1.5.0",
            "_model_name": "HTMLModel",
            "_view_count": null,
            "_view_module": "@jupyter-widgets/controls",
            "_view_module_version": "1.5.0",
            "_view_name": "HTMLView",
            "description": "",
            "description_tooltip": null,
            "layout": "IPY_MODEL_68243d59fe6745cf92440953219b223b",
            "placeholder": "​",
            "style": "IPY_MODEL_9dddd657a56343fba0f09658cfe9cdea",
            "value": "Generating validation split:  80%"
          }
        },
        "107b596c8c21472c9c8b5c1fece15040": {
          "model_module": "@jupyter-widgets/controls",
          "model_name": "FloatProgressModel",
          "model_module_version": "1.5.0",
          "state": {
            "_dom_classes": [],
            "_model_module": "@jupyter-widgets/controls",
            "_model_module_version": "1.5.0",
            "_model_name": "FloatProgressModel",
            "_view_count": null,
            "_view_module": "@jupyter-widgets/controls",
            "_view_module_version": "1.5.0",
            "_view_name": "ProgressView",
            "bar_style": "",
            "description": "",
            "description_tooltip": null,
            "layout": "IPY_MODEL_b38578446b9a4b008afae64b42d8b82e",
            "max": 3760,
            "min": 0,
            "orientation": "horizontal",
            "style": "IPY_MODEL_92d424875a4842049ba21364ab6b7cb6",
            "value": 3760
          }
        },
        "2e5c07d224684f0888cf4ae0917b8437": {
          "model_module": "@jupyter-widgets/controls",
          "model_name": "HTMLModel",
          "model_module_version": "1.5.0",
          "state": {
            "_dom_classes": [],
            "_model_module": "@jupyter-widgets/controls",
            "_model_module_version": "1.5.0",
            "_model_name": "HTMLModel",
            "_view_count": null,
            "_view_module": "@jupyter-widgets/controls",
            "_view_module_version": "1.5.0",
            "_view_name": "HTMLView",
            "description": "",
            "description_tooltip": null,
            "layout": "IPY_MODEL_33769559dae047b5b6811e8a26a9f254",
            "placeholder": "​",
            "style": "IPY_MODEL_392f823db33d459db3626a38fd6f51a7",
            "value": " 2991/3760 [00:00&lt;00:00, 16569.49 examples/s]"
          }
        },
        "6b8c508b411b4f5795156693baf797de": {
          "model_module": "@jupyter-widgets/base",
          "model_name": "LayoutModel",
          "model_module_version": "1.2.0",
          "state": {
            "_model_module": "@jupyter-widgets/base",
            "_model_module_version": "1.2.0",
            "_model_name": "LayoutModel",
            "_view_count": null,
            "_view_module": "@jupyter-widgets/base",
            "_view_module_version": "1.2.0",
            "_view_name": "LayoutView",
            "align_content": null,
            "align_items": null,
            "align_self": null,
            "border": null,
            "bottom": null,
            "display": null,
            "flex": null,
            "flex_flow": null,
            "grid_area": null,
            "grid_auto_columns": null,
            "grid_auto_flow": null,
            "grid_auto_rows": null,
            "grid_column": null,
            "grid_gap": null,
            "grid_row": null,
            "grid_template_areas": null,
            "grid_template_columns": null,
            "grid_template_rows": null,
            "height": null,
            "justify_content": null,
            "justify_items": null,
            "left": null,
            "margin": null,
            "max_height": null,
            "max_width": null,
            "min_height": null,
            "min_width": null,
            "object_fit": null,
            "object_position": null,
            "order": null,
            "overflow": null,
            "overflow_x": null,
            "overflow_y": null,
            "padding": null,
            "right": null,
            "top": null,
            "visibility": "hidden",
            "width": null
          }
        },
        "68243d59fe6745cf92440953219b223b": {
          "model_module": "@jupyter-widgets/base",
          "model_name": "LayoutModel",
          "model_module_version": "1.2.0",
          "state": {
            "_model_module": "@jupyter-widgets/base",
            "_model_module_version": "1.2.0",
            "_model_name": "LayoutModel",
            "_view_count": null,
            "_view_module": "@jupyter-widgets/base",
            "_view_module_version": "1.2.0",
            "_view_name": "LayoutView",
            "align_content": null,
            "align_items": null,
            "align_self": null,
            "border": null,
            "bottom": null,
            "display": null,
            "flex": null,
            "flex_flow": null,
            "grid_area": null,
            "grid_auto_columns": null,
            "grid_auto_flow": null,
            "grid_auto_rows": null,
            "grid_column": null,
            "grid_gap": null,
            "grid_row": null,
            "grid_template_areas": null,
            "grid_template_columns": null,
            "grid_template_rows": null,
            "height": null,
            "justify_content": null,
            "justify_items": null,
            "left": null,
            "margin": null,
            "max_height": null,
            "max_width": null,
            "min_height": null,
            "min_width": null,
            "object_fit": null,
            "object_position": null,
            "order": null,
            "overflow": null,
            "overflow_x": null,
            "overflow_y": null,
            "padding": null,
            "right": null,
            "top": null,
            "visibility": null,
            "width": null
          }
        },
        "9dddd657a56343fba0f09658cfe9cdea": {
          "model_module": "@jupyter-widgets/controls",
          "model_name": "DescriptionStyleModel",
          "model_module_version": "1.5.0",
          "state": {
            "_model_module": "@jupyter-widgets/controls",
            "_model_module_version": "1.5.0",
            "_model_name": "DescriptionStyleModel",
            "_view_count": null,
            "_view_module": "@jupyter-widgets/base",
            "_view_module_version": "1.2.0",
            "_view_name": "StyleView",
            "description_width": ""
          }
        },
        "b38578446b9a4b008afae64b42d8b82e": {
          "model_module": "@jupyter-widgets/base",
          "model_name": "LayoutModel",
          "model_module_version": "1.2.0",
          "state": {
            "_model_module": "@jupyter-widgets/base",
            "_model_module_version": "1.2.0",
            "_model_name": "LayoutModel",
            "_view_count": null,
            "_view_module": "@jupyter-widgets/base",
            "_view_module_version": "1.2.0",
            "_view_name": "LayoutView",
            "align_content": null,
            "align_items": null,
            "align_self": null,
            "border": null,
            "bottom": null,
            "display": null,
            "flex": null,
            "flex_flow": null,
            "grid_area": null,
            "grid_auto_columns": null,
            "grid_auto_flow": null,
            "grid_auto_rows": null,
            "grid_column": null,
            "grid_gap": null,
            "grid_row": null,
            "grid_template_areas": null,
            "grid_template_columns": null,
            "grid_template_rows": null,
            "height": null,
            "justify_content": null,
            "justify_items": null,
            "left": null,
            "margin": null,
            "max_height": null,
            "max_width": null,
            "min_height": null,
            "min_width": null,
            "object_fit": null,
            "object_position": null,
            "order": null,
            "overflow": null,
            "overflow_x": null,
            "overflow_y": null,
            "padding": null,
            "right": null,
            "top": null,
            "visibility": null,
            "width": null
          }
        },
        "92d424875a4842049ba21364ab6b7cb6": {
          "model_module": "@jupyter-widgets/controls",
          "model_name": "ProgressStyleModel",
          "model_module_version": "1.5.0",
          "state": {
            "_model_module": "@jupyter-widgets/controls",
            "_model_module_version": "1.5.0",
            "_model_name": "ProgressStyleModel",
            "_view_count": null,
            "_view_module": "@jupyter-widgets/base",
            "_view_module_version": "1.2.0",
            "_view_name": "StyleView",
            "bar_color": null,
            "description_width": ""
          }
        },
        "33769559dae047b5b6811e8a26a9f254": {
          "model_module": "@jupyter-widgets/base",
          "model_name": "LayoutModel",
          "model_module_version": "1.2.0",
          "state": {
            "_model_module": "@jupyter-widgets/base",
            "_model_module_version": "1.2.0",
            "_model_name": "LayoutModel",
            "_view_count": null,
            "_view_module": "@jupyter-widgets/base",
            "_view_module_version": "1.2.0",
            "_view_name": "LayoutView",
            "align_content": null,
            "align_items": null,
            "align_self": null,
            "border": null,
            "bottom": null,
            "display": null,
            "flex": null,
            "flex_flow": null,
            "grid_area": null,
            "grid_auto_columns": null,
            "grid_auto_flow": null,
            "grid_auto_rows": null,
            "grid_column": null,
            "grid_gap": null,
            "grid_row": null,
            "grid_template_areas": null,
            "grid_template_columns": null,
            "grid_template_rows": null,
            "height": null,
            "justify_content": null,
            "justify_items": null,
            "left": null,
            "margin": null,
            "max_height": null,
            "max_width": null,
            "min_height": null,
            "min_width": null,
            "object_fit": null,
            "object_position": null,
            "order": null,
            "overflow": null,
            "overflow_x": null,
            "overflow_y": null,
            "padding": null,
            "right": null,
            "top": null,
            "visibility": null,
            "width": null
          }
        },
        "392f823db33d459db3626a38fd6f51a7": {
          "model_module": "@jupyter-widgets/controls",
          "model_name": "DescriptionStyleModel",
          "model_module_version": "1.5.0",
          "state": {
            "_model_module": "@jupyter-widgets/controls",
            "_model_module_version": "1.5.0",
            "_model_name": "DescriptionStyleModel",
            "_view_count": null,
            "_view_module": "@jupyter-widgets/base",
            "_view_module_version": "1.2.0",
            "_view_name": "StyleView",
            "description_width": ""
          }
        },
        "182955a38d6643b296b0f2dc6524e7f5": {
          "model_module": "@jupyter-widgets/controls",
          "model_name": "HBoxModel",
          "model_module_version": "1.5.0",
          "state": {
            "_dom_classes": [],
            "_model_module": "@jupyter-widgets/controls",
            "_model_module_version": "1.5.0",
            "_model_name": "HBoxModel",
            "_view_count": null,
            "_view_module": "@jupyter-widgets/controls",
            "_view_module_version": "1.5.0",
            "_view_name": "HBoxView",
            "box_style": "",
            "children": [
              "IPY_MODEL_dc7dc4908a5c4259b12d9847389822fb",
              "IPY_MODEL_015b7928130c41e0ad07a7b1c928da7d",
              "IPY_MODEL_459e4dcb41d54db1ba98f119b0702ae2"
            ],
            "layout": "IPY_MODEL_d86f27b4a92f42869a8209b9e870221b"
          }
        },
        "dc7dc4908a5c4259b12d9847389822fb": {
          "model_module": "@jupyter-widgets/controls",
          "model_name": "HTMLModel",
          "model_module_version": "1.5.0",
          "state": {
            "_dom_classes": [],
            "_model_module": "@jupyter-widgets/controls",
            "_model_module_version": "1.5.0",
            "_model_name": "HTMLModel",
            "_view_count": null,
            "_view_module": "@jupyter-widgets/controls",
            "_view_module_version": "1.5.0",
            "_view_name": "HTMLView",
            "description": "",
            "description_tooltip": null,
            "layout": "IPY_MODEL_862327c5995345d697371781d44c1bd4",
            "placeholder": "​",
            "style": "IPY_MODEL_cd7c5499334148099f2ef68372f86a7d",
            "value": "100%"
          }
        },
        "015b7928130c41e0ad07a7b1c928da7d": {
          "model_module": "@jupyter-widgets/controls",
          "model_name": "FloatProgressModel",
          "model_module_version": "1.5.0",
          "state": {
            "_dom_classes": [],
            "_model_module": "@jupyter-widgets/controls",
            "_model_module_version": "1.5.0",
            "_model_name": "FloatProgressModel",
            "_view_count": null,
            "_view_module": "@jupyter-widgets/controls",
            "_view_module_version": "1.5.0",
            "_view_name": "ProgressView",
            "bar_style": "success",
            "description": "",
            "description_tooltip": null,
            "layout": "IPY_MODEL_84536714ebf748a7a7334f024d9426b7",
            "max": 3,
            "min": 0,
            "orientation": "horizontal",
            "style": "IPY_MODEL_a36aa4a6c522416b86729660385f62e0",
            "value": 3
          }
        },
        "459e4dcb41d54db1ba98f119b0702ae2": {
          "model_module": "@jupyter-widgets/controls",
          "model_name": "HTMLModel",
          "model_module_version": "1.5.0",
          "state": {
            "_dom_classes": [],
            "_model_module": "@jupyter-widgets/controls",
            "_model_module_version": "1.5.0",
            "_model_name": "HTMLModel",
            "_view_count": null,
            "_view_module": "@jupyter-widgets/controls",
            "_view_module_version": "1.5.0",
            "_view_name": "HTMLView",
            "description": "",
            "description_tooltip": null,
            "layout": "IPY_MODEL_7c8cf79a3e024e3d9ce6872c6ed2efda",
            "placeholder": "​",
            "style": "IPY_MODEL_96a9b533c7844c3890fc37908f05cf4f",
            "value": " 3/3 [00:00&lt;00:00, 35.55it/s]"
          }
        },
        "d86f27b4a92f42869a8209b9e870221b": {
          "model_module": "@jupyter-widgets/base",
          "model_name": "LayoutModel",
          "model_module_version": "1.2.0",
          "state": {
            "_model_module": "@jupyter-widgets/base",
            "_model_module_version": "1.2.0",
            "_model_name": "LayoutModel",
            "_view_count": null,
            "_view_module": "@jupyter-widgets/base",
            "_view_module_version": "1.2.0",
            "_view_name": "LayoutView",
            "align_content": null,
            "align_items": null,
            "align_self": null,
            "border": null,
            "bottom": null,
            "display": null,
            "flex": null,
            "flex_flow": null,
            "grid_area": null,
            "grid_auto_columns": null,
            "grid_auto_flow": null,
            "grid_auto_rows": null,
            "grid_column": null,
            "grid_gap": null,
            "grid_row": null,
            "grid_template_areas": null,
            "grid_template_columns": null,
            "grid_template_rows": null,
            "height": null,
            "justify_content": null,
            "justify_items": null,
            "left": null,
            "margin": null,
            "max_height": null,
            "max_width": null,
            "min_height": null,
            "min_width": null,
            "object_fit": null,
            "object_position": null,
            "order": null,
            "overflow": null,
            "overflow_x": null,
            "overflow_y": null,
            "padding": null,
            "right": null,
            "top": null,
            "visibility": null,
            "width": null
          }
        },
        "862327c5995345d697371781d44c1bd4": {
          "model_module": "@jupyter-widgets/base",
          "model_name": "LayoutModel",
          "model_module_version": "1.2.0",
          "state": {
            "_model_module": "@jupyter-widgets/base",
            "_model_module_version": "1.2.0",
            "_model_name": "LayoutModel",
            "_view_count": null,
            "_view_module": "@jupyter-widgets/base",
            "_view_module_version": "1.2.0",
            "_view_name": "LayoutView",
            "align_content": null,
            "align_items": null,
            "align_self": null,
            "border": null,
            "bottom": null,
            "display": null,
            "flex": null,
            "flex_flow": null,
            "grid_area": null,
            "grid_auto_columns": null,
            "grid_auto_flow": null,
            "grid_auto_rows": null,
            "grid_column": null,
            "grid_gap": null,
            "grid_row": null,
            "grid_template_areas": null,
            "grid_template_columns": null,
            "grid_template_rows": null,
            "height": null,
            "justify_content": null,
            "justify_items": null,
            "left": null,
            "margin": null,
            "max_height": null,
            "max_width": null,
            "min_height": null,
            "min_width": null,
            "object_fit": null,
            "object_position": null,
            "order": null,
            "overflow": null,
            "overflow_x": null,
            "overflow_y": null,
            "padding": null,
            "right": null,
            "top": null,
            "visibility": null,
            "width": null
          }
        },
        "cd7c5499334148099f2ef68372f86a7d": {
          "model_module": "@jupyter-widgets/controls",
          "model_name": "DescriptionStyleModel",
          "model_module_version": "1.5.0",
          "state": {
            "_model_module": "@jupyter-widgets/controls",
            "_model_module_version": "1.5.0",
            "_model_name": "DescriptionStyleModel",
            "_view_count": null,
            "_view_module": "@jupyter-widgets/base",
            "_view_module_version": "1.2.0",
            "_view_name": "StyleView",
            "description_width": ""
          }
        },
        "84536714ebf748a7a7334f024d9426b7": {
          "model_module": "@jupyter-widgets/base",
          "model_name": "LayoutModel",
          "model_module_version": "1.2.0",
          "state": {
            "_model_module": "@jupyter-widgets/base",
            "_model_module_version": "1.2.0",
            "_model_name": "LayoutModel",
            "_view_count": null,
            "_view_module": "@jupyter-widgets/base",
            "_view_module_version": "1.2.0",
            "_view_name": "LayoutView",
            "align_content": null,
            "align_items": null,
            "align_self": null,
            "border": null,
            "bottom": null,
            "display": null,
            "flex": null,
            "flex_flow": null,
            "grid_area": null,
            "grid_auto_columns": null,
            "grid_auto_flow": null,
            "grid_auto_rows": null,
            "grid_column": null,
            "grid_gap": null,
            "grid_row": null,
            "grid_template_areas": null,
            "grid_template_columns": null,
            "grid_template_rows": null,
            "height": null,
            "justify_content": null,
            "justify_items": null,
            "left": null,
            "margin": null,
            "max_height": null,
            "max_width": null,
            "min_height": null,
            "min_width": null,
            "object_fit": null,
            "object_position": null,
            "order": null,
            "overflow": null,
            "overflow_x": null,
            "overflow_y": null,
            "padding": null,
            "right": null,
            "top": null,
            "visibility": null,
            "width": null
          }
        },
        "a36aa4a6c522416b86729660385f62e0": {
          "model_module": "@jupyter-widgets/controls",
          "model_name": "ProgressStyleModel",
          "model_module_version": "1.5.0",
          "state": {
            "_model_module": "@jupyter-widgets/controls",
            "_model_module_version": "1.5.0",
            "_model_name": "ProgressStyleModel",
            "_view_count": null,
            "_view_module": "@jupyter-widgets/base",
            "_view_module_version": "1.2.0",
            "_view_name": "StyleView",
            "bar_color": null,
            "description_width": ""
          }
        },
        "7c8cf79a3e024e3d9ce6872c6ed2efda": {
          "model_module": "@jupyter-widgets/base",
          "model_name": "LayoutModel",
          "model_module_version": "1.2.0",
          "state": {
            "_model_module": "@jupyter-widgets/base",
            "_model_module_version": "1.2.0",
            "_model_name": "LayoutModel",
            "_view_count": null,
            "_view_module": "@jupyter-widgets/base",
            "_view_module_version": "1.2.0",
            "_view_name": "LayoutView",
            "align_content": null,
            "align_items": null,
            "align_self": null,
            "border": null,
            "bottom": null,
            "display": null,
            "flex": null,
            "flex_flow": null,
            "grid_area": null,
            "grid_auto_columns": null,
            "grid_auto_flow": null,
            "grid_auto_rows": null,
            "grid_column": null,
            "grid_gap": null,
            "grid_row": null,
            "grid_template_areas": null,
            "grid_template_columns": null,
            "grid_template_rows": null,
            "height": null,
            "justify_content": null,
            "justify_items": null,
            "left": null,
            "margin": null,
            "max_height": null,
            "max_width": null,
            "min_height": null,
            "min_width": null,
            "object_fit": null,
            "object_position": null,
            "order": null,
            "overflow": null,
            "overflow_x": null,
            "overflow_y": null,
            "padding": null,
            "right": null,
            "top": null,
            "visibility": null,
            "width": null
          }
        },
        "96a9b533c7844c3890fc37908f05cf4f": {
          "model_module": "@jupyter-widgets/controls",
          "model_name": "DescriptionStyleModel",
          "model_module_version": "1.5.0",
          "state": {
            "_model_module": "@jupyter-widgets/controls",
            "_model_module_version": "1.5.0",
            "_model_name": "DescriptionStyleModel",
            "_view_count": null,
            "_view_module": "@jupyter-widgets/base",
            "_view_module_version": "1.2.0",
            "_view_name": "StyleView",
            "description_width": ""
          }
        },
        "4afcb46a05af4936922f2a495d540663": {
          "model_module": "@jupyter-widgets/controls",
          "model_name": "HBoxModel",
          "model_module_version": "1.5.0",
          "state": {
            "_dom_classes": [],
            "_model_module": "@jupyter-widgets/controls",
            "_model_module_version": "1.5.0",
            "_model_name": "HBoxModel",
            "_view_count": null,
            "_view_module": "@jupyter-widgets/controls",
            "_view_module_version": "1.5.0",
            "_view_name": "HBoxView",
            "box_style": "",
            "children": [
              "IPY_MODEL_1a00b11f5095475ab543236df20348a6",
              "IPY_MODEL_ec5ef0a63c594b63a27c80f398c33943",
              "IPY_MODEL_17990e802ee949459dd5b1d217da680c"
            ],
            "layout": "IPY_MODEL_480a78b458c546d2b013805c1af9630e"
          }
        },
        "1a00b11f5095475ab543236df20348a6": {
          "model_module": "@jupyter-widgets/controls",
          "model_name": "HTMLModel",
          "model_module_version": "1.5.0",
          "state": {
            "_dom_classes": [],
            "_model_module": "@jupyter-widgets/controls",
            "_model_module_version": "1.5.0",
            "_model_name": "HTMLModel",
            "_view_count": null,
            "_view_module": "@jupyter-widgets/controls",
            "_view_module_version": "1.5.0",
            "_view_name": "HTMLView",
            "description": "",
            "description_tooltip": null,
            "layout": "IPY_MODEL_67171a5991b0468588377a80f9a58c87",
            "placeholder": "​",
            "style": "IPY_MODEL_6c22befee16340429a272a585f00fffb",
            "value": "Downloading: 100%"
          }
        },
        "ec5ef0a63c594b63a27c80f398c33943": {
          "model_module": "@jupyter-widgets/controls",
          "model_name": "FloatProgressModel",
          "model_module_version": "1.5.0",
          "state": {
            "_dom_classes": [],
            "_model_module": "@jupyter-widgets/controls",
            "_model_module_version": "1.5.0",
            "_model_name": "FloatProgressModel",
            "_view_count": null,
            "_view_module": "@jupyter-widgets/controls",
            "_view_module_version": "1.5.0",
            "_view_name": "ProgressView",
            "bar_style": "success",
            "description": "",
            "description_tooltip": null,
            "layout": "IPY_MODEL_b6b5a0e858264ba8a1d46b480daaf65d",
            "max": 231508,
            "min": 0,
            "orientation": "horizontal",
            "style": "IPY_MODEL_9c05423239634430b26f99919406409a",
            "value": 231508
          }
        },
        "17990e802ee949459dd5b1d217da680c": {
          "model_module": "@jupyter-widgets/controls",
          "model_name": "HTMLModel",
          "model_module_version": "1.5.0",
          "state": {
            "_dom_classes": [],
            "_model_module": "@jupyter-widgets/controls",
            "_model_module_version": "1.5.0",
            "_model_name": "HTMLModel",
            "_view_count": null,
            "_view_module": "@jupyter-widgets/controls",
            "_view_module_version": "1.5.0",
            "_view_name": "HTMLView",
            "description": "",
            "description_tooltip": null,
            "layout": "IPY_MODEL_e418528c9453484bba75743e54dc460b",
            "placeholder": "​",
            "style": "IPY_MODEL_db4a36a2ebb74f35b6aef0651e624b1a",
            "value": " 232k/232k [00:00&lt;00:00, 248kB/s]"
          }
        },
        "480a78b458c546d2b013805c1af9630e": {
          "model_module": "@jupyter-widgets/base",
          "model_name": "LayoutModel",
          "model_module_version": "1.2.0",
          "state": {
            "_model_module": "@jupyter-widgets/base",
            "_model_module_version": "1.2.0",
            "_model_name": "LayoutModel",
            "_view_count": null,
            "_view_module": "@jupyter-widgets/base",
            "_view_module_version": "1.2.0",
            "_view_name": "LayoutView",
            "align_content": null,
            "align_items": null,
            "align_self": null,
            "border": null,
            "bottom": null,
            "display": null,
            "flex": null,
            "flex_flow": null,
            "grid_area": null,
            "grid_auto_columns": null,
            "grid_auto_flow": null,
            "grid_auto_rows": null,
            "grid_column": null,
            "grid_gap": null,
            "grid_row": null,
            "grid_template_areas": null,
            "grid_template_columns": null,
            "grid_template_rows": null,
            "height": null,
            "justify_content": null,
            "justify_items": null,
            "left": null,
            "margin": null,
            "max_height": null,
            "max_width": null,
            "min_height": null,
            "min_width": null,
            "object_fit": null,
            "object_position": null,
            "order": null,
            "overflow": null,
            "overflow_x": null,
            "overflow_y": null,
            "padding": null,
            "right": null,
            "top": null,
            "visibility": null,
            "width": null
          }
        },
        "67171a5991b0468588377a80f9a58c87": {
          "model_module": "@jupyter-widgets/base",
          "model_name": "LayoutModel",
          "model_module_version": "1.2.0",
          "state": {
            "_model_module": "@jupyter-widgets/base",
            "_model_module_version": "1.2.0",
            "_model_name": "LayoutModel",
            "_view_count": null,
            "_view_module": "@jupyter-widgets/base",
            "_view_module_version": "1.2.0",
            "_view_name": "LayoutView",
            "align_content": null,
            "align_items": null,
            "align_self": null,
            "border": null,
            "bottom": null,
            "display": null,
            "flex": null,
            "flex_flow": null,
            "grid_area": null,
            "grid_auto_columns": null,
            "grid_auto_flow": null,
            "grid_auto_rows": null,
            "grid_column": null,
            "grid_gap": null,
            "grid_row": null,
            "grid_template_areas": null,
            "grid_template_columns": null,
            "grid_template_rows": null,
            "height": null,
            "justify_content": null,
            "justify_items": null,
            "left": null,
            "margin": null,
            "max_height": null,
            "max_width": null,
            "min_height": null,
            "min_width": null,
            "object_fit": null,
            "object_position": null,
            "order": null,
            "overflow": null,
            "overflow_x": null,
            "overflow_y": null,
            "padding": null,
            "right": null,
            "top": null,
            "visibility": null,
            "width": null
          }
        },
        "6c22befee16340429a272a585f00fffb": {
          "model_module": "@jupyter-widgets/controls",
          "model_name": "DescriptionStyleModel",
          "model_module_version": "1.5.0",
          "state": {
            "_model_module": "@jupyter-widgets/controls",
            "_model_module_version": "1.5.0",
            "_model_name": "DescriptionStyleModel",
            "_view_count": null,
            "_view_module": "@jupyter-widgets/base",
            "_view_module_version": "1.2.0",
            "_view_name": "StyleView",
            "description_width": ""
          }
        },
        "b6b5a0e858264ba8a1d46b480daaf65d": {
          "model_module": "@jupyter-widgets/base",
          "model_name": "LayoutModel",
          "model_module_version": "1.2.0",
          "state": {
            "_model_module": "@jupyter-widgets/base",
            "_model_module_version": "1.2.0",
            "_model_name": "LayoutModel",
            "_view_count": null,
            "_view_module": "@jupyter-widgets/base",
            "_view_module_version": "1.2.0",
            "_view_name": "LayoutView",
            "align_content": null,
            "align_items": null,
            "align_self": null,
            "border": null,
            "bottom": null,
            "display": null,
            "flex": null,
            "flex_flow": null,
            "grid_area": null,
            "grid_auto_columns": null,
            "grid_auto_flow": null,
            "grid_auto_rows": null,
            "grid_column": null,
            "grid_gap": null,
            "grid_row": null,
            "grid_template_areas": null,
            "grid_template_columns": null,
            "grid_template_rows": null,
            "height": null,
            "justify_content": null,
            "justify_items": null,
            "left": null,
            "margin": null,
            "max_height": null,
            "max_width": null,
            "min_height": null,
            "min_width": null,
            "object_fit": null,
            "object_position": null,
            "order": null,
            "overflow": null,
            "overflow_x": null,
            "overflow_y": null,
            "padding": null,
            "right": null,
            "top": null,
            "visibility": null,
            "width": null
          }
        },
        "9c05423239634430b26f99919406409a": {
          "model_module": "@jupyter-widgets/controls",
          "model_name": "ProgressStyleModel",
          "model_module_version": "1.5.0",
          "state": {
            "_model_module": "@jupyter-widgets/controls",
            "_model_module_version": "1.5.0",
            "_model_name": "ProgressStyleModel",
            "_view_count": null,
            "_view_module": "@jupyter-widgets/base",
            "_view_module_version": "1.2.0",
            "_view_name": "StyleView",
            "bar_color": null,
            "description_width": ""
          }
        },
        "e418528c9453484bba75743e54dc460b": {
          "model_module": "@jupyter-widgets/base",
          "model_name": "LayoutModel",
          "model_module_version": "1.2.0",
          "state": {
            "_model_module": "@jupyter-widgets/base",
            "_model_module_version": "1.2.0",
            "_model_name": "LayoutModel",
            "_view_count": null,
            "_view_module": "@jupyter-widgets/base",
            "_view_module_version": "1.2.0",
            "_view_name": "LayoutView",
            "align_content": null,
            "align_items": null,
            "align_self": null,
            "border": null,
            "bottom": null,
            "display": null,
            "flex": null,
            "flex_flow": null,
            "grid_area": null,
            "grid_auto_columns": null,
            "grid_auto_flow": null,
            "grid_auto_rows": null,
            "grid_column": null,
            "grid_gap": null,
            "grid_row": null,
            "grid_template_areas": null,
            "grid_template_columns": null,
            "grid_template_rows": null,
            "height": null,
            "justify_content": null,
            "justify_items": null,
            "left": null,
            "margin": null,
            "max_height": null,
            "max_width": null,
            "min_height": null,
            "min_width": null,
            "object_fit": null,
            "object_position": null,
            "order": null,
            "overflow": null,
            "overflow_x": null,
            "overflow_y": null,
            "padding": null,
            "right": null,
            "top": null,
            "visibility": null,
            "width": null
          }
        },
        "db4a36a2ebb74f35b6aef0651e624b1a": {
          "model_module": "@jupyter-widgets/controls",
          "model_name": "DescriptionStyleModel",
          "model_module_version": "1.5.0",
          "state": {
            "_model_module": "@jupyter-widgets/controls",
            "_model_module_version": "1.5.0",
            "_model_name": "DescriptionStyleModel",
            "_view_count": null,
            "_view_module": "@jupyter-widgets/base",
            "_view_module_version": "1.2.0",
            "_view_name": "StyleView",
            "description_width": ""
          }
        },
        "842316af08954317bb1e3b0e5b9bb890": {
          "model_module": "@jupyter-widgets/controls",
          "model_name": "HBoxModel",
          "model_module_version": "1.5.0",
          "state": {
            "_dom_classes": [],
            "_model_module": "@jupyter-widgets/controls",
            "_model_module_version": "1.5.0",
            "_model_name": "HBoxModel",
            "_view_count": null,
            "_view_module": "@jupyter-widgets/controls",
            "_view_module_version": "1.5.0",
            "_view_name": "HBoxView",
            "box_style": "",
            "children": [
              "IPY_MODEL_9f7be092691b491295fcadf8286d1c10",
              "IPY_MODEL_8c07b74dda0242bdb1921a4b22b7457d",
              "IPY_MODEL_34cde99b64e348b68be9151b772395fd"
            ],
            "layout": "IPY_MODEL_42ed3d44f1df4e3dbe5a07227d259a76"
          }
        },
        "9f7be092691b491295fcadf8286d1c10": {
          "model_module": "@jupyter-widgets/controls",
          "model_name": "HTMLModel",
          "model_module_version": "1.5.0",
          "state": {
            "_dom_classes": [],
            "_model_module": "@jupyter-widgets/controls",
            "_model_module_version": "1.5.0",
            "_model_name": "HTMLModel",
            "_view_count": null,
            "_view_module": "@jupyter-widgets/controls",
            "_view_module_version": "1.5.0",
            "_view_name": "HTMLView",
            "description": "",
            "description_tooltip": null,
            "layout": "IPY_MODEL_39c25b8f874541929c076143e08e9c81",
            "placeholder": "​",
            "style": "IPY_MODEL_f0dfd1907b6645f38b646149616ed339",
            "value": "Downloading: 100%"
          }
        },
        "8c07b74dda0242bdb1921a4b22b7457d": {
          "model_module": "@jupyter-widgets/controls",
          "model_name": "FloatProgressModel",
          "model_module_version": "1.5.0",
          "state": {
            "_dom_classes": [],
            "_model_module": "@jupyter-widgets/controls",
            "_model_module_version": "1.5.0",
            "_model_name": "FloatProgressModel",
            "_view_count": null,
            "_view_module": "@jupyter-widgets/controls",
            "_view_module_version": "1.5.0",
            "_view_name": "ProgressView",
            "bar_style": "success",
            "description": "",
            "description_tooltip": null,
            "layout": "IPY_MODEL_430abbc86a33446792a340794710f69a",
            "max": 28,
            "min": 0,
            "orientation": "horizontal",
            "style": "IPY_MODEL_d87ccf0d00984a9db11c797d0805fef7",
            "value": 28
          }
        },
        "34cde99b64e348b68be9151b772395fd": {
          "model_module": "@jupyter-widgets/controls",
          "model_name": "HTMLModel",
          "model_module_version": "1.5.0",
          "state": {
            "_dom_classes": [],
            "_model_module": "@jupyter-widgets/controls",
            "_model_module_version": "1.5.0",
            "_model_name": "HTMLModel",
            "_view_count": null,
            "_view_module": "@jupyter-widgets/controls",
            "_view_module_version": "1.5.0",
            "_view_name": "HTMLView",
            "description": "",
            "description_tooltip": null,
            "layout": "IPY_MODEL_7b6b8bd19f784fc5a6bebdef69172c3e",
            "placeholder": "​",
            "style": "IPY_MODEL_6c96d2d2d4844723b03f9de763382c1c",
            "value": " 28.0/28.0 [00:00&lt;00:00, 944B/s]"
          }
        },
        "42ed3d44f1df4e3dbe5a07227d259a76": {
          "model_module": "@jupyter-widgets/base",
          "model_name": "LayoutModel",
          "model_module_version": "1.2.0",
          "state": {
            "_model_module": "@jupyter-widgets/base",
            "_model_module_version": "1.2.0",
            "_model_name": "LayoutModel",
            "_view_count": null,
            "_view_module": "@jupyter-widgets/base",
            "_view_module_version": "1.2.0",
            "_view_name": "LayoutView",
            "align_content": null,
            "align_items": null,
            "align_self": null,
            "border": null,
            "bottom": null,
            "display": null,
            "flex": null,
            "flex_flow": null,
            "grid_area": null,
            "grid_auto_columns": null,
            "grid_auto_flow": null,
            "grid_auto_rows": null,
            "grid_column": null,
            "grid_gap": null,
            "grid_row": null,
            "grid_template_areas": null,
            "grid_template_columns": null,
            "grid_template_rows": null,
            "height": null,
            "justify_content": null,
            "justify_items": null,
            "left": null,
            "margin": null,
            "max_height": null,
            "max_width": null,
            "min_height": null,
            "min_width": null,
            "object_fit": null,
            "object_position": null,
            "order": null,
            "overflow": null,
            "overflow_x": null,
            "overflow_y": null,
            "padding": null,
            "right": null,
            "top": null,
            "visibility": null,
            "width": null
          }
        },
        "39c25b8f874541929c076143e08e9c81": {
          "model_module": "@jupyter-widgets/base",
          "model_name": "LayoutModel",
          "model_module_version": "1.2.0",
          "state": {
            "_model_module": "@jupyter-widgets/base",
            "_model_module_version": "1.2.0",
            "_model_name": "LayoutModel",
            "_view_count": null,
            "_view_module": "@jupyter-widgets/base",
            "_view_module_version": "1.2.0",
            "_view_name": "LayoutView",
            "align_content": null,
            "align_items": null,
            "align_self": null,
            "border": null,
            "bottom": null,
            "display": null,
            "flex": null,
            "flex_flow": null,
            "grid_area": null,
            "grid_auto_columns": null,
            "grid_auto_flow": null,
            "grid_auto_rows": null,
            "grid_column": null,
            "grid_gap": null,
            "grid_row": null,
            "grid_template_areas": null,
            "grid_template_columns": null,
            "grid_template_rows": null,
            "height": null,
            "justify_content": null,
            "justify_items": null,
            "left": null,
            "margin": null,
            "max_height": null,
            "max_width": null,
            "min_height": null,
            "min_width": null,
            "object_fit": null,
            "object_position": null,
            "order": null,
            "overflow": null,
            "overflow_x": null,
            "overflow_y": null,
            "padding": null,
            "right": null,
            "top": null,
            "visibility": null,
            "width": null
          }
        },
        "f0dfd1907b6645f38b646149616ed339": {
          "model_module": "@jupyter-widgets/controls",
          "model_name": "DescriptionStyleModel",
          "model_module_version": "1.5.0",
          "state": {
            "_model_module": "@jupyter-widgets/controls",
            "_model_module_version": "1.5.0",
            "_model_name": "DescriptionStyleModel",
            "_view_count": null,
            "_view_module": "@jupyter-widgets/base",
            "_view_module_version": "1.2.0",
            "_view_name": "StyleView",
            "description_width": ""
          }
        },
        "430abbc86a33446792a340794710f69a": {
          "model_module": "@jupyter-widgets/base",
          "model_name": "LayoutModel",
          "model_module_version": "1.2.0",
          "state": {
            "_model_module": "@jupyter-widgets/base",
            "_model_module_version": "1.2.0",
            "_model_name": "LayoutModel",
            "_view_count": null,
            "_view_module": "@jupyter-widgets/base",
            "_view_module_version": "1.2.0",
            "_view_name": "LayoutView",
            "align_content": null,
            "align_items": null,
            "align_self": null,
            "border": null,
            "bottom": null,
            "display": null,
            "flex": null,
            "flex_flow": null,
            "grid_area": null,
            "grid_auto_columns": null,
            "grid_auto_flow": null,
            "grid_auto_rows": null,
            "grid_column": null,
            "grid_gap": null,
            "grid_row": null,
            "grid_template_areas": null,
            "grid_template_columns": null,
            "grid_template_rows": null,
            "height": null,
            "justify_content": null,
            "justify_items": null,
            "left": null,
            "margin": null,
            "max_height": null,
            "max_width": null,
            "min_height": null,
            "min_width": null,
            "object_fit": null,
            "object_position": null,
            "order": null,
            "overflow": null,
            "overflow_x": null,
            "overflow_y": null,
            "padding": null,
            "right": null,
            "top": null,
            "visibility": null,
            "width": null
          }
        },
        "d87ccf0d00984a9db11c797d0805fef7": {
          "model_module": "@jupyter-widgets/controls",
          "model_name": "ProgressStyleModel",
          "model_module_version": "1.5.0",
          "state": {
            "_model_module": "@jupyter-widgets/controls",
            "_model_module_version": "1.5.0",
            "_model_name": "ProgressStyleModel",
            "_view_count": null,
            "_view_module": "@jupyter-widgets/base",
            "_view_module_version": "1.2.0",
            "_view_name": "StyleView",
            "bar_color": null,
            "description_width": ""
          }
        },
        "7b6b8bd19f784fc5a6bebdef69172c3e": {
          "model_module": "@jupyter-widgets/base",
          "model_name": "LayoutModel",
          "model_module_version": "1.2.0",
          "state": {
            "_model_module": "@jupyter-widgets/base",
            "_model_module_version": "1.2.0",
            "_model_name": "LayoutModel",
            "_view_count": null,
            "_view_module": "@jupyter-widgets/base",
            "_view_module_version": "1.2.0",
            "_view_name": "LayoutView",
            "align_content": null,
            "align_items": null,
            "align_self": null,
            "border": null,
            "bottom": null,
            "display": null,
            "flex": null,
            "flex_flow": null,
            "grid_area": null,
            "grid_auto_columns": null,
            "grid_auto_flow": null,
            "grid_auto_rows": null,
            "grid_column": null,
            "grid_gap": null,
            "grid_row": null,
            "grid_template_areas": null,
            "grid_template_columns": null,
            "grid_template_rows": null,
            "height": null,
            "justify_content": null,
            "justify_items": null,
            "left": null,
            "margin": null,
            "max_height": null,
            "max_width": null,
            "min_height": null,
            "min_width": null,
            "object_fit": null,
            "object_position": null,
            "order": null,
            "overflow": null,
            "overflow_x": null,
            "overflow_y": null,
            "padding": null,
            "right": null,
            "top": null,
            "visibility": null,
            "width": null
          }
        },
        "6c96d2d2d4844723b03f9de763382c1c": {
          "model_module": "@jupyter-widgets/controls",
          "model_name": "DescriptionStyleModel",
          "model_module_version": "1.5.0",
          "state": {
            "_model_module": "@jupyter-widgets/controls",
            "_model_module_version": "1.5.0",
            "_model_name": "DescriptionStyleModel",
            "_view_count": null,
            "_view_module": "@jupyter-widgets/base",
            "_view_module_version": "1.2.0",
            "_view_name": "StyleView",
            "description_width": ""
          }
        },
        "c7806a0453b24ff3b733b4b461a449a7": {
          "model_module": "@jupyter-widgets/controls",
          "model_name": "HBoxModel",
          "model_module_version": "1.5.0",
          "state": {
            "_dom_classes": [],
            "_model_module": "@jupyter-widgets/controls",
            "_model_module_version": "1.5.0",
            "_model_name": "HBoxModel",
            "_view_count": null,
            "_view_module": "@jupyter-widgets/controls",
            "_view_module_version": "1.5.0",
            "_view_name": "HBoxView",
            "box_style": "",
            "children": [
              "IPY_MODEL_c552d23e180e4b73bbe8b1765131df1d",
              "IPY_MODEL_3b77d529cc76457d8dfe472d915b8a76",
              "IPY_MODEL_4b4f8c040d194300a06ddb0e6459f3aa"
            ],
            "layout": "IPY_MODEL_d17ecb6dfe0847c4813f0fc5d0252758"
          }
        },
        "c552d23e180e4b73bbe8b1765131df1d": {
          "model_module": "@jupyter-widgets/controls",
          "model_name": "HTMLModel",
          "model_module_version": "1.5.0",
          "state": {
            "_dom_classes": [],
            "_model_module": "@jupyter-widgets/controls",
            "_model_module_version": "1.5.0",
            "_model_name": "HTMLModel",
            "_view_count": null,
            "_view_module": "@jupyter-widgets/controls",
            "_view_module_version": "1.5.0",
            "_view_name": "HTMLView",
            "description": "",
            "description_tooltip": null,
            "layout": "IPY_MODEL_d6779c77534d4f2784bd3c5ca3231595",
            "placeholder": "​",
            "style": "IPY_MODEL_a83a11e16ad546d7bf9e8c5d1dafd6bb",
            "value": "Downloading: 100%"
          }
        },
        "3b77d529cc76457d8dfe472d915b8a76": {
          "model_module": "@jupyter-widgets/controls",
          "model_name": "FloatProgressModel",
          "model_module_version": "1.5.0",
          "state": {
            "_dom_classes": [],
            "_model_module": "@jupyter-widgets/controls",
            "_model_module_version": "1.5.0",
            "_model_name": "FloatProgressModel",
            "_view_count": null,
            "_view_module": "@jupyter-widgets/controls",
            "_view_module_version": "1.5.0",
            "_view_name": "ProgressView",
            "bar_style": "success",
            "description": "",
            "description_tooltip": null,
            "layout": "IPY_MODEL_6407efa9bda0407aa7fce69d09720f09",
            "max": 570,
            "min": 0,
            "orientation": "horizontal",
            "style": "IPY_MODEL_9d5a40f7d51149ad98c9c9891c1ad59f",
            "value": 570
          }
        },
        "4b4f8c040d194300a06ddb0e6459f3aa": {
          "model_module": "@jupyter-widgets/controls",
          "model_name": "HTMLModel",
          "model_module_version": "1.5.0",
          "state": {
            "_dom_classes": [],
            "_model_module": "@jupyter-widgets/controls",
            "_model_module_version": "1.5.0",
            "_model_name": "HTMLModel",
            "_view_count": null,
            "_view_module": "@jupyter-widgets/controls",
            "_view_module_version": "1.5.0",
            "_view_name": "HTMLView",
            "description": "",
            "description_tooltip": null,
            "layout": "IPY_MODEL_f862daa1da5d4046808e9538a37d57d4",
            "placeholder": "​",
            "style": "IPY_MODEL_f5a43aff492641b5904209cd248d248e",
            "value": " 570/570 [00:00&lt;00:00, 19.0kB/s]"
          }
        },
        "d17ecb6dfe0847c4813f0fc5d0252758": {
          "model_module": "@jupyter-widgets/base",
          "model_name": "LayoutModel",
          "model_module_version": "1.2.0",
          "state": {
            "_model_module": "@jupyter-widgets/base",
            "_model_module_version": "1.2.0",
            "_model_name": "LayoutModel",
            "_view_count": null,
            "_view_module": "@jupyter-widgets/base",
            "_view_module_version": "1.2.0",
            "_view_name": "LayoutView",
            "align_content": null,
            "align_items": null,
            "align_self": null,
            "border": null,
            "bottom": null,
            "display": null,
            "flex": null,
            "flex_flow": null,
            "grid_area": null,
            "grid_auto_columns": null,
            "grid_auto_flow": null,
            "grid_auto_rows": null,
            "grid_column": null,
            "grid_gap": null,
            "grid_row": null,
            "grid_template_areas": null,
            "grid_template_columns": null,
            "grid_template_rows": null,
            "height": null,
            "justify_content": null,
            "justify_items": null,
            "left": null,
            "margin": null,
            "max_height": null,
            "max_width": null,
            "min_height": null,
            "min_width": null,
            "object_fit": null,
            "object_position": null,
            "order": null,
            "overflow": null,
            "overflow_x": null,
            "overflow_y": null,
            "padding": null,
            "right": null,
            "top": null,
            "visibility": null,
            "width": null
          }
        },
        "d6779c77534d4f2784bd3c5ca3231595": {
          "model_module": "@jupyter-widgets/base",
          "model_name": "LayoutModel",
          "model_module_version": "1.2.0",
          "state": {
            "_model_module": "@jupyter-widgets/base",
            "_model_module_version": "1.2.0",
            "_model_name": "LayoutModel",
            "_view_count": null,
            "_view_module": "@jupyter-widgets/base",
            "_view_module_version": "1.2.0",
            "_view_name": "LayoutView",
            "align_content": null,
            "align_items": null,
            "align_self": null,
            "border": null,
            "bottom": null,
            "display": null,
            "flex": null,
            "flex_flow": null,
            "grid_area": null,
            "grid_auto_columns": null,
            "grid_auto_flow": null,
            "grid_auto_rows": null,
            "grid_column": null,
            "grid_gap": null,
            "grid_row": null,
            "grid_template_areas": null,
            "grid_template_columns": null,
            "grid_template_rows": null,
            "height": null,
            "justify_content": null,
            "justify_items": null,
            "left": null,
            "margin": null,
            "max_height": null,
            "max_width": null,
            "min_height": null,
            "min_width": null,
            "object_fit": null,
            "object_position": null,
            "order": null,
            "overflow": null,
            "overflow_x": null,
            "overflow_y": null,
            "padding": null,
            "right": null,
            "top": null,
            "visibility": null,
            "width": null
          }
        },
        "a83a11e16ad546d7bf9e8c5d1dafd6bb": {
          "model_module": "@jupyter-widgets/controls",
          "model_name": "DescriptionStyleModel",
          "model_module_version": "1.5.0",
          "state": {
            "_model_module": "@jupyter-widgets/controls",
            "_model_module_version": "1.5.0",
            "_model_name": "DescriptionStyleModel",
            "_view_count": null,
            "_view_module": "@jupyter-widgets/base",
            "_view_module_version": "1.2.0",
            "_view_name": "StyleView",
            "description_width": ""
          }
        },
        "6407efa9bda0407aa7fce69d09720f09": {
          "model_module": "@jupyter-widgets/base",
          "model_name": "LayoutModel",
          "model_module_version": "1.2.0",
          "state": {
            "_model_module": "@jupyter-widgets/base",
            "_model_module_version": "1.2.0",
            "_model_name": "LayoutModel",
            "_view_count": null,
            "_view_module": "@jupyter-widgets/base",
            "_view_module_version": "1.2.0",
            "_view_name": "LayoutView",
            "align_content": null,
            "align_items": null,
            "align_self": null,
            "border": null,
            "bottom": null,
            "display": null,
            "flex": null,
            "flex_flow": null,
            "grid_area": null,
            "grid_auto_columns": null,
            "grid_auto_flow": null,
            "grid_auto_rows": null,
            "grid_column": null,
            "grid_gap": null,
            "grid_row": null,
            "grid_template_areas": null,
            "grid_template_columns": null,
            "grid_template_rows": null,
            "height": null,
            "justify_content": null,
            "justify_items": null,
            "left": null,
            "margin": null,
            "max_height": null,
            "max_width": null,
            "min_height": null,
            "min_width": null,
            "object_fit": null,
            "object_position": null,
            "order": null,
            "overflow": null,
            "overflow_x": null,
            "overflow_y": null,
            "padding": null,
            "right": null,
            "top": null,
            "visibility": null,
            "width": null
          }
        },
        "9d5a40f7d51149ad98c9c9891c1ad59f": {
          "model_module": "@jupyter-widgets/controls",
          "model_name": "ProgressStyleModel",
          "model_module_version": "1.5.0",
          "state": {
            "_model_module": "@jupyter-widgets/controls",
            "_model_module_version": "1.5.0",
            "_model_name": "ProgressStyleModel",
            "_view_count": null,
            "_view_module": "@jupyter-widgets/base",
            "_view_module_version": "1.2.0",
            "_view_name": "StyleView",
            "bar_color": null,
            "description_width": ""
          }
        },
        "f862daa1da5d4046808e9538a37d57d4": {
          "model_module": "@jupyter-widgets/base",
          "model_name": "LayoutModel",
          "model_module_version": "1.2.0",
          "state": {
            "_model_module": "@jupyter-widgets/base",
            "_model_module_version": "1.2.0",
            "_model_name": "LayoutModel",
            "_view_count": null,
            "_view_module": "@jupyter-widgets/base",
            "_view_module_version": "1.2.0",
            "_view_name": "LayoutView",
            "align_content": null,
            "align_items": null,
            "align_self": null,
            "border": null,
            "bottom": null,
            "display": null,
            "flex": null,
            "flex_flow": null,
            "grid_area": null,
            "grid_auto_columns": null,
            "grid_auto_flow": null,
            "grid_auto_rows": null,
            "grid_column": null,
            "grid_gap": null,
            "grid_row": null,
            "grid_template_areas": null,
            "grid_template_columns": null,
            "grid_template_rows": null,
            "height": null,
            "justify_content": null,
            "justify_items": null,
            "left": null,
            "margin": null,
            "max_height": null,
            "max_width": null,
            "min_height": null,
            "min_width": null,
            "object_fit": null,
            "object_position": null,
            "order": null,
            "overflow": null,
            "overflow_x": null,
            "overflow_y": null,
            "padding": null,
            "right": null,
            "top": null,
            "visibility": null,
            "width": null
          }
        },
        "f5a43aff492641b5904209cd248d248e": {
          "model_module": "@jupyter-widgets/controls",
          "model_name": "DescriptionStyleModel",
          "model_module_version": "1.5.0",
          "state": {
            "_model_module": "@jupyter-widgets/controls",
            "_model_module_version": "1.5.0",
            "_model_name": "DescriptionStyleModel",
            "_view_count": null,
            "_view_module": "@jupyter-widgets/base",
            "_view_module_version": "1.2.0",
            "_view_name": "StyleView",
            "description_width": ""
          }
        }
      }
    }
  },
  "nbformat": 4,
  "nbformat_minor": 0
}